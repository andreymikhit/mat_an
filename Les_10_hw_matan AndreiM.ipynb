{
  "nbformat": 4,
  "nbformat_minor": 0,
  "metadata": {
    "colab": {
      "name": "Lesson_10_hw_AndreiM.ipynb",
      "provenance": [],
      "collapsed_sections": []
    },
    "kernelspec": {
      "display_name": "Python 3",
      "language": "python",
      "name": "python3"
    },
    "language_info": {
      "codemirror_mode": {
        "name": "ipython",
        "version": 3
      },
      "file_extension": ".py",
      "mimetype": "text/x-python",
      "name": "python",
      "nbconvert_exporter": "python",
      "pygments_lexer": "ipython3",
      "version": "3.7.9"
    }
  },
  "cells": [
    {
      "cell_type": "markdown",
      "metadata": {
        "id": "zz7SDkPIkVlM"
      },
      "source": [
        "# Урок 10. ДЗ (07.02.2021)\n",
        "# Матанализ"
      ]
    },
    {
      "cell_type": "markdown",
      "metadata": {
        "id": "ClaQabBVkAO6"
      },
      "source": [
        "* [Теория](#theor)\n",
        "* [Практическое задание. ДЗ.](#ex)\n",
        "    * [Задание 1](#ex1)\n",
        "    * [Задание 2](#ex2)\n",
        "    * [Задание 3](#ex3)\n",
        "    * [Задание 4](#ex4)\n",
        "    * [Задание 5](#ex5)\n",
        "    * [Задание 6](#ex6)    "
      ]
    },
    {
      "cell_type": "markdown",
      "metadata": {
        "id": "o4-jKrmjkPl9"
      },
      "source": [
        "# <center>Теория <a class=\"anchor\" id=\"theor\"></a><center>"
      ]
    },
    {
      "cell_type": "markdown",
      "metadata": {
        "id": "p_3vqG5-kVlP"
      },
      "source": [
        "# Ряды"
      ]
    },
    {
      "cell_type": "markdown",
      "metadata": {
        "id": "HqYljkq6je9M"
      },
      "source": [
        "Сегодня на уроке мы познакомимся с новыми темами:\n",
        "\n",
        "- сходимость знакопостоянных рядов;\n",
        "- сходимость знакопеременных рядов;\n",
        "- ряд Тейлора (Маклорена);\n",
        "- ряд Фурье."
      ]
    },
    {
      "cell_type": "markdown",
      "metadata": {
        "id": "GRE54OKeje9P"
      },
      "source": [
        "### Определение "
      ]
    },
    {
      "cell_type": "markdown",
      "metadata": {
        "id": "IjfU7NNAje9P"
      },
      "source": [
        "Определение ряда напрямую связано с последовательностями, которые мы проходили на первых уроках. По сути ряд - это бесконечная \"сумма\" элементов последовательности. \n",
        "\n",
        "### $$a_{1}+a_{2}+a_{3}+\\,...\\,+a_{n}+\\,...\\,=\\sum\\limits_{n=1}^{+\\infty}a_{n}$$\n",
        "\n",
        "__Почему сумма в кавычках?__ Потому что разность $2-3$ мы так же можем считать суммой двух чисел $2$ и $-3$. Т.е. $2+(-3)$."
      ]
    },
    {
      "cell_type": "markdown",
      "metadata": {
        "id": "IWXvGwkbje9P"
      },
      "source": [
        "### Сходимость"
      ]
    },
    {
      "cell_type": "markdown",
      "metadata": {
        "id": "B0GtN9BBje9R"
      },
      "source": [
        "Что значит сходимость ряда? Это значит что мы можем найти сумму ряда. Т.е. сумма не растет до бесконечности, а собирается в определенное число. \n",
        "\n",
        "Самым простым примером сходящегося ряда является бесконечно убывающая геометрическая прогрессия. Например:\n",
        "\n",
        "### $$\\sum\\limits_{n=1}^{+\\infty}\\frac{1}{2^n}=\\frac{1}{2}+\\frac{1}{4}+\\frac{1}{8}+\\,...\\,=\\frac{a_{1}}{1-q}=\\frac{\\frac{1}{2}}{1-\\frac{1}{2}}=1$$\n",
        "\n",
        "__Необходимым условием__ сходимости любого ряда является стремлению к нулю главного члена ряда. \n",
        "\n",
        "### $$\\lim_{n\\to +\\infty}a_{n}=0$$\n",
        "\n",
        "__Достаточных условий__ довольно много. Чтобы их легче усвоить, разобьём их на две группы:  для знакопостоянных рядов и для знакопеременных рядов.\n",
        "\n",
        "Пример знакопостоянного ряда:\n",
        "\n",
        "### $$1+2+3+4+5+\\,...$$\n",
        "\n",
        "Пример знакопеременного ряда:\n",
        "\n",
        "### $$1-2+3-4+5-\\,...$$\n",
        "\n",
        "Достаточной одной смены знака для того, чтобы ряд считать знакопеременным:\n",
        "\n",
        "### $$1-2+3+4+5+\\,...$$"
      ]
    },
    {
      "cell_type": "markdown",
      "metadata": {
        "id": "x-vJkyvYje9R"
      },
      "source": [
        "### Сходимость знакопостоянных рядов"
      ]
    },
    {
      "cell_type": "markdown",
      "metadata": {
        "id": "OKZuDV7dje9S"
      },
      "source": [
        "Для знакопостоянных рядов выделим следующие основные признаки, хотя их на самом деле больше:\n",
        "1. Первый признак сравнения.\n",
        "2. Второй признак сравнения.\n",
        "3. Признак д’Аламбера.\n",
        "4. Радикальный признак Коши.\n",
        "5. Интегральный признак Коши.\n",
        "6. Признак Раабе.\n",
        "8. Критерий Коши.\n",
        "\n",
        "Несмотря на такое обилие признаков, как правило пользуются только двумя. Это вторым признаком сравнения и признак д’Аламбера."
      ]
    },
    {
      "cell_type": "markdown",
      "metadata": {
        "id": "IFp86u4sje9S"
      },
      "source": [
        "#### Второй признак сравнения.\n",
        "\n",
        "Это сравнение со степенным рядом $O\\Bigr(\\frac{1}{n^p}\\Bigl)$. Естественно, если это возможно. \n",
        "\n",
        "- если степень $p>1$, то ряд сходится. \n",
        "- во всех остальных случаях расходится.\n",
        "\n",
        "Рассмотрим примеры:\n",
        "\n",
        "1. \n",
        "### $$\\frac{1}{1001}+\\frac{1}{2001}+\\,...\\,+\\frac{1}{1000n+1}+\\,...\\,\\,\\,\\,\\,\\,\\sim\\,\\,\\,\\,\\,\\,O\\Bigr(\\frac{1}{n^1}\\Bigl)$$\n",
        "т.к. степень равна $1\\leq1$, то ряд расходится.\n",
        "\n",
        "2. \n",
        "### $$1+\\frac{1}{3^2}+\\frac{1}{5^2}+\\,...\\,+\\frac{1}{(2n-1)^2}+\\,...\\,\\,\\,\\,\\,\\,\\sim\\,\\,\\,\\,\\,\\,O\\Bigr(\\frac{1}{n^2}\\Bigl)$$\n",
        "т.к. степень равна $2>1$, то ряд сходится.\n",
        "\n",
        "3. \n",
        "### $$1+\\frac{2}{3}+\\frac{3}{5}+\\,...\\,+\\frac{n}{2n-1}+\\,...\\,\\,\\,\\,\\,\\,\\sim\\,\\,\\,\\,\\,\\,O\\Bigr(\\frac{1}{n^0}\\Bigl)$$\n",
        "т.к. степень равна $0\\leq1$, то ряд расходится. Хотя в данном примере не выполняется даже необходимое условие сходимости:\n",
        "\n",
        "### $$\\lim_{n\\to +\\infty}a_{n}=\\lim_{n\\to +\\infty}\\frac{n}{2n-1}=\\frac{1}{2}\\neq0$$"
      ]
    },
    {
      "cell_type": "markdown",
      "metadata": {
        "id": "_Sf0Of5Ije9U"
      },
      "source": [
        "#### Первый признак сравнения.\n",
        "\n",
        "Данный признак крайне редко используется на практике. Но изучим его, чтобы не путать со вторым признаком сравнения. Первый признак сравнения - это аналог теоремы о двух милиционерах. \n",
        "\n",
        "Пусть у нас есть сходящийся ряд\n",
        "\n",
        "### $$b_{1}+b_{2}+b_{3}+...+b_{n}+\\,...\\,=\\sum\\limits_{n=1}^{+\\infty}b_{n}$$\n",
        "\n",
        "При этом так же существует ряд \n",
        "\n",
        "### $$a_{1}+a_{2}+a_{3}+...+a_{n}+\\,...\\,=\\sum\\limits_{n=1}^{+\\infty}a_{n}$$\n",
        "\n",
        "для которого: \n",
        "\n",
        "### $$0\\leq a_{n}\\leq b_{n}$$ \n",
        "\n",
        "Этого достаточно , чтобы ряд $\\sum\\limits_{n=1}^{+\\infty}a_{n}$ так же сходился."
      ]
    },
    {
      "cell_type": "markdown",
      "metadata": {
        "id": "xqq5MqK8je9V"
      },
      "source": [
        "#### Признак д’Аламбера.\n",
        "\n",
        "Это основной признак для знакопостоянных рядов.\n",
        "\n",
        "Возьмем ряд \n",
        "\n",
        "### $$a_{1}+a_{2}+a_{3}+...+a_{n}+\\,...\\,=\\sum\\limits_{n=1}^{+\\infty}a_{n}$$\n",
        "\n",
        "и расмотрим следущий предел:\n",
        "\n",
        "### $$\\lim_{n\\to +\\infty}\\frac{a_{n+1}}{a_{n}}=q$$\n",
        "\n",
        "- если $q<1$, то ряд сходится;\n",
        "- если $q>1$, то ряд расходится;\n",
        "- если $q=1$, то признак д’Аламбера не работает.\n",
        "\n",
        "Расмотрим примеры:\n",
        "\n",
        "1. \n",
        "### $$\\frac{1}{2}+\\frac{1}{4}+\\,...\\,+\\frac{1}{2^n}+\\,...\\,=\\sum\\limits_{n=1}^{+\\infty}\\frac{1}{2^n}$$\n",
        "\n",
        "Найдем предел:\n",
        "\n",
        "### $$\\lim_{n\\to +\\infty}\\frac{a_{n+1}}{a_{n}}=\\lim_{n\\to +\\infty}\\frac{1}{2^{n+1}}:\\frac{1}{2^{n}}=\\frac{1}{2}$$\n",
        "\n",
        "т.к. предел равен $\\frac{1}{2}<1$, то ряд сходится.\n",
        "\n",
        "2. \n",
        "### $$\\frac{1}{2}+\\frac{3}{2^2}+\\,...\\,+\\frac{2n-1}{2^n}+\\,...\\,=\\sum\\limits_{n=1}^{+\\infty}\\frac{2n-1}{2^n}$$\n",
        "\n",
        "Найдем предел:\n",
        "\n",
        "### $$\\lim_{n\\to +\\infty}\\frac{a_{n+1}}{a_{n}}=\\lim_{n\\to +\\infty}\\frac{2n+1}{2^{n+1}}:\\frac{2n-1}{2^n}=$$\n",
        "\n",
        "### $$=\\lim_{n\\to +\\infty}\\frac{2n+1}{2(2n-1)}=\\frac{1}{2}$$\n",
        "\n",
        "т.к. предел равен $\\frac{1}{2}<1$, то ряд сходится.\n",
        "\n",
        "3. \n",
        "### $$1+\\frac{1}{3^2}+\\frac{1}{5^2}+\\,...\\,+\\frac{1}{(2n-1)^2}+\\,...\\,=\\sum\\limits_{n=1}^{+\\infty}\\frac{1}{(2n-1)^2}$$\n",
        "\n",
        "Мы уже рассматривали этот пример и доказали сходимость этого ряда по второму признаку сравнения.\n",
        "\n",
        "Найдем предел:\n",
        "\n",
        "### $$\\lim_{n\\to +\\infty}\\frac{a_{n+1}}{a_{n}}=\\lim_{n\\to +\\infty}\\frac{1}{(2n+1)^2}:\\frac{1}{(2n-1)^2}=1$$\n",
        "\n",
        "### $$=\\lim_{n\\to +\\infty}\\frac{(2n-1)^2}{(2n+1)^2}=1$$\n",
        "\n",
        "т.к. предел равен $1=1$, то в данном случае признак д’Аламбера не работает. \n",
        "\n",
        "__Второй признак сравнения и признак д’Аламбера хорошо дополняют друг друга. С их помощью можно  доказать сходимость ряда практически всегда.__"
      ]
    },
    {
      "cell_type": "markdown",
      "metadata": {
        "id": "XIGnWutWje9W"
      },
      "source": [
        "#### Радикальный признак Коши\n",
        "\n",
        "Данный признак явдяется аналогом признаком д’Аламбера.\n",
        "\n",
        "Возьмем ряд \n",
        "\n",
        "### $$a_{1}+a_{2}+a_{3}+...+a_{n}+\\,...\\,=\\sum\\limits_{n=1}^{+\\infty}a_{n}$$\n",
        "\n",
        "и рассмотрим следящий предел:\n",
        "\n",
        "### $$\\lim_{n\\to +\\infty}\\sqrt[n]{a_{n}}=q$$\n",
        "\n",
        "- если $q<1$, то ряд сходится;\n",
        "- если $q>1$, то ряд расходится;\n",
        "- если $q=1$, то радикальный признак Коши не работает.\n",
        "\n",
        "Рассмотрим пример:\n",
        "\n",
        "### $$\\frac{1}{2}+\\frac{2}{2^2}+\\,...\\,+\\frac{n}{2^n}+\\,...\\,=\\sum\\limits_{n=1}^{+\\infty}\\frac{n}{2^n}$$\n",
        "\n",
        "Найдем предел:\n",
        "\n",
        "### $$\\lim_{n\\to +\\infty}\\sqrt[n]{a_{n}}=\\lim_{n\\to +\\infty}\\sqrt[n]{\\frac{n}{2^n}}=$$\n",
        "\n",
        "### $$=\\lim_{n\\to +\\infty}\\frac{\\sqrt[n]{n}}{2}=\\frac{1}{2}$$\n",
        "\n",
        "т.к. предел равен $\\frac{1}{2}<1$, то ряд сходится.\n",
        "\n",
        "Давайте покажем, что в данном случае можно обойтись и признаком д’Аламбера.\n",
        "\n",
        "Найдем предел:\n",
        "\n",
        "### $$\\lim_{n\\to +\\infty}\\frac{a_{n+1}}{a_{n}}=\\lim_{n\\to +\\infty}\\frac{n+1}{2^{n+1}}:\\frac{n}{2^{n}}=$$\n",
        "\n",
        "### $$=\\lim_{n\\to +\\infty}\\frac{n+1}{2n}=\\frac{1}{2}$$\n",
        "\n",
        "т.к. предел равен $\\frac{1}{2}<1$, то ряд сходится."
      ]
    },
    {
      "cell_type": "markdown",
      "metadata": {
        "id": "8PaKXZVyje9W"
      },
      "source": [
        "#### Интегральный признак Коши.\n",
        "\n",
        "Довольно редко применяющийся признак. \n",
        "\n",
        "Возьмем ряд \n",
        "\n",
        "### $$a_{1}+a_{2}+a_{3}+...+a_{n}+\\,...\\,=\\sum\\limits_{n=1}^{+\\infty}a_{n}$$\n",
        "\n",
        "Тогда этот ряд сходится одновременно с несобственным интегралом\n",
        "\n",
        "### $$\\int\\limits_{1}^{+\\infty}a_{x}\\,dx$$\n",
        "\n",
        "__Другими словами:__ если мы сможем посчитать этот интеграл, то ряд сходится.\n",
        "\n",
        "Рассмотрим примеры:\n",
        "\n",
        "1. \n",
        "### $$\\frac{1}{2\\ln2}+\\frac{1}{3\\ln3}+\\,...\\,+\\frac{1}{(n+1)\\ln(n+1)}+\\,...\\,=\\sum\\limits_{n=1}^{+\\infty}\\frac{1}{(n+1)\\ln(n+1)}$$\n",
        "\n",
        "Докажем расходимость этого ряда найдя интеграл:\n",
        "\n",
        "### $$\\int\\limits_{1}^{+\\infty}\\frac{dx}{(x+1)\\ln(x+1)}$$"
      ]
    },
    {
      "cell_type": "code",
      "metadata": {
        "id": "BMi-8heDje9X",
        "outputId": "d9fe934f-f1e5-4c74-99d0-11bdc30967d2"
      },
      "source": [
        "from sympy import *\n",
        "init_printing()\n",
        "x=Symbol('x')\n",
        "f=1/(x+1)/ln(x+1)\n",
        "f"
      ],
      "execution_count": null,
      "outputs": [
        {
          "output_type": "execute_result",
          "data": {
            "image/png": "[encoded data removed]",
            "text/latex": "$\\displaystyle \\frac{1}{\\left(x + 1\\right) \\log{\\left(x + 1 \\right)}}$",
            "text/plain": [
              "        1         \n",
              "──────────────────\n",
              "(x + 1)⋅log(x + 1)"
            ]
          },
          "metadata": {
            "tags": []
          },
          "execution_count": 1
        }
      ]
    },
    {
      "cell_type": "code",
      "metadata": {
        "id": "u5APTVw1je9Z",
        "outputId": "60bb9b7c-8b5f-4e9e-d5f4-f7690b8ac6dd"
      },
      "source": [
        "integrate(f,(x, 1, +oo)) #аналитическое решение"
      ],
      "execution_count": null,
      "outputs": [
        {
          "output_type": "execute_result",
          "data": {
            "image/png": "[encoded data removed]",
            "text/latex": "$\\displaystyle \\infty$",
            "text/plain": [
              "∞"
            ]
          },
          "metadata": {
            "tags": []
          },
          "execution_count": 30
        }
      ]
    },
    {
      "cell_type": "markdown",
      "metadata": {
        "id": "xYV4HP1Ije9a"
      },
      "source": [
        "Интеграл расходится, следовательно расходится и ряд.\n",
        "\n",
        "2. \n",
        "### $$\\frac{1}{2\\ln^2 2}+\\frac{1}{3\\ln^2 3}+\\,...\\,+\\frac{1}{(n+1)\\ln^2(n+1)}+\\,...\\,=\\sum\\limits_{n=1}^{+\\infty}\\frac{1}{(n+1)\\ln^2(n+1)}$$\n",
        "\n",
        "Докажем сходимость этого ряда найдя интеграл:\n",
        "\n",
        "### $$\\int\\limits_{1}^{+\\infty}\\frac{dx}{(x+1)\\ln^2(x+1)}$$\n"
      ]
    },
    {
      "cell_type": "code",
      "metadata": {
        "id": "pidt3Ufmje9a",
        "outputId": "23685268-cc42-4911-eef9-63fe5cc208a0"
      },
      "source": [
        "from sympy import *\n",
        "init_printing()\n",
        "x=Symbol('x')\n",
        "f=1/(x+1)/(ln(x+1))**2\n",
        "f"
      ],
      "execution_count": null,
      "outputs": [
        {
          "output_type": "execute_result",
          "data": {
            "image/png": "[encoded data removed]",
            "text/latex": "$\\displaystyle \\frac{1}{\\left(x + 1\\right) \\log{\\left(x + 1 \\right)}^{2}}$",
            "text/plain": [
              "         1         \n",
              "───────────────────\n",
              "           2       \n",
              "(x + 1)⋅log (x + 1)"
            ]
          },
          "metadata": {
            "tags": []
          },
          "execution_count": 31
        }
      ]
    },
    {
      "cell_type": "code",
      "metadata": {
        "id": "_-8hM3lfje9b",
        "outputId": "e90929c3-ef2c-4210-d6f4-888082dfb657"
      },
      "source": [
        "integrate(f,(x, 1, +oo)) #аналитическое решение"
      ],
      "execution_count": null,
      "outputs": [
        {
          "output_type": "execute_result",
          "data": {
            "image/png": "[encoded data removed]",
            "text/latex": "$\\displaystyle \\frac{1}{\\log{\\left(2 \\right)}}$",
            "text/plain": [
              "  1   \n",
              "──────\n",
              "log(2)"
            ]
          },
          "metadata": {
            "tags": []
          },
          "execution_count": 32
        }
      ]
    },
    {
      "cell_type": "markdown",
      "metadata": {
        "id": "jHoVavVwje9c"
      },
      "source": [
        "Интеграл посчитать получилось, следовательно ряд сходится."
      ]
    },
    {
      "cell_type": "markdown",
      "metadata": {
        "id": "FTPEGju1je9c"
      },
      "source": [
        "#### Признак Раабе.\n",
        "\n",
        "Ещё один аналог признака д’Аламбера.\n",
        "\n",
        "Возьмем ряд \n",
        "\n",
        "### $$a_{1}+a_{2}+a_{3}+...+a_{n}+\\,...\\,=\\sum\\limits_{n=1}^{+\\infty}a_{n}$$\n",
        "\n",
        "и рассмотрим следящий предел:\n",
        "\n",
        "### $$\\lim_{n\\to +\\infty}n\\Bigr(\\frac{a_{n}}{a_{n+1}}-1\\Bigl)=q$$\n",
        "\n",
        "- если $q>1$, то ряд сходится;\n",
        "- если $q<1$, то ряд расходится;\n",
        "- если $q=1$, то признак Раабе не работает.\n",
        "\n",
        "Рассмотрим пример:\n",
        "\n",
        "### $$\\frac{3}{2}+\\frac{3^2}{2^2}+\\,...\\,+\\frac{3^n}{2^n}+\\,...\\,=\\sum\\limits_{n=1}^{+\\infty}\\frac{3^n}{2^n}$$\n",
        "\n",
        "Найдем предел:\n",
        "\n",
        "### $$\\lim_{n\\to +\\infty}n\\Bigr(\\frac{a_{n}}{a_{n+1}}-1\\Bigl)=\\lim_{n\\to +\\infty}n\\Bigr(\\frac{3^n}{2^n}:\\frac{3^{n+1}}{2^{n+1}}-1\\Bigl)=$$\n",
        "\n",
        "### $$=\\lim_{n\\to +\\infty}n\\Bigr(\\frac{2}{3}-1\\Bigl)=-\\infty$$\n",
        "\n",
        "т.к. предел равен $-\\infty<1$, то ряд расходится.\n",
        "\n",
        "Давайте покажем, что в данном случае можно обойтись и признаком д’Аламбера.\n",
        "\n",
        "Найдем предел:\n",
        "\n",
        "### $$\\lim_{n\\to +\\infty}\\frac{a_{n+1}}{a_{n}}=\\lim_{n\\to +\\infty}\\frac{3^{n+1}}{2^{n+1}}:\\frac{3^n}{2^{n}}=\\frac{3}{2}$$\n",
        "\n",
        "т.к. предел равен $\\frac{3}{2}>1$, то ряд расходится."
      ]
    },
    {
      "cell_type": "markdown",
      "metadata": {
        "id": "6iFQOE3Lje9d"
      },
      "source": [
        "### Сходимость знакопеременных рядов"
      ]
    },
    {
      "cell_type": "markdown",
      "metadata": {
        "id": "qsGkmr9ije9d"
      },
      "source": [
        "Для знакопеременных рядов выделим следующие основные признаки:\n",
        "\n",
        "1. Признак Лейбница.\n",
        "2. Признак Абеля.\n",
        "3. Признак Дирихле."
      ]
    },
    {
      "cell_type": "markdown",
      "metadata": {
        "id": "cXlHzWmAje9h"
      },
      "source": [
        "#### Признак Лейбница.\n",
        "\n",
        "Для сходимости по данному признаку достаточно чтобы члены ряда $|a_n|$ убывали монотонно по модулю. \n",
        "\n",
        "Сложно представить ситуацию, когда выполняется необходимое условие:\n",
        "\n",
        "### $$\\lim_{n\\to +\\infty}a_{n}=0$$\n",
        "\n",
        "при этом $|a_n|$ убывали не монотонно. Поэтому признак Лейбница будет единственным, который мы разберем для знакопеременных рядов.\n",
        "\n",
        "Так же для знакопеременных рядов математики различают скорость сходимости:\n",
        "\n",
        "- если ряд по модулю $\\sum\\limits_{n=1}^{+\\infty}|a_n|$ сходится, то исходный знакопеременный ряд $\\sum\\limits_{n=1}^{+\\infty}a_n$ сходится абсолютно (быстро);\n",
        "\n",
        "- если ряд по модулю $\\sum\\limits_{n=1}^{+\\infty}|a_n|$ расходится, то исходный знакопеременный ряд $\\sum\\limits_{n=1}^{+\\infty}a_n$ сходится условно (медленно);"
      ]
    },
    {
      "cell_type": "markdown",
      "metadata": {
        "id": "LCeNH7Rjje9i"
      },
      "source": [
        "Рассмотрим примеры:\n",
        "\n",
        "1. \n",
        "### $$\\frac{1}{1}+\\frac{1}{2}+\\,...\\,+\\frac{1}{n}+\\,...\\,=\\sum\\limits_{n=1}^{+\\infty}\\frac{1}{n}$$\n",
        "\n",
        "этот знакопостоянный ряд расходится по второму признаку сходимости. \n",
        "\n",
        "2. \n",
        "### $$-\\frac{1}{1}+\\frac{1}{2}-\\,...\\,+\\frac{(-1)^n}{n}+\\,...\\,=\\sum\\limits_{n=1}^{+\\infty}\\frac{(-1)^n}{n}$$\n",
        "\n",
        "этот знакопеременный ряд сходится, причем условно. Т.к. главный член монотонно стремится к $0$ по модулю.\n",
        "\n",
        "3. \n",
        "### $$\\frac{1}{1}+\\frac{1}{2^2}+\\,...\\,+\\frac{1}{n^2}+\\,...\\,=\\sum\\limits_{n=1}^{+\\infty}\\frac{1}{n^2}$$\n",
        "\n",
        "этот знакопостоянный ряд сходится по второму признаку сходимости.\n",
        "\n",
        "4. \n",
        "### $$-\\frac{1}{1}+\\frac{1}{2^2}-\\,...\\,+\\frac{(-1)^n}{n^2}+\\,...\\,=\\sum\\limits_{n=1}^{+\\infty}\\frac{(-1)^n}{n^2}$$\n",
        "\n",
        "этот знакопеременный ряд сходится, причем абсолютно. Т.к. главный член монотонно стремится к $0$ по модулю.\n"
      ]
    },
    {
      "cell_type": "markdown",
      "metadata": {
        "id": "h0wIh2i2je9i"
      },
      "source": [
        "### Ряд Тейлора (Маклорена)\n",
        "\n",
        "__Ряд Тейлора__ - это еще один из способов аппроксимации из курса математического анализа. При этом функцию $f(x)$ мы аппроксимируем гармоническим (степенным) рядом.\n",
        "\n",
        "Разложение функции $f(x)$ происходит в окрестности точки,  будет называть её $a$. Основным требованием является то, функция $f(x)$ имеет бесконечное множество производных в точке $a$.\n",
        "\n",
        "### $$f(x)=\\sum\\limits_{n=0}^{+\\infty}\\frac{f^{(n)}(a)}{n!}(x-a)^n$$\n",
        "\n",
        "где $f^{(n)}(a)$ -это значение производной в точке $a$ $n$-го порядка.\n",
        "\n",
        "Можно говорить как: \"разложить функцию $f(x)$ в ряд Тейлора в окрестности точки $a$\" или \"разложить функцию $f(x)$ в ряд Тейлора по степеням $(x-a)$\", это одно и тоже.\n",
        "\n",
        "Рассмотрим простой пример. Разложим функцию $f(x)=x^2+5x+4$ в окрестности точки $a=2$.\n",
        "\n",
        "Т.к. наша функция уже является степенной, то разложение будет конечным:\n",
        "\n",
        "### $$x^2+5x+4=\\frac{2^2+5\\cdot2+4}{0!}(x-2)^0+\\frac{2\\cdot2+5}{1!}(x-2)^1+$$\n",
        "\n",
        "### $$+\\frac{2}{2!}(x-2)^2=18+9(x-2)+(x-2)^2$$\n",
        "\n",
        "Как бы это странно не выглядело, но \n",
        "\n",
        "### $$x^2+5x+4=18+9(x-2)+(x-2)^2$$\n",
        "\n",
        "__Ряд Маклорена__ - это частный случай ряд Тейлора при $a=0$\n",
        "\n",
        "### $$f(x)=\\sum\\limits_{n=0}^{+\\infty}\\frac{f^{(n)}(0)}{n!}x^n$$\n",
        "\n",
        "Давайте рассмотрим более сложный пример. Разложим  функцию $f(x)=\\sin x$ в ряд Маклорена.\n",
        "\n",
        "### $$\\sin x=\\frac{\\sin 0}{0!}x^0+\\frac{\\cos 0}{1!}x^1-\\frac{\\sin 0}{2!}x^2-\\frac{\\cos 0}{3!}x^3+\\,...\\,=$$\n",
        "\n",
        "### $$=x-\\frac{x^3}{3!}+\\frac{x^5}{5!}-\\frac{x^7}{7!}+\\,...\\,=\\sum\\limits_{n=0}^{+\\infty}(-1)^n\\frac{x^{2n+1}}{(2n+1)!}$$\n",
        "\n",
        "Потребность таких разложений можно связать с определенными методами, которые хорошо работают со степенными функциями и плохо с остальными.\n",
        "\n",
        "__Замечание:__ с помощью разложения $\\sin x$ в нуле, мы может доказать первый замечательный предел\n",
        "\n",
        "### $$\\lim_{x\\to 0}\\frac{\\sin x}{x}=\\lim_{x\\to 0}\\Bigr(1-\\frac{x^2}{3!}+\\frac{x^4}{5!}-\\,...\\,\\Bigl)=1$$"
      ]
    },
    {
      "cell_type": "markdown",
      "metadata": {
        "id": "5I06VG8hje9j"
      },
      "source": [
        "### Ряд Фурье"
      ]
    },
    {
      "cell_type": "markdown",
      "metadata": {
        "id": "odFm7e1fje9j"
      },
      "source": [
        "Ряд Фурье так же является способом аппроксимаций функций, только с помощью синусов и косинусов разных амплитуд.\n",
        "\n",
        "Разложении, в отличии от ряда Тейлора,  происходит на интервале. Для простоты разберем формулу для симметричного интервала $[-\\pi, \\pi]$:\n",
        "\n",
        "### $$f(x)=a_{0}+\\sum\\limits_{n=1}^{+\\infty}(a_n\\cos nx+b_n\\sin nx)$$\n",
        "\n",
        "где\n",
        "\n",
        "### $$a_0=\\frac{1}{2\\pi}\\int\\limits_{-\\pi}^\\pi f(x)\\,dx$$\n",
        "\n",
        "### $$a_n=\\frac{1}{\\pi}\\int\\limits_{-\\pi}^\\pi f(x)\\cos nx\\,dx$$\n",
        "\n",
        "### $$b_n=\\frac{1}{\\pi}\\int\\limits_{-\\pi}^\\pi f(x)\\sin nx\\,dx$$\n",
        "\n",
        "Т.е. чтобы разложить функцию в ряд Фурье, нужно посчитать три интеграла."
      ]
    },
    {
      "cell_type": "markdown",
      "metadata": {
        "id": "mHb_GAiGje9k"
      },
      "source": [
        "__Пример.__ Разложим параболу $f(x)=x^2$ в ряд Фурье на интервале $[-\\pi, \\pi]$\n",
        "\n",
        "Найдем $a_0$:\n",
        "\n",
        "### $$a_0=\\frac{1}{2\\pi}\\int\\limits_{-\\pi}^\\pi f(x)\\,dx=\\frac{1}{2\\pi}\\int\\limits_{-\\pi}^\\pi x^2\\,dx=$$\n",
        "\n",
        "### $$=\\frac{1}{2\\pi}\\cdot\\frac{x^3}{3}\\Bigr|_{-\\pi}^\\pi=\\frac{1}{2\\pi}\\cdot\\Bigr(\\frac{\\pi^3}{3}-\\frac{(-\\pi)^3}{3}\\Bigl)=\\frac{\\pi^2}{3}$$"
      ]
    },
    {
      "cell_type": "markdown",
      "metadata": {
        "id": "VAmzdT19je9k"
      },
      "source": [
        "Найдем $a_n$:\n",
        "\n",
        "### $$a_n=\\frac{1}{\\pi}\\int\\limits_{-\\pi}^\\pi f(x)\\cos nx\\,dx=\\frac{1}{\\pi}\\int\\limits_{-\\pi}^\\pi x^2\\cos nx\\,dx=$$\n",
        "\n",
        "Данный интеграл будем брать по частям:\n",
        "\n",
        "### $$U=x^2\\,\\,\\,\\,\\,\\Rightarrow\\,\\,\\,\\,\\, dU=2x\\,dx$$ \n",
        "### $$dV=\\cos nx\\,dx\\,\\,\\,\\,\\,\\Rightarrow\\,\\,\\,\\,\\, V=\\frac{1}{n}\\sin nx$$ \n",
        "\n",
        "### $$=\\Bigr(\\frac{1}{\\pi n}x^2\\sin nx\\Bigl)\\Bigr|_{-\\pi}^\\pi-\\frac{2}{\\pi n}\\int\\limits_{-\\pi}^\\pi x\\sin nx\\,dx=$$\n",
        "\n",
        "Скобка равно нулю, т.к. $\\sin \\pi n=\\sin (-\\pi n)=0$. Интеграл возьмем еще раз по частям:\n",
        "\n",
        "### $$U=x\\,\\,\\,\\,\\,\\Rightarrow\\,\\,\\,\\,\\, dU=dx$$ \n",
        "### $$dV=\\sin nx\\,dx\\,\\,\\,\\,\\,\\Rightarrow\\,\\,\\,\\,\\, V=-\\frac{1}{n}\\cos nx$$ \n",
        "\n",
        "### $$=\\Bigr(\\frac{2}{\\pi n^2}x\\cos nx\\Bigl)\\Bigr|_{-\\pi}^\\pi-\\frac{2}{\\pi n^2}\\int\\limits_{-\\pi}^\\pi \\cos nx\\,dx=$$\n",
        "\n",
        "### $$=\\frac{2}{\\pi n^2}\\pi\\cos\\pi n-\\frac{2}{\\pi n^2}(-\\pi)\\cos\\pi n=4\\frac{(-1)^n}{n^2}$$"
      ]
    },
    {
      "cell_type": "markdown",
      "metadata": {
        "id": "Y-X-9ZNgje9k"
      },
      "source": [
        "Найдем $b_n$:\n",
        "\n",
        "### $$b_n=\\frac{1}{\\pi}\\int\\limits_{-\\pi}^\\pi f(x)\\sin nx\\,dx=\\frac{1}{\\pi}\\int\\limits_{-\\pi}^\\pi x^2\\sin nx\\,dx=$$\n",
        "\n",
        "Данный интеграл будем брать по частям:\n",
        "\n",
        "### $$U=x^2\\,\\,\\,\\,\\,\\Rightarrow\\,\\,\\,\\,\\, dU=2x\\,dx$$ \n",
        "### $$dV=\\sin nx\\,dx\\,\\,\\,\\,\\,\\Rightarrow\\,\\,\\,\\,\\, V=-\\frac{1}{n}\\cos nx$$ \n",
        "\n",
        "### $$=\\Bigr(-\\frac{1}{\\pi n}x^2\\cos nx\\Bigl)\\Bigr|_{-\\pi}^\\pi+\\frac{2}{\\pi n}\\int\\limits_{-\\pi}^\\pi x\\cos nx\\,dx=$$\n",
        "\n",
        "Скобка равно нулю, т.к. $(\\pi)^2\\cos \\pi n=(-\\pi)^2\\cos (-\\pi n)$. Интеграл возьмем еще раз по частям:\n",
        "\n",
        "### $$U=x\\,\\,\\,\\,\\,\\Rightarrow\\,\\,\\,\\,\\, dU=dx$$ \n",
        "### $$dV=\\cos nx\\,dx\\,\\,\\,\\,\\,\\Rightarrow\\,\\,\\,\\,\\, V=\\frac{1}{n}\\sin nx$$ \n",
        "\n",
        "### $$=\\Bigr(\\frac{2}{\\pi n^2}x\\sin nx\\Bigl)\\Bigr|_{-\\pi}^\\pi-\\frac{2}{\\pi n^2}\\int\\limits_{-\\pi}^\\pi \\sin nx\\,dx=$$\n",
        "\n",
        "### $$=\\Bigr(\\frac{2}{\\pi n^3}\\cos nx\\Bigl)\\Bigr|_{-\\pi}^\\pi=0$$"
      ]
    },
    {
      "cell_type": "markdown",
      "metadata": {
        "id": "2rw4wx-qje9l"
      },
      "source": [
        "Получается, что\n",
        "\n",
        "\n",
        "### $$x^2=\\frac{\\pi^2}{3}+4\\sum\\limits_{n=1}^{+\\infty}\\frac{(-1)^n}{n^2}\\cos nx$$\n",
        "\n",
        "на отрезке $[-\\pi, \\pi]$"
      ]
    },
    {
      "cell_type": "markdown",
      "metadata": {
        "id": "iUWix-Dwje9l"
      },
      "source": [
        "В программировании классические разложения Фурье не используются. Но данная тема настолько развилась, что сформировалась отдельная математическая дисциплина: __функциональный анализ__. На её базе построена квантовая механика, теория струн и часть разделов теории вероятности.\n",
        "\n",
        "В функциональной анализе разложение Фурье развились до __быстрых преобразований Фурье (fast Fourier transformation (FFT))__. Одно из первых применений в программировании было в аудио формате .mp3. До этого формата аудио дорожка хранилась в виде массива времени и значения амплитуды звуковой волны. В формате .mp3 хранятся уже коэффициенты FFT. При этом существо сокращается место на хранение звуковой дорожке. Все современные мультимедийные форматы, особенно работающие в интернете как правило построены на FFT.\n",
        "\n",
        "- аудио форматы .mp3\n",
        "- форматы изображений .jpeg, progressive JPEG\n",
        "- видео форматы .mpeg"
      ]
    },
    {
      "cell_type": "markdown",
      "metadata": {
        "id": "95DjJmvije9l"
      },
      "source": [
        "Загрузка .jpeg\n",
        "\n",
        "<img src=\"https://walnut.team/wp-content/uploads/2018/02/jpeg-baseline.gif\"  width = 200/>\n",
        "Загрузка progressive JPEG\n",
        "\n",
        "<img src=\"https://walnut.team/wp-content/uploads/2018/02/jpeg-progressive.gif\"  width = 200/>"
      ]
    },
    {
      "cell_type": "code",
      "metadata": {
        "id": "v4UoBlxZje9l",
        "outputId": "30b94d87-9746-4ec0-9304-3726182724ba"
      },
      "source": [
        "#!/usr/bin/python\n",
        "# -*- coding: utf-8 -*\n",
        "import matplotlib.pyplot as plt \n",
        "import numpy as np\n",
        "from numpy.fft import rfft, irfft\n",
        "from numpy.random import uniform\n",
        "k=np.arange(0,128,1)\n",
        "T=np.pi;z=T/128; m=[t*z for t in k]#задание для дискретизации функции на 128 отсчётов\n",
        "def f(t):#анализируемая функция\n",
        "         if t<np.pi:\n",
        "                  p=np.cos(t)\n",
        "         else:\n",
        "                  p=-np.cos(t)\n",
        "         return p\n",
        "def FH(x):# ступенчатая функция Хэвисайда \n",
        "         if x>=0:\n",
        "                  q=1\n",
        "         else:\n",
        "                  q=0\n",
        "         return q\n",
        "v=[f(t) for t in m]#дискретизация исходной функции\n",
        "vs= [f(t)+np.random.uniform(0,0.5) for t in m]# добавление шума\n",
        "plt.figure()\n",
        "plt.title(\"Фильтрация аналоговых сигналов  \\n Окно исходной и зашумленной функций\")\n",
        "plt.plot(k,v, label='Окно исходной функции шириной pi')\n",
        "plt.plot(k,vs,label='Окно зашумленной функции шириной pi')\n",
        "plt.xlabel(\"Отсчёты -k\")\n",
        "plt.ylabel(\"Амплитуда А\")\n",
        "plt.legend(loc='best')\n",
        "plt.grid(True)\n",
        "al=2# степень фильтрации высших гармоник\n",
        "fs=np. fft.rfft(v)# переход из временной области в частотную с помощью БПФ\n",
        "g=[fs[j]*FH(abs(fs[j])-2) for j in np.arange(0,65,1)]# фильтрация высших гармоник\n",
        "h=np.fft.irfft(g) # возврат во временную область\n",
        "plt.figure()\n",
        "plt.title(\"Фильтрация аналоговых сигналов  \\n Результат фильтрации\")\n",
        "plt.plot(k,v,label='Окно исходной функции шириной pi')\n",
        "plt.plot(k,h, label='Окно результата фильтрации шириной pi')\n",
        "plt.xlabel(\"Отсчёты -k\")\n",
        "plt.ylabel(\"Амплитуда А\")\n",
        "plt.legend(loc='best')\n",
        "plt.grid(True)\n",
        "plt.show()"
      ],
      "execution_count": null,
      "outputs": [
        {
          "output_type": "display_data",
          "data": {
            "image/png": "[encoded data removed]",
            "text/plain": [
              "<Figure size 432x288 with 1 Axes>"
            ]
          },
          "metadata": {
            "tags": [],
            "needs_background": "light"
          }
        },
        {
          "output_type": "display_data",
          "data": {
            "image/png": "[encoded data removed]",
            "text/plain": [
              "<Figure size 432x288 with 1 Axes>"
            ]
          },
          "metadata": {
            "tags": [],
            "needs_background": "light"
          }
        }
      ]
    },
    {
      "cell_type": "markdown",
      "metadata": {
        "id": "gV5AJlEXkhRS"
      },
      "source": [
        "# <center>Задания из методички<a class=\"anchor\" id=\"ex\"></a><center>"
      ]
    },
    {
      "cell_type": "markdown",
      "metadata": {
        "id": "aU5YNMH9kVqP"
      },
      "source": [
        "## Практическое задание"
      ]
    },
    {
      "cell_type": "markdown",
      "metadata": {
        "id": "SmdURZ_OkVqQ"
      },
      "source": [
        "__1.__ Исследовать сходимость ряда. <a class=\"anchor\" id=\"ex1\"></a><center>\n",
        "\n",
        "\n",
        "### $$\\frac{1}{2\\sqrt2}+\\frac{1}{3\\sqrt3}+\\,...\\,+\\frac{1}{(n+1)\\sqrt{n+1}}+\\,...\\,=\\sum\\limits_{n=1}^{+\\infty}\\frac{1}{(n+1)\\sqrt{n+1}}$$\n",
        "\n",
        "(*) Двумя различными признаками."
      ]
    },
    {
      "cell_type": "markdown",
      "metadata": {
        "id": "Kg5PX5yXkwGs"
      },
      "source": [
        "# Решение:\n",
        "\n",
        "### $$\\sum\\limits_{n=1}^{+\\infty}\\frac{1}{(n+1)\\sqrt{n+1}} = \\sum\\limits_{n=1}^{+\\infty}\\frac{1}{(n+1)^{\\frac {3}{2}}}$$\n",
        "\n",
        "Применим интегральный признак Коши. Если мы можем посчитать несобственный интеграл то ряд сходится.\n",
        "\n",
        "### $$ \\int\\limits_{n=1}^{+\\infty}\\frac{1}{(n+1)^{\\frac {3}{2}}} = 1.4142 \\Rightarrow\\,\\,\\,\\,\\, ряд \\,\\,сходится$$\n",
        "\n",
        "Применим признак д'Аламбера\n",
        "расмотрим следущий предел:\n",
        "\n",
        "### $$\\lim_{n\\to +\\infty}\\frac{a_{n+1}}{a_{n}}=q$$\n",
        "\n",
        "- если $q<1$, то ряд сходится;\n",
        "- если $q>1$, то ряд расходится;\n",
        "- если $q=1$, то признак д’Аламбера не работает.\n",
        "\n",
        "### $$\\lim_{n\\to +\\infty}\\Bigr(\\frac{1}{((n+1)+1)^{\\frac {3}{2}}} : \\frac{1}{(n+1)^{\\frac {3}{2}}}\\Bigr)=\\lim_{n\\to +\\infty}\\Bigl(\\frac{1+\\frac{1}{n}}{1+\\frac{2}{n}}\\Bigr)^{\\frac {3}{2}} = 1 $$\n",
        "признак д’Аламбера не работает\n",
        "\n",
        "Второй признак сравнения.\n",
        "\n",
        "Это сравнение со степенным рядом $O\\Bigr(\\frac{1}{n^p}\\Bigl)$. Естественно, если это возможно. \n",
        "\n",
        "- если степень $p>1$, то ряд сходится. \n",
        "- во всех остальных случаях расходится.\n",
        "\n",
        "в нашем случае $p = \\frac{3}{2} > 1$ следовательно ряд сходится"
      ]
    },
    {
      "cell_type": "code",
      "metadata": {
        "colab": {
          "base_uri": "https://localhost:8080/",
          "height": 39
        },
        "id": "lofC9mUwlJEI",
        "outputId": "afbddd35-4e66-47cb-f00a-1f742caa4450"
      },
      "source": [
        "from sympy import *\n",
        "init_printing()\n",
        "x=Symbol('x')\n",
        "f=1/((x+1)*(x+1)**(1/2))\n",
        "f"
      ],
      "execution_count": null,
      "outputs": [
        {
          "output_type": "execute_result",
          "data": {
            "image/png": "[encoded data removed]",
            "text/latex": "$$\\left(x + 1\\right)^{-1.5}$$",
            "text/plain": [
              "       -1.5\n",
              "(x + 1)    "
            ]
          },
          "metadata": {
            "tags": []
          },
          "execution_count": 1
        }
      ]
    },
    {
      "cell_type": "code",
      "metadata": {
        "colab": {
          "base_uri": "https://localhost:8080/",
          "height": 38
        },
        "id": "MYcld5oUlMqZ",
        "outputId": "13e3d667-16b2-47f1-f65a-7f3c59be92c6"
      },
      "source": [
        "integrate(f,(x,1,+oo))"
      ],
      "execution_count": null,
      "outputs": [
        {
          "output_type": "execute_result",
          "data": {
            "image/png": "[encoded data removed]",
            "text/latex": "$$1.41421356237309$$",
            "text/plain": [
              "1.41421356237309"
            ]
          },
          "metadata": {
            "tags": []
          },
          "execution_count": 2
        }
      ]
    },
    {
      "cell_type": "markdown",
      "metadata": {
        "id": "cECfCSANkVqR"
      },
      "source": [
        "__2.__ Исследовать сходимость ряда<a class=\"anchor\" id=\"ex2\"></a><center>\n",
        "\n",
        "### $$\\frac{1000}{1!}+\\frac{1000^2}{2!}+\\,...\\,+\\frac{1000^n}{n!}+\\,...\\,=\\sum\\limits_{n=1}^{+\\infty}\\frac{1000^n}{n!}$$"
      ]
    },
    {
      "cell_type": "markdown",
      "metadata": {
        "id": "Sd1svIAYtBZX"
      },
      "source": [
        "# Решение:\n",
        "\n",
        "#### Признак д’Аламбера.\n",
        "расмотрим следущий предел:\n",
        "\n",
        "### $$\\lim_{n\\to +\\infty}\\frac{a_{n+1}}{a_{n}}=q$$\n",
        "\n",
        "- если $q<1$, то ряд сходится;\n",
        "- если $q>1$, то ряд расходится;\n",
        "- если $q=1$, то признак д’Аламбера не работает.\n",
        "\n",
        "### $$\\lim_{n\\to +\\infty}\\Big(\\frac{1000^{n+1}}{(n+1)!}:\\frac{1000^{n}}{n!}\\Big) = \\\\ =\\lim_{n\\to +\\infty}\\frac{1000^{n}\\cdot 1000}{(n+1) \\cdot n!}\\cdot\\frac{n!}{1000^{n}} = \\\\ =\\lim_{n\\to +\\infty}\\frac{1000}{n+1} = 0$$\n",
        "\n",
        "### $0<1$ Ряд сходится по признаку д'Аламбера"
      ]
    },
    {
      "cell_type": "markdown",
      "metadata": {
        "id": "DFrjdtbHkVqS"
      },
      "source": [
        "__3*.__ Исследовать сходимость ряда<a class=\"anchor\" id=\"ex3\"></a><center>\n",
        "\n",
        "### $$\\frac{2\\cdot1!}{1}+\\frac{2^2\\cdot2!}{2^2}+\\,...\\,+\\frac{2^n\\cdot n!}{n^n}+\\,...\\,=\\sum\\limits_{n=1}^{+\\infty}\\frac{2^n\\cdot n!}{n^n}$$"
      ]
    },
    {
      "cell_type": "markdown",
      "metadata": {
        "id": "2iuTD4NuxD4_"
      },
      "source": [
        "# Решение:\n",
        "\n",
        "#### Признак д’Аламбера.\n",
        "расмотрим следущий предел:\n",
        "\n",
        "### $$\\lim_{n\\to +\\infty}\\frac{a_{n+1}}{a_{n}}=q$$\n",
        "\n",
        "- если $q<1$, то ряд сходится;\n",
        "- если $q>1$, то ряд расходится;\n",
        "- если $q=1$, то признак д’Аламбера не работает.\n",
        "\n",
        "\n",
        "### $$\\lim_{n\\to +\\infty}\\Big(\\frac{2^{n+1} \\cdot (n+1)!}{(n+1)^{n+1}}:\\frac{2^{n} \\cdot n!}{n^n}\\Big) = \\\\ = \\lim_{n\\to +\\infty}\\frac{2 \\cdot 2^{n} \\cdot (n+1) \\cdot n!}{(n+1) \\cdot (n+1)^{n}}\\cdot \\frac{n^n}{2^{n} \\cdot n!} = \\\\ = \\lim_{n\\to +\\infty}\\frac{2 n^n}{(n+1)^{n}} = 2 \\cdot\\lim_{n\\to +\\infty}\\Big(\\frac{n}{n+1}\\Big)^n = 2e^{-1}$$\n",
        "\n",
        "### $\\frac{2}{e} < 1$ Ряд сходится по признаку д'Аламбера"
      ]
    },
    {
      "cell_type": "markdown",
      "metadata": {
        "id": "0byiGUfFje9r"
      },
      "source": [
        "__4*.__ Исследовать сходимость ряда<a class=\"anchor\" id=\"ex4\"></a><center>\n",
        "\n",
        "### $$\\frac{3\\cdot1!}{1}+\\frac{3^2\\cdot2!}{2^2}+\\,...\\,+\\frac{3^n\\cdot n!}{n^n}+\\,...\\,=\\sum\\limits_{n=1}^{+\\infty}\\frac{3^n\\cdot n!}{n^n}$$"
      ]
    },
    {
      "cell_type": "markdown",
      "metadata": {
        "id": "WWdSC-BY2ZAp"
      },
      "source": [
        "# Решение:\n",
        "\n",
        "#### Признак д’Аламбера.\n",
        "расмотрим следущий предел:\n",
        "\n",
        "### $$\\lim_{n\\to +\\infty}\\frac{a_{n+1}}{a_{n}}=q$$\n",
        "\n",
        "- если $q<1$, то ряд сходится;\n",
        "- если $q>1$, то ряд расходится;\n",
        "- если $q=1$, то признак д’Аламбера не работает.\n",
        "\n",
        "\n",
        "### $$\\lim_{n\\to +\\infty}\\Big(\\frac{3^{n+1} \\cdot (n+1)!}{(n+1)^{n+1}}:\\frac{3^{n} \\cdot n!}{n^n}\\Big) = \\\\ = \\lim_{n\\to +\\infty}\\frac{3 \\cdot 3^{n} \\cdot (n+1) \\cdot n!}{(n+1) \\cdot (n+1)^{n}}\\cdot \\frac{n^n}{3^{n} \\cdot n!} = \\\\ = \\lim_{n\\to +\\infty}\\frac{3 n^n}{(n+1)^{n}} = 3 \\cdot\\lim_{n\\to +\\infty}\\Big(\\frac{n}{n+1}\\Big)^n = 3e^{-1}$$\n",
        "\n",
        "### $\\frac{3}{e} > 1$ Ряд расходится по признаку д'Аламбера"
      ]
    },
    {
      "cell_type": "markdown",
      "metadata": {
        "id": "sQKzMK3Gje9s"
      },
      "source": [
        "__5.__ Исследовать сходимость ряда<a class=\"anchor\" id=\"ex5\"></a><center>\n",
        "\n",
        "### $$-\\frac{\\sqrt1}{101}+\\frac{\\sqrt2}{102}-\\,...\\,+\\frac{(-1)^n\\sqrt n}{n+100}+\\,...\\,=\\sum\\limits_{n=1}^{+\\infty}\\frac{(-1)^n\\sqrt n}{n+100}$$"
      ]
    },
    {
      "cell_type": "markdown",
      "metadata": {
        "id": "CSbW6KcY33EL"
      },
      "source": [
        "# Решение:\n",
        "\n",
        "#### Признак д’Аламбера.\n",
        "расмотрим следущий предел:\n",
        "\n",
        "### $$\\lim_{n\\to +\\infty}\\frac{a_{n+1}}{a_{n}}=q$$\n",
        "\n",
        "- если $q<1$, то ряд сходится;\n",
        "- если $q>1$, то ряд расходится;\n",
        "- если $q=1$, то признак д’Аламбера не работает.\n",
        "\n",
        "\n",
        "### $$\\lim_{n\\to +\\infty}\\Big(\\frac{(-1)^{n+1} \\sqrt{n+1}}{(n+1)+100}:\\frac{(-1)^{n} \\sqrt{n}}{n+100}{}\\Big) = \\\\\n",
        "=\\lim_{n\\to +\\infty}\\Big(\\frac{-1 \\cdot (-1)^{n} \\cdot (n+100) \\cdot \\sqrt{n+1}}{(n+1+100) \\cdot (-1)^{n} \\cdot \\sqrt{n}}\\Big)= \\\\\n",
        "=\\lim_{n\\to +\\infty}\\Big(-\\frac{(n+100) \\cdot \\sqrt{n+1}}{(n+100+1) \\cdot \\sqrt{n}}\\Big)= \\\\\n",
        "=\\lim_{n\\to +\\infty}\\Big(-\\frac{n+100}{n+100+1} \\cdot \\sqrt{\\frac{n+1}{n}}\\Big)= \\\\\n",
        "=\\lim_{n\\to +\\infty}\\Big(-\\frac{1+\\frac{100}{n}}{1+\\frac{101}{n}} \\cdot \\sqrt{1+\\frac{1}{n}}\\Big)= -1\n",
        "$$\n",
        "\n",
        "### $-1 < 1$ Ряд сходится по признаку д'Аламбера"
      ]
    },
    {
      "cell_type": "markdown",
      "metadata": {
        "id": "sSDDCwPWje9t"
      },
      "source": [
        "__6*.__ Разложить функцию $y=e^x$ в ряд Маклорена, а так же в ряд Фурье на отрезке $[-\\pi, \\pi]$. Построить график функции и разложений.<a class=\"anchor\" id=\"ex6\"></a><center>\n",
        "\n"
      ]
    },
    {
      "cell_type": "markdown",
      "metadata": {
        "id": "JZIaBf7QA-GV"
      },
      "source": [
        "# Решение:\n",
        "\n",
        "### Ряд Тейлора (Маклорена)\n",
        "\n",
        "__Ряд Тейлора__ - это еще один из способов аппроксимации из курса математического анализа. При этом функцию $f(x)$ мы аппроксимируем гармоническим (степенным) рядом.\n",
        "\n",
        "Разложение функции $f(x)$ происходит в окрестности точки,  будет называть её $a$. Основным требованием является то, функция $f(x)$ имеет бесконечное множество производных в точке $a$.\n",
        "\n",
        "### $$f(x)=\\sum\\limits_{n=0}^{+\\infty}\\frac{f^{(n)}(a)}{n!}(x-a)^n =$$\n",
        "#### $$= f(a)+\\frac{f'(a)}{1!}(x-a)+\\frac{f''(a)}{2!}(x-a)^2+\\frac{f'''(a)}{3!}(x-a)^3+...+\\frac{f^n(a)}{n!}(x-a)^n$$\n",
        "\n",
        "где $f^{(n)}(a)$ -это значение производной в точке $a$ $n$-го порядка.\n",
        "\n",
        "__Ряд Маклорена__ - это частный случай ряд Тейлора при $a=0$\n",
        "\n",
        "Разложим функцию $f(x)=e^x$.\n",
        "\n",
        "Т.к. наша функция уже является степенной, то разложение будет конечным:\n",
        "\n",
        "#### $$ e^x= f(0)+\\frac{f'(0)}{1!}(x-0)+\\frac{f''(0)}{2!}(x-0)^2+\\frac{f'''(0)}{3!}(x-0)^3+...+\\frac{f^n(0)}{n!}(x-0)^n + r_n=$$\n",
        "\n",
        "#### $$ = e^0 + \\frac{e^0}{1!}(x-0)+\\frac{e^0}{2!}(x-0)^2+\\frac{e^0}{3!}(x-0)^3+...+\\frac{e^0}{n!}(x-0)^n + r_n$$\n",
        "\n",
        "### $$f(x)=e^x; \\ \\ \\ f'(x)=e^x; \\ \\ \\ f''(x)=e^x ...$$\n",
        "\n",
        "#### $$ e^x= 1 + x +\\frac{x^2}{2}+\\frac{x^3}{6}+...+\\frac{x^n}{n!}$$\n",
        "\n",
        "\n",
        "\n"
      ]
    },
    {
      "cell_type": "markdown",
      "metadata": {
        "id": "kKeeu6UgKZzF"
      },
      "source": [
        "__Ряд Фурье__\n",
        "\n",
        "Ряд Фурье так же является способом аппроксимаций функций, только с помощью синусов и косинусов разных амплитуд.\n",
        "\n",
        "Разложении, в отличии от ряда Тейлора,  происходит на интервале. Для простоты разберем формулу для симметричного интервала $[-\\pi, \\pi]$:\n",
        "\n",
        "### $$f(x)=a_{0}+\\sum\\limits_{n=1}^{+\\infty}(a_n\\cos nx+b_n\\sin nx)$$\n",
        "\n",
        "где\n",
        "\n",
        "### $$a_0=\\frac{1}{2\\pi}\\int\\limits_{-\\pi}^\\pi f(x)\\,dx$$\n",
        "\n",
        "### $$a_n=\\frac{1}{\\pi}\\int\\limits_{-\\pi}^\\pi f(x)\\cos nx\\,dx$$\n",
        "\n",
        "### $$b_n=\\frac{1}{\\pi}\\int\\limits_{-\\pi}^\\pi f(x)\\sin nx\\,dx$$\n",
        "\n",
        "Т.е. чтобы разложить функцию в ряд Фурье, нужно посчитать три интеграла.\n",
        "\n",
        "\n",
        "\n",
        "\n",
        "\n",
        "\n",
        "\n",
        "\n",
        "\n",
        "\n",
        "\n",
        "\n",
        "\n",
        "\n",
        "### Найдем $a_0$:\n",
        "\n",
        "### $$a_0=\\frac{1}{2\\pi}\\int\\limits_{-\\pi}^\\pi f(x)\\,dx=\\frac{1}{2\\pi}\\int\\limits_{-\\pi}^\\pi e^x\\,dx=$$\n",
        "\n",
        "### $$=\\frac{1}{2\\pi}\\cdot e^x \\Bigr|_{-\\pi}^\\pi = \\frac{e^\\pi-e^{-\\pi}}{2\\pi} \\approx 3.6761$$\n",
        "\n",
        "\n",
        "\n",
        "\n",
        "### Найдем $a_n$:\n",
        "\n",
        "### $$a_n=\\frac{1}{\\pi}\\int\\limits_{-\\pi}^\\pi f(x)\\cos nx\\,dx = \\frac{1}{\\pi} \\Big[\\int\\limits_{-\\pi}^\\pi e^x \\cos nx\\,dx\\Big] = $$\n",
        "\n",
        "Данный интеграл будем брать по частям:\n",
        "\n",
        "### $$U=e^x\\,\\,\\,\\,\\,\\Rightarrow\\,\\,\\,\\,\\, dU=e^x\\,dx$$ \n",
        "### $$dV=\\cos nx\\,dx\\,\\,\\,\\,\\,\\Rightarrow\\,\\,\\,\\,\\, V=\\frac{1}{n}\\sin nx$$ \n",
        "\n",
        "### $$= \\frac{1}{\\pi} \\Bigr[\\frac{1}{n} e^x \\sin nx\\Bigr|_{-\\pi}^\\pi-\\frac{1}{n}\\int\\limits_{-\\pi}^\\pi e^x \\sin nx\\,dx\\Bigl]=$$\n",
        "\n",
        "Скобка равна нулю, т.к. $\\sin \\pi n=\\sin (-\\pi n)=0$. Интеграл возьмем еще раз по частям:\n",
        "\n",
        "### $$U= e^x \\,\\,\\,\\,\\,\\Rightarrow\\,\\,\\,\\,\\, dU= e^x dx$$ \n",
        "### $$dV=\\sin nx\\,dx\\,\\,\\,\\,\\,\\Rightarrow\\,\\,\\,\\,\\, V=-\\frac{1}{n}\\cos nx$$ \n",
        "\n",
        "#### $$= \\frac{1}{\\pi} \\Bigr[\\frac{1}{n} e^x \\sin nx\\Bigr|_{-\\pi}^\\pi-\\frac{1}{n}\\Big(-\\frac{1}{n} e^x \\cos nx \\Bigr|_{-\\pi}^\\pi + \\frac{1}{n}\\int\\limits_{-\\pi}^\\pi e^x \\cos nx\\,dx \\Big)\\Bigl]$$\n",
        "\n",
        "#### $$\\frac{1}{\\pi} \\Big(1 + \\frac{1}{n^2} \\Big) \\int\\limits_{-\\pi}^\\pi e^x \\cos nx\\,dx = \\frac{1}{\\pi} \\Bigr[\\frac{1}{n} e^x \\sin nx\\Bigr|_{-\\pi}^\\pi-\\frac{1}{n}\\Big(-\\frac{1}{n} e^x \\cos nx \\Bigr|_{-\\pi}^\\pi \\Big)\\Bigl]$$\n",
        "\n",
        "### $$\\frac{1}{\\pi} \\int\\limits_{-\\pi}^\\pi e^x \\cos nx\\,dx = \\frac{n^2}{\\pi(n^2+1)} \\Bigr[0+\\frac{1}{n^2}\\Big(e^x \\cos nx \\Bigr|_{-\\pi}^\\pi \\Big)\\Bigl]=$$\n",
        "\n",
        "т.к. $\\cos \\pi n=\\cos (-\\pi n)=1$\n",
        "\n",
        "### $$ = \\frac{\\cos n(\\pi) \\cdot e^{\\pi} - \\cos n(-\\pi) \\cdot e^{-\\pi} }{\\pi(n^2+1)} = \\frac{e^{\\pi} - e^{-\\pi} }{\\pi(n^2+1)}$$\n",
        "\n",
        "\n",
        "\n",
        "\n",
        "\n",
        "\n",
        "\n",
        "\n",
        "\n",
        "\n",
        "\n",
        "\n",
        "\n",
        "\n",
        "### Найдем $b_n$:\n",
        "\n",
        "### $$b_n=\\frac{1}{\\pi}\\int\\limits_{-\\pi}^\\pi f(x)\\sin nx\\,dx=\\frac{1}{\\pi}\\Big[\\int\\limits_{-\\pi}^\\pi e^x \\sin nx\\,dx \\Big]=$$\n",
        "\n",
        "Данный интеграл будем брать по частям:\n",
        "\n",
        "### $$U= e^x \\,\\,\\,\\,\\,\\Rightarrow\\,\\,\\,\\,\\, dU= e^x \\,dx$$ \n",
        "### $$dV=\\sin nx\\,dx\\,\\,\\,\\,\\,\\Rightarrow\\,\\,\\,\\,\\, V=-\\frac{1}{n}\\cos nx$$ \n",
        "\n",
        "### $$= \\frac{1}{\\pi}\\Big[-\\frac{1}{n} e^x \\cos nx \\Bigr|_{-\\pi}^\\pi+\\frac{1}{n}\\int\\limits_{-\\pi}^\\pi e^x \\cos nx\\,dx \\Big]$$\n",
        "\n",
        "Интеграл возьмем еще раз по частям:\n",
        "\n",
        "### $$U= e^x \\,\\,\\,\\,\\,\\Rightarrow\\,\\,\\,\\,\\, dU= e^x dx$$ \n",
        "### $$dV=\\cos nx\\,dx\\,\\,\\,\\,\\,\\Rightarrow\\,\\,\\,\\,\\, V=\\frac{1}{n}\\sin nx$$ \n",
        "\n",
        "#### $$= \\frac{1}{\\pi}\\Big[-\\frac{1}{n} e^x \\cos nx \\Bigr|_{-\\pi}^\\pi+ \\frac{1}{n} \\Big( \\frac{1}{n} e^x \\sin nx \\Bigr|_{-\\pi}^\\pi - \\int\\limits_{-\\pi}^\\pi \\frac{1}{n}  e^x \\sin nx\\,dx \\Big) \\Big]$$\n",
        "\n",
        "#### $$\\frac{1}{\\pi} \\Big(1 + \\frac{1}{n^2} \\Big) \\int\\limits_{-\\pi}^\\pi e^x \\sin nx\\,dx = \\frac{1}{\\pi} \\Bigr[-\\frac{1}{n} e^x \\cos nx\\Bigr|_{-\\pi}^\\pi + \\frac{1}{n^2} e^x \\sin nx \\Bigr|_{-\\pi}^\\pi \\Bigl]$$\n",
        "\n",
        "#### $$\\frac{1}{\\pi} \\int\\limits_{-\\pi}^\\pi e^x \\sin nx\\,dx = \\frac{n^2}{\\pi(n^2+1) \\cdot n} \\Bigr[-(e^x \\cos nx ) \\Big|_{-\\pi}^\\pi \\Big) + \\frac{1}{n} (e^x \\sin nx ) \\Big|_{-\\pi}^\\pi \\Bigl]=$$\n",
        "\n",
        "т.к. $\\sin \\pi n=\\sin (-\\pi n)=0$\n",
        "\n",
        "### $$ = n \\frac{-e^{\\pi} \\cos n(\\pi) + e^{-\\pi} \\cos n(-\\pi)}{\\pi(n^2+1)} =$$\n",
        "\n",
        "т.к. $\\cos \\pi n=\\cos (-\\pi n)$\n",
        "\n",
        "### $$ = n \\frac{-e^{\\pi} + e^{-\\pi}}{\\pi(n^2+1)}$$\n",
        "\n",
        "\n",
        "\n",
        "\n",
        "\n",
        "\n",
        "\n",
        "\n",
        "\n",
        "\n",
        "\n",
        "\n",
        "\n",
        "\n",
        "\n",
        "\n",
        "\n",
        "\n",
        "### Получается, что\n",
        "\n",
        "### $$e^x= \\frac{e^\\pi-e^{-\\pi}}{2\\pi} + \\frac{e^{\\pi} - e^{-\\pi} }{\\pi(n^2+1)} + n \\frac{-e^{\\pi} + e^{-\\pi}}{\\pi(n^2+1)}$$\n",
        "\n",
        "на отрезке $[-\\pi, \\pi]$\n",
        "\n"
      ]
    },
    {
      "cell_type": "markdown",
      "metadata": {
        "id": "lSWMrB1MuV5-"
      },
      "source": [
        "### Найдем $a_n$:"
      ]
    },
    {
      "cell_type": "code",
      "metadata": {
        "colab": {
          "base_uri": "https://localhost:8080/",
          "height": 39
        },
        "id": "UQ-R-u3UqrPj",
        "outputId": "ac617718-9d13-46f7-c95c-83d83322f4af"
      },
      "source": [
        "from sympy import *\n",
        "init_printing()\n",
        "x=Symbol('x')\n",
        "f=1/pi*exp(x)*cos(x)\n",
        "f"
      ],
      "execution_count": 35,
      "outputs": [
        {
          "output_type": "execute_result",
          "data": {
            "image/png": "[encoded data removed]",
            "text/latex": "$$\\frac{e^{x}}{\\pi} \\cos{\\left (x \\right )}$$",
            "text/plain": [
              " x       \n",
              "ℯ ⋅cos(x)\n",
              "─────────\n",
              "    π    "
            ]
          },
          "metadata": {
            "tags": []
          },
          "execution_count": 35
        }
      ]
    },
    {
      "cell_type": "code",
      "metadata": {
        "colab": {
          "base_uri": "https://localhost:8080/",
          "height": 39
        },
        "id": "9Xy-L_lCq31w",
        "outputId": "6a7f0bca-d56c-417d-8df3-85ccc41448f1"
      },
      "source": [
        "integrate(f,x)"
      ],
      "execution_count": 31,
      "outputs": [
        {
          "output_type": "execute_result",
          "data": {
            "image/png": "[encoded data removed]",
            "text/latex": "$$\\frac{e^{x}}{2} \\sin{\\left (x \\right )} + \\frac{e^{x}}{2} \\cos{\\left (x \\right )}$$",
            "text/plain": [
              " x           x       \n",
              "ℯ ⋅sin(x)   ℯ ⋅cos(x)\n",
              "───────── + ─────────\n",
              "    2           2    "
            ]
          },
          "metadata": {
            "tags": []
          },
          "execution_count": 31
        }
      ]
    },
    {
      "cell_type": "code",
      "metadata": {
        "colab": {
          "base_uri": "https://localhost:8080/",
          "height": 39
        },
        "id": "-fQt9nn6q6ar",
        "outputId": "850257b0-9635-41ec-f151-1f405aef9eab"
      },
      "source": [
        "integrate(f, (x, -pi, pi))"
      ],
      "execution_count": 34,
      "outputs": [
        {
          "output_type": "execute_result",
          "data": {
            "image/png": "[encoded data removed]",
            "text/latex": "$$- \\frac{e^{\\pi}}{2} + \\frac{1}{2 e^{\\pi}}$$",
            "text/plain": [
              "   π    -π\n",
              "  ℯ    ℯ  \n",
              "- ── + ───\n",
              "  2     2 "
            ]
          },
          "metadata": {
            "tags": []
          },
          "execution_count": 34
        }
      ]
    },
    {
      "cell_type": "markdown",
      "metadata": {
        "id": "ceyx3Uozukh8"
      },
      "source": [
        "### Найдем $b_n$:"
      ]
    },
    {
      "cell_type": "code",
      "metadata": {
        "colab": {
          "base_uri": "https://localhost:8080/",
          "height": 39
        },
        "id": "nmo0cTIqujW3",
        "outputId": "38948d5a-5bf5-47fe-e659-6f4b49c4755e"
      },
      "source": [
        "from sympy import *\n",
        "init_printing()\n",
        "x=Symbol('x')\n",
        "f=1/pi*exp(x)*sin(x)\n",
        "f"
      ],
      "execution_count": 36,
      "outputs": [
        {
          "output_type": "execute_result",
          "data": {
            "image/png": "[encoded data removed]",
            "text/latex": "$$\\frac{e^{x}}{\\pi} \\sin{\\left (x \\right )}$$",
            "text/plain": [
              " x       \n",
              "ℯ ⋅sin(x)\n",
              "─────────\n",
              "    π    "
            ]
          },
          "metadata": {
            "tags": []
          },
          "execution_count": 36
        }
      ]
    },
    {
      "cell_type": "code",
      "metadata": {
        "colab": {
          "base_uri": "https://localhost:8080/",
          "height": 39
        },
        "id": "hg7DGToBuloB",
        "outputId": "5cc31db2-53f1-465d-f426-b1f8e43ae471"
      },
      "source": [
        "integrate(f,x)"
      ],
      "execution_count": 37,
      "outputs": [
        {
          "output_type": "execute_result",
          "data": {
            "image/png": "[encoded data removed]",
            "text/latex": "$$\\frac{1}{\\pi} \\left(\\frac{e^{x}}{2} \\sin{\\left (x \\right )} - \\frac{e^{x}}{2} \\cos{\\left (x \\right )}\\right)$$",
            "text/plain": [
              " x           x       \n",
              "ℯ ⋅sin(x)   ℯ ⋅cos(x)\n",
              "───────── - ─────────\n",
              "    2           2    \n",
              "─────────────────────\n",
              "          π          "
            ]
          },
          "metadata": {
            "tags": []
          },
          "execution_count": 37
        }
      ]
    },
    {
      "cell_type": "code",
      "metadata": {
        "colab": {
          "base_uri": "https://localhost:8080/",
          "height": 39
        },
        "id": "etp6H1gsumV2",
        "outputId": "514c0bd6-d6ff-4874-9861-660717d84f37"
      },
      "source": [
        "integrate(f, (x, -pi, pi))"
      ],
      "execution_count": 38,
      "outputs": [
        {
          "output_type": "execute_result",
          "data": {
            "image/png": "[encoded data removed]",
            "text/latex": "$$- \\frac{1}{2 \\pi e^{\\pi}} + \\frac{e^{\\pi}}{2 \\pi}$$",
            "text/plain": [
              "   -π     π\n",
              "  ℯ      ℯ \n",
              "- ─── + ───\n",
              "  2⋅π   2⋅π"
            ]
          },
          "metadata": {
            "tags": []
          },
          "execution_count": 38
        }
      ]
    },
    {
      "cell_type": "code",
      "metadata": {
        "colab": {
          "base_uri": "https://localhost:8080/",
          "height": 868
        },
        "id": "AHjHvQe8mexB",
        "outputId": "8a62f547-ea1d-4621-9e4f-20310ee3dcc8"
      },
      "source": [
        "from sympy import *\n",
        "from matplotlib import pylab as plt\n",
        "import numpy as np\n",
        "%matplotlib inline\n",
        "\n",
        "plt.figure(figsize=(15,15))\n",
        "plt.axis([-np.pi, np.pi, -30, 30])\n",
        "n = Symbol('n')\n",
        "x=np.linspace(-np.pi, np.pi,100)\n",
        "plt.title(\"Ряд Маклорена\")\n",
        "\n",
        "y = [summation(i**n/factorial(n),(n,0,7)) for i in x] # ряд Маклорена\n",
        "\n",
        "ax = plt.gca()\n",
        "ax.spines['left'].set_position('center')\n",
        "ax.spines['bottom'].set_position('center')\n",
        "ax.spines['top'].set_visible(False)\n",
        "ax.spines['right'].set_visible(False)\n",
        "y1 = np.exp(x)\n",
        "ax.scatter(x, y,\n",
        "           c = 'deeppink')\n",
        "plt.plot(x,y1, c='black')\n",
        "# plt.plot(x,y1, c='gold')\n",
        "# plt.legend(loc='best')\n",
        "plt.grid(True)\n",
        "\n",
        "plt.show()"
      ],
      "execution_count": 18,
      "outputs": [
        {
          "output_type": "display_data",
          "data": {
            "image/png": "[encoded data removed]",
            "text/plain": [
              "<Figure size 1080x1080 with 1 Axes>"
            ]
          },
          "metadata": {
            "tags": [],
            "needs_background": "light"
          }
        }
      ]
    },
    {
      "cell_type": "code",
      "metadata": {
        "colab": {
          "base_uri": "https://localhost:8080/",
          "height": 868
        },
        "id": "Z5rJjMGUoMgZ",
        "outputId": "02b23684-9311-439a-ae45-90315bec2a95"
      },
      "source": [
        "from sympy import *\n",
        "from matplotlib import pylab as plt\n",
        "import numpy as np\n",
        "%matplotlib inline\n",
        "\n",
        "plt.figure(figsize=(15,15))\n",
        "plt.axis([-np.pi, np.pi, -30, 30])\n",
        "n = Symbol('n')\n",
        "x1=np.linspace(-np.pi, np.pi,100)\n",
        "plt.title(\"Ряд Фурье\")\n",
        "\n",
        "def fur(i):\n",
        "  a0 = (exp(np.pi) - exp(-np.pi))/np.pi\n",
        "  an = ((-1)**n)*(exp(np.pi) - exp(-np.pi))/(n**2+1)/np.pi\n",
        "  bn = ((-1)**n)*n*(-exp(np.pi) + exp(-np.pi))/(n**2+1)/np.pi\n",
        "  temp = a0/2+summation((an*cos(n*i)+bn*sin(n*i)),(n,1,25))\n",
        "  return temp\n",
        "y2 = [fur(i) for i in x] # ряд Фурье\n",
        "ax = plt.gca()\n",
        "ax.spines['left'].set_position('center')\n",
        "ax.spines['bottom'].set_position('center')\n",
        "ax.spines['top'].set_visible(False)\n",
        "ax.spines['right'].set_visible(False)\n",
        "y1 = np.exp(x)\n",
        "ax.scatter(x1, y1,\n",
        "           c = 'deeppink')\n",
        "plt.plot(x1,y2, c='black')\n",
        "plt.grid(True)\n",
        "\n",
        "plt.show()"
      ],
      "execution_count": 17,
      "outputs": [
        {
          "output_type": "display_data",
          "data": {
            "image/png": "[encoded data removed]",
            "text/plain": [
              "<Figure size 1080x1080 with 1 Axes>"
            ]
          },
          "metadata": {
            "tags": [],
            "needs_background": "light"
          }
        }
      ]
    },
    {
      "cell_type": "markdown",
      "metadata": {
        "id": "Iv-T_NZAkVqZ"
      },
      "source": [
        "## Дополнительные материалы"
      ]
    },
    {
      "cell_type": "markdown",
      "metadata": {
        "id": "9o_SiUNxkVqa"
      },
      "source": [
        "1. [пример с habr](https://habr.com/ru/post/338704/)"
      ]
    }
  ]
}