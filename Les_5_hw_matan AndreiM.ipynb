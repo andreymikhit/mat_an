{
 "cells": [
  {
   "cell_type": "markdown",
   "metadata": {
    "id": "zz7SDkPIkVlM"
   },
   "source": [
    "# Урок 5. ДЗ (22.01.2021)\n",
    "# Матанализ"
   ]
  },
  {
   "cell_type": "markdown",
   "metadata": {},
   "source": [
    "* [Практическое задание. ДЗ.](#ex)\n",
    "    * [Задание 1](#ex1)\n",
    "    * [Задание 2](#ex2)\n",
    "    * [Задание 3](#ex3)\n",
    "    * [Задание 4](#ex4)\n",
    "    * [Задание 5](#ex5)\n",
    "    * [Задание 6](#ex6)\n",
    "    * [Задание 7](#ex7)\n",
    "    * [Задание 8](#ex8)\n",
    "    * [Задание 9](#ex9)\n",
    "* [Теория](#theor)"
   ]
  },
  {
   "cell_type": "markdown",
   "metadata": {},
   "source": [
    "# <center>Задания из методички<a class=\"anchor\" id=\"ex\"></a><center>"
   ]
  },
  {
   "cell_type": "markdown",
   "metadata": {},
   "source": [
    "__1.__ Найти производную функции:<a class=\"anchor\" id=\"ex1\"></a>\n",
    "\n",
    "### $$y=\\frac{1}{x}+\\frac{2}{x^2}-\\frac{5}{x^3}+\\sqrt x -\\sqrt[3]x+\\frac{3}{\\sqrt x}$$"
   ]
  },
  {
   "cell_type": "markdown",
   "metadata": {},
   "source": [
    "### Решение: $$y'= 1 \\cdot (-1) \\cdot x^{-1-1}+2 \\cdot (-2)\\cdot x^{-2-1} - 5 \\cdot (-3) \\cdot x^{-3-1}+ \\frac{1}{2} \\cdot x^{-\\frac{1}{2}} -\\frac{1}{3} \\cdot x^{-\\frac{2}{3}} + 3 \\cdot (-\\frac{1}{2}) \\cdot x^{-\\frac{1}{2}-1}=\\\\\n",
    "= -\\frac{1}{x^2} - \\frac{4}{x^3} + \\frac{15}{x^4}+ \\frac{1}{2 \\sqrt x} -\\frac{1}{3 \\sqrt[3]{x^2}} - \\frac{3}{2x\\sqrt x}$$"
   ]
  },
  {
   "cell_type": "markdown",
   "metadata": {},
   "source": [
    "__2.__ Найти производную функции:<a class=\"anchor\" id=\"ex2\"></a>\n",
    "\n",
    "### $$y=x \\cdot \\sqrt {1+x^2}$$"
   ]
  },
  {
   "cell_type": "markdown",
   "metadata": {},
   "source": [
    "### Решение: $$y'= (x \\cdot (1+x^2)^\\frac{1}{2})' = 1 \\cdot (1+x^2)^\\frac{1}{2}+x \\cdot (1+x^2)^\\frac{1}{2})^{-1}= \\\\ = \\sqrt{1+x^2} + x \\cdot 2x \\cdot \\frac{1}{2} \\cdot (1+x^2)^{-\\frac{1}{2}}=\\sqrt{1+x^2} + \\frac{x^2}{\\sqrt{1+x^2}}$$"
   ]
  },
  {
   "cell_type": "markdown",
   "metadata": {},
   "source": [
    "__3.__ Найти производную функции:<a class=\"anchor\" id=\"ex3\"></a>\n",
    "\n",
    "### $$y= \\frac{2x}{1-x^2}$$"
   ]
  },
  {
   "cell_type": "markdown",
   "metadata": {},
   "source": [
    "### Решение:  $$y'= \\Big(\\frac{2x}{1-x^2}\\Big)'=\\\\\n",
    "=\\frac{2 \\cdot (1-x^2) - 2x \\cdot (-2x)}{(1-x^2)^2}=\\frac{2 \\cdot (1+x^2)}{(1-x^2)^2}$$"
   ]
  },
  {
   "cell_type": "markdown",
   "metadata": {},
   "source": [
    "__4*.__ Найти производную функции:<a class=\"anchor\" id=\"ex4\"></a>\n",
    "\n",
    "### $$y=\\sqrt{x+ \\sqrt{x+\\sqrt x}}$$"
   ]
  },
  {
   "cell_type": "markdown",
   "metadata": {},
   "source": [
    "### Решение:  $$ y'= \\Big(\\sqrt{x+ \\sqrt{x+\\sqrt x}}\\Big)'$$\n",
    "\n",
    "### $$y_1' = \\sqrt x = \\frac{x'}{2\\sqrt x} = \\frac{1}{2\\sqrt x}$$\n",
    "\n",
    "### $$y' = \\frac{\\Big(x+ \\sqrt{x+\\sqrt x}\\Big)'}{2 \\cdot \\sqrt{x+ \\sqrt{x+\\sqrt x}}} = \n",
    "\\frac{1+ \\frac{1 + (\\sqrt x)'}{2 \\cdot \\sqrt{x+\\sqrt x}}}{2 \\cdot \\sqrt{x+ \\sqrt{x+\\sqrt x}}} =\n",
    "\\frac{1+ \\frac{1+\\frac{1}{2 \\sqrt x}}{2 \\cdot \\sqrt{x+\\sqrt x}}}{2 \\cdot \\sqrt{x+ \\sqrt{x+\\sqrt x}}}=$$\n",
    "\n",
    "###  $$= \\frac{2 \\cdot \\sqrt{x+ \\sqrt x}    +  \\frac{2 \\cdot \\sqrt x + 1}{2 \\sqrt x}}   {4 \\cdot \\sqrt{x+ \\sqrt{x+\\sqrt x}} \\cdot \\sqrt{x+ \\sqrt x}}\n",
    "= \\frac{4 \\cdot \\sqrt x \\cdot \\sqrt{x+ \\sqrt x}    +  2 \\cdot \\sqrt x + 1}   {8 \\cdot \\sqrt x \\cdot \\sqrt{x+ \\sqrt{x+\\sqrt x}} \\cdot \\sqrt{x+ \\sqrt x}}\n",
    "=$$\n",
    "\n",
    "### $$= \\frac{2 \\cdot \\sqrt x \\cdot \\sqrt{x+ \\sqrt x}  +  \\sqrt x + 1}   {4 \\cdot \\sqrt x \\cdot \\sqrt{x+ \\sqrt{x+\\sqrt x}} \\cdot \\sqrt{x+ \\sqrt x}}$$"
   ]
  },
  {
   "cell_type": "markdown",
   "metadata": {},
   "source": [
    "__5.__ Найти производную функции:<a class=\"anchor\" id=\"ex5\"></a>\n",
    "\n",
    "### $$y= \\ln(x+\\sqrt{x^2+1})$$"
   ]
  },
  {
   "cell_type": "markdown",
   "metadata": {},
   "source": [
    "### Решение:  $$y'= (\\ln(x+\\sqrt{x^2+1}))' =$$\n",
    "\n",
    "###  $$= (\\ln(x+\\sqrt{x^2+1}))' \\cdot (x+\\sqrt{x^2+1})'= \\frac{1}{x+\\sqrt{x^2+1}} \\cdot \\Big( 1 + \\frac{2x}{2\\sqrt{x^2+1}} \\Big) =$$ \n",
    "\n",
    "###  $$= \\frac{1}{x+\\sqrt{x^2+1}} + \\frac{x}{(x+\\sqrt{x^2+1}) \\cdot \\sqrt{x^2+1} } = \\frac{1}{x+\\sqrt{x^2+1}} + \\frac{1}{\\sqrt{x^2+1} + x + \\frac{1}{x^2} }$$ \n"
   ]
  },
  {
   "cell_type": "markdown",
   "metadata": {},
   "source": [
    "__6.__ Найти производную функции:<a class=\"anchor\" id=\"ex6\"></a>\n",
    "\n",
    "### $$y=x \\cdot \\ln(x+\\sqrt{x^2+1})-\\sqrt{x^2+1}$$"
   ]
  },
  {
   "cell_type": "markdown",
   "metadata": {},
   "source": [
    "### Решение:  $$y'= (x \\cdot \\ln(x+\\sqrt{x^2+1})-\\sqrt{x^2+1})' =$$\n",
    "\n",
    "###  $$= 1 \\cdot \\ln(x+\\sqrt{x^2+1}) + x \\cdot (\\ln(x+\\sqrt{x^2+1})' - \\frac{2x}{2 \\sqrt{x^2+1}} = $$\n",
    "\n",
    "###  $$= 1 \\cdot \\ln(x+\\sqrt{x^2+1}) + x \\cdot \\Big( \\frac{1}{x+\\sqrt{x^2+1}} + \\frac{x}{(x+\\sqrt{x^2+1}) \\cdot \\sqrt{x^2+1} } \\Big)- \\frac{x}{\\sqrt{x^2+1}}$$\n",
    "\n",
    "###  $$= \\ln(x+\\sqrt{x^2+1}) + \\frac{x}{\\sqrt{x^2+1}} \\cdot \\Big( \\frac{\\sqrt{x^2+1}}{x+\\sqrt{x^2+1}} + \\frac{x}{x+\\sqrt{x^2+1}}-1 \\Big)$$"
   ]
  },
  {
   "cell_type": "markdown",
   "metadata": {},
   "source": [
    "__7*.__ Найти производную функции:<a class=\"anchor\" id=\"ex7\"></a>\n",
    "\n",
    "### $$y=\\arcsin (\\sin x)$$"
   ]
  },
  {
   "cell_type": "markdown",
   "metadata": {},
   "source": [
    "### Решение:  $$y'= (\\arcsin(\\sin x))' = (\\arcsin(\\sin x))' \\cdot (\\sin x)' = \\frac{\\cos x}{\\sqrt{1-\\sin^2 x}}=\\frac{\\cos x}{\\sqrt{\\cos^2 x}} = 1$$"
   ]
  },
  {
   "cell_type": "markdown",
   "metadata": {},
   "source": [
    "__8*.__ Вычислить приближенное значение:<a class=\"anchor\" id=\"ex8\"></a>\n",
    "\n",
    "### $$\\sin(1^0)=\\sin\\Bigl(\\frac{\\pi}{180}\\Bigr)$$"
   ]
  },
  {
   "cell_type": "markdown",
   "metadata": {},
   "source": [
    "### $$f'(x)=\\lim_{\\Delta x\\to 0} \\frac{f(x+\\Delta x)-f(x)}{\\Delta x} \\approx \\frac{f(x+\\Delta x)-f(x)}{\\Delta x}$$\n",
    "\n",
    "Если выразить $f(x+\\Delta x)$, то получим следующее выражение:\n",
    "\n",
    "### $$f(x+\\Delta x) \\approx f(x)+f'(x) \\cdot \\Delta x$$"
   ]
  },
  {
   "cell_type": "markdown",
   "metadata": {},
   "source": [
    "### Решение:\n",
    "### Представим: $ \\,\\,\\, x = 0^0 = 2\\pi \\,; \\,\\,\\,\\,\\, \\Delta x = 1^0$"
   ]
  },
  {
   "cell_type": "markdown",
   "metadata": {},
   "source": [
    "### $$ f(x) = f(2\\pi) = \\sin(2\\pi) = 0$$\n",
    "\n",
    "### $$ f'(x) = (\\sin(x))' = \\cos(x) = \\cos(0^0) = 1$$\n",
    "\n",
    "### $$f(x+\\Delta x) \\approx f(x)+f'(x) \\cdot \\Delta x \\approx 0 + 1 \\cdot 1^0 \\approx 1^0 = \\frac{\\pi}{180} = \\frac{\\pi}{\\pi}$$"
   ]
  },
  {
   "cell_type": "markdown",
   "metadata": {},
   "source": [
    "__9**.__ Написать на python алгоритм, по вычислению значений $\\sin(x)$ для $х \\in[0, 30^0]$ <a class=\"anchor\" id=\"ex9\"></a>\n",
    "\n",
    "Для проверки подойдут данные из таблицы Брадиса"
   ]
  },
  {
   "cell_type": "code",
   "execution_count": 60,
   "metadata": {},
   "outputs": [],
   "source": [
    "import math\n",
    "def sin_0_30_1(grad):\n",
    "  if grad < 0 or grad > 30:\n",
    "    return 'введите значение от 0 до 30'\n",
    "  else:\n",
    "    return round(math.sin(math.radians(grad)), 6)"
   ]
  },
  {
   "cell_type": "code",
   "execution_count": 18,
   "metadata": {},
   "outputs": [
    {
     "data": {
      "text/plain": [
       "0.0"
      ]
     },
     "execution_count": 18,
     "metadata": {},
     "output_type": "execute_result"
    }
   ],
   "source": [
    "sin_0_30_1(0)"
   ]
  },
  {
   "cell_type": "code",
   "execution_count": 19,
   "metadata": {},
   "outputs": [
    {
     "data": {
      "text/plain": [
       "0.017452"
      ]
     },
     "execution_count": 19,
     "metadata": {},
     "output_type": "execute_result"
    }
   ],
   "source": [
    "sin_0_30_1(1)"
   ]
  },
  {
   "cell_type": "code",
   "execution_count": 20,
   "metadata": {},
   "outputs": [
    {
     "data": {
      "text/plain": [
       "0.034899"
      ]
     },
     "execution_count": 20,
     "metadata": {},
     "output_type": "execute_result"
    }
   ],
   "source": [
    "sin_0_30_1(2)"
   ]
  },
  {
   "cell_type": "code",
   "execution_count": 21,
   "metadata": {},
   "outputs": [
    {
     "data": {
      "text/plain": [
       "0.052336"
      ]
     },
     "execution_count": 21,
     "metadata": {},
     "output_type": "execute_result"
    }
   ],
   "source": [
    "sin_0_30_1(3)"
   ]
  },
  {
   "cell_type": "code",
   "execution_count": 22,
   "metadata": {},
   "outputs": [
    {
     "data": {
      "text/plain": [
       "0.069756"
      ]
     },
     "execution_count": 22,
     "metadata": {},
     "output_type": "execute_result"
    }
   ],
   "source": [
    "sin_0_30_1(4)"
   ]
  },
  {
   "cell_type": "code",
   "execution_count": 23,
   "metadata": {},
   "outputs": [
    {
     "data": {
      "text/plain": [
       "0.087156"
      ]
     },
     "execution_count": 23,
     "metadata": {},
     "output_type": "execute_result"
    }
   ],
   "source": [
    "sin_0_30_1(5)"
   ]
  },
  {
   "cell_type": "code",
   "execution_count": 24,
   "metadata": {},
   "outputs": [
    {
     "data": {
      "text/plain": [
       "0.104528"
      ]
     },
     "execution_count": 24,
     "metadata": {},
     "output_type": "execute_result"
    }
   ],
   "source": [
    "sin_0_30_1(6)"
   ]
  },
  {
   "cell_type": "code",
   "execution_count": 25,
   "metadata": {},
   "outputs": [
    {
     "data": {
      "text/plain": [
       "0.121869"
      ]
     },
     "execution_count": 25,
     "metadata": {},
     "output_type": "execute_result"
    }
   ],
   "source": [
    "sin_0_30_1(7)"
   ]
  },
  {
   "cell_type": "code",
   "execution_count": 26,
   "metadata": {},
   "outputs": [
    {
     "data": {
      "text/plain": [
       "0.139173"
      ]
     },
     "execution_count": 26,
     "metadata": {},
     "output_type": "execute_result"
    }
   ],
   "source": [
    "sin_0_30_1(8)"
   ]
  },
  {
   "cell_type": "code",
   "execution_count": 27,
   "metadata": {},
   "outputs": [
    {
     "data": {
      "text/plain": [
       "0.156434"
      ]
     },
     "execution_count": 27,
     "metadata": {},
     "output_type": "execute_result"
    }
   ],
   "source": [
    "sin_0_30_1(9)"
   ]
  },
  {
   "cell_type": "code",
   "execution_count": 28,
   "metadata": {},
   "outputs": [
    {
     "data": {
      "text/plain": [
       "0.173648"
      ]
     },
     "execution_count": 28,
     "metadata": {},
     "output_type": "execute_result"
    }
   ],
   "source": [
    "sin_0_30_1(10)"
   ]
  },
  {
   "cell_type": "code",
   "execution_count": 29,
   "metadata": {},
   "outputs": [
    {
     "data": {
      "text/plain": [
       "0.190809"
      ]
     },
     "execution_count": 29,
     "metadata": {},
     "output_type": "execute_result"
    }
   ],
   "source": [
    "sin_0_30_1(11)"
   ]
  },
  {
   "cell_type": "code",
   "execution_count": 30,
   "metadata": {},
   "outputs": [
    {
     "data": {
      "text/plain": [
       "0.207912"
      ]
     },
     "execution_count": 30,
     "metadata": {},
     "output_type": "execute_result"
    }
   ],
   "source": [
    "sin_0_30_1(12)"
   ]
  },
  {
   "cell_type": "code",
   "execution_count": 31,
   "metadata": {},
   "outputs": [
    {
     "data": {
      "text/plain": [
       "0.224951"
      ]
     },
     "execution_count": 31,
     "metadata": {},
     "output_type": "execute_result"
    }
   ],
   "source": [
    "sin_0_30_1(13)"
   ]
  },
  {
   "cell_type": "code",
   "execution_count": 32,
   "metadata": {},
   "outputs": [
    {
     "data": {
      "text/plain": [
       "0.241922"
      ]
     },
     "execution_count": 32,
     "metadata": {},
     "output_type": "execute_result"
    }
   ],
   "source": [
    "sin_0_30_1(14)"
   ]
  },
  {
   "cell_type": "code",
   "execution_count": 33,
   "metadata": {},
   "outputs": [
    {
     "data": {
      "text/plain": [
       "0.258819"
      ]
     },
     "execution_count": 33,
     "metadata": {},
     "output_type": "execute_result"
    }
   ],
   "source": [
    "sin_0_30_1(15)"
   ]
  },
  {
   "cell_type": "code",
   "execution_count": 34,
   "metadata": {},
   "outputs": [
    {
     "data": {
      "text/plain": [
       "0.275637"
      ]
     },
     "execution_count": 34,
     "metadata": {},
     "output_type": "execute_result"
    }
   ],
   "source": [
    "sin_0_30_1(16)"
   ]
  },
  {
   "cell_type": "code",
   "execution_count": 35,
   "metadata": {},
   "outputs": [
    {
     "data": {
      "text/plain": [
       "0.292372"
      ]
     },
     "execution_count": 35,
     "metadata": {},
     "output_type": "execute_result"
    }
   ],
   "source": [
    "sin_0_30_1(17)"
   ]
  },
  {
   "cell_type": "code",
   "execution_count": 36,
   "metadata": {},
   "outputs": [
    {
     "data": {
      "text/plain": [
       "0.309017"
      ]
     },
     "execution_count": 36,
     "metadata": {},
     "output_type": "execute_result"
    }
   ],
   "source": [
    "sin_0_30_1(18)"
   ]
  },
  {
   "cell_type": "code",
   "execution_count": 37,
   "metadata": {},
   "outputs": [
    {
     "data": {
      "text/plain": [
       "0.325568"
      ]
     },
     "execution_count": 37,
     "metadata": {},
     "output_type": "execute_result"
    }
   ],
   "source": [
    "sin_0_30_1(19)"
   ]
  },
  {
   "cell_type": "code",
   "execution_count": 38,
   "metadata": {},
   "outputs": [
    {
     "data": {
      "text/plain": [
       "0.34202"
      ]
     },
     "execution_count": 38,
     "metadata": {},
     "output_type": "execute_result"
    }
   ],
   "source": [
    "sin_0_30_1(20)"
   ]
  },
  {
   "cell_type": "code",
   "execution_count": 39,
   "metadata": {},
   "outputs": [
    {
     "data": {
      "text/plain": [
       "0.358368"
      ]
     },
     "execution_count": 39,
     "metadata": {},
     "output_type": "execute_result"
    }
   ],
   "source": [
    "sin_0_30_1(21)"
   ]
  },
  {
   "cell_type": "code",
   "execution_count": 40,
   "metadata": {},
   "outputs": [
    {
     "data": {
      "text/plain": [
       "0.374607"
      ]
     },
     "execution_count": 40,
     "metadata": {},
     "output_type": "execute_result"
    }
   ],
   "source": [
    "sin_0_30_1(22)"
   ]
  },
  {
   "cell_type": "code",
   "execution_count": 41,
   "metadata": {},
   "outputs": [
    {
     "data": {
      "text/plain": [
       "0.390731"
      ]
     },
     "execution_count": 41,
     "metadata": {},
     "output_type": "execute_result"
    }
   ],
   "source": [
    "sin_0_30_1(23)"
   ]
  },
  {
   "cell_type": "code",
   "execution_count": 42,
   "metadata": {},
   "outputs": [
    {
     "data": {
      "text/plain": [
       "0.406737"
      ]
     },
     "execution_count": 42,
     "metadata": {},
     "output_type": "execute_result"
    }
   ],
   "source": [
    "sin_0_30_1(24)"
   ]
  },
  {
   "cell_type": "code",
   "execution_count": 43,
   "metadata": {},
   "outputs": [
    {
     "data": {
      "text/plain": [
       "0.422618"
      ]
     },
     "execution_count": 43,
     "metadata": {},
     "output_type": "execute_result"
    }
   ],
   "source": [
    "sin_0_30_1(25)"
   ]
  },
  {
   "cell_type": "code",
   "execution_count": 44,
   "metadata": {},
   "outputs": [
    {
     "data": {
      "text/plain": [
       "0.438371"
      ]
     },
     "execution_count": 44,
     "metadata": {},
     "output_type": "execute_result"
    }
   ],
   "source": [
    "sin_0_30_1(26)"
   ]
  },
  {
   "cell_type": "code",
   "execution_count": 45,
   "metadata": {},
   "outputs": [
    {
     "data": {
      "text/plain": [
       "0.45399"
      ]
     },
     "execution_count": 45,
     "metadata": {},
     "output_type": "execute_result"
    }
   ],
   "source": [
    "sin_0_30_1(27)"
   ]
  },
  {
   "cell_type": "code",
   "execution_count": 46,
   "metadata": {},
   "outputs": [
    {
     "data": {
      "text/plain": [
       "0.469472"
      ]
     },
     "execution_count": 46,
     "metadata": {},
     "output_type": "execute_result"
    }
   ],
   "source": [
    "sin_0_30_1(28)"
   ]
  },
  {
   "cell_type": "code",
   "execution_count": 47,
   "metadata": {},
   "outputs": [
    {
     "data": {
      "text/plain": [
       "0.48481"
      ]
     },
     "execution_count": 47,
     "metadata": {},
     "output_type": "execute_result"
    }
   ],
   "source": [
    "sin_0_30_1(29)"
   ]
  },
  {
   "cell_type": "code",
   "execution_count": 48,
   "metadata": {},
   "outputs": [
    {
     "data": {
      "text/plain": [
       "0.5"
      ]
     },
     "execution_count": 48,
     "metadata": {},
     "output_type": "execute_result"
    }
   ],
   "source": [
    "sin_0_30_1(30)"
   ]
  },
  {
   "cell_type": "code",
   "execution_count": 49,
   "metadata": {},
   "outputs": [
    {
     "data": {
      "text/plain": [
       "[<matplotlib.lines.Line2D at 0x7f6adb72e3a0>]"
      ]
     },
     "execution_count": 49,
     "metadata": {},
     "output_type": "execute_result"
    },
    {
     "data": {
      "image/png": "[encoded data removed]",
      "text/plain": [
       "<Figure size 432x288 with 1 Axes>"
      ]
     },
     "metadata": {
      "needs_background": "light"
     },
     "output_type": "display_data"
    }
   ],
   "source": [
    "from matplotlib import pylab as plt\n",
    "import numpy as np\n",
    "%matplotlib inline\n",
    "\n",
    "x=np.linspace(0, 30, 200)\n",
    "y=np.sin(x)\n",
    "plt.plot(x,y)"
   ]
  },
  {
   "cell_type": "markdown",
   "metadata": {
    "id": "p_3vqG5-kVlP"
   },
   "source": [
    "# Теория<a class=\"anchor\" id=\"theor\"></a>\n",
    "# Производная функции одной переменной. Часть 1"
   ]
  },
  {
   "cell_type": "markdown",
   "metadata": {
    "id": "GZLXde-41drp"
   },
   "source": [
    "### Определение"
   ]
  },
  {
   "cell_type": "markdown",
   "metadata": {
    "id": "zM77ZHHG1drp"
   },
   "source": [
    "На прошлом уроке мы рассмотрели понятия __образа и прообраза__ из теории множеств, а также несколько случаев отображения одного на другое. Через которые в дальнейшем дали определение функциям. \n",
    "\n",
    "Понятие __производной__, в свою очередь, характеризует степень изменения образа отображения при (бесконечно) малом изменении прообраза. Производные используются во многих математических дисциплинах, но самое широкое распространение получили в курсе математического анализа и дифференциального исчисления.\n",
    "\n",
    "Давайте дадим математическое определение производной __явной__ функции. Возьмем функцию $y=f(x)$. Возьмем точку $x$ и отойдем от нее на расстоянии $\\Delta x$. При этом у нас получится два значения функции $f(x)$ и $f(x+\\Delta x)$. Для определения скорости изменения значения функции от изменения аргумента достаточно найти отношение $\\frac{f(x+\\Delta x)-f(x)}{\\Delta x}$. Но в таком случае мы найдем среднее значение функции на участи от $x$ до $x+\\Delta x$. Для нахождения изменения функции в конкретной точке, нужно перейти к пределам. Если мы устреми $\\Delta x$ к $0$, точка $x+\\Delta x$ устремиться к $x$. Данный предел как раз и является производной __явной__ функции.\n",
    "\n",
    "### $$f'(x)=\\lim_{\\Delta x\\to 0} \\frac{f(x+\\Delta x)-f(x)}{\\Delta x}$$"
   ]
  },
  {
   "cell_type": "markdown",
   "metadata": {
    "id": "UX1oeo5z1drq"
   },
   "source": [
    "<img src=\"https://i.ibb.co/S5Czp3J/6-1.png\"  width = 600/>\n"
   ]
  },
  {
   "cell_type": "markdown",
   "metadata": {
    "id": "vRlAWVw11drq"
   },
   "source": [
    "Теперь давайте найдем производную от простой степенной функции $f(x)=x^2$, воспользовавшись определением, которое дали выше\n",
    "\n",
    "### $$(x^2)'=\\lim_{\\Delta x\\to 0} \\frac{(x+\\Delta x)^2-x^2}{\\Delta x}\n",
    "=$$\n",
    "\n",
    "### $$=\\lim_{\\Delta x\\to 0} \\frac{x^2+2x\\Delta x+(\\Delta x)^2-x^2}{\\Delta x}=$$\n",
    "\n",
    "### $$=\\lim_{\\Delta x\\to 0} (2x+\\Delta x)=2x$$"
   ]
  },
  {
   "cell_type": "markdown",
   "metadata": {
    "id": "CTw9WVGc1drq"
   },
   "source": [
    "К счастью для нас существует связь между типом функции и ее производной. Поэтому поиск производных не скатывается к рутинному поиску предела. __Для овладения навыком поиска производных явных функций достаточно знать таблицу производных. А так же три дополнительных правила__, которые обсудим чуть позже. "
   ]
  },
  {
   "cell_type": "markdown",
   "metadata": {
    "id": "zq3ZyLXu1drr"
   },
   "source": [
    "Итак, таблица производных основных функций.\n",
    "\n",
    "### $$a'=0,\\mbox{где }  a - \\mbox{константа}$$\n",
    "\n",
    "### $$(x^a)'=ax^{a-1}$$\n",
    "\n",
    "### $$(\\sin(x))'=\\cos(x)$$\n",
    "\n",
    "### $$(\\cos(x))'=-\\sin(x)$$\n",
    "\n",
    "### $$(\\mbox{tg}(x))'= \\frac{1}{\\cos^2(x)}$$\n",
    "\n",
    "### $$(\\mbox{ctg}(x))'= -\\frac{1}{\\sin^2(x)}$$\n",
    "\n",
    "### $$(\\arcsin(x))'=\\frac{1}{\\sqrt{1-x^2}}$$\n",
    "\n",
    "### $$(\\arccos(x))'=-\\frac{1}{\\sqrt{1-x^2}}$$\n",
    "\n",
    "### $$(\\mbox{arctg}(x))'=\\frac{1}{1+x^2}$$\n",
    "\n",
    "### $$(\\mbox{arcctg}(x))'=-\\frac{1}{1+x^2}$$\n",
    "\n",
    "### $$(a^x)'=a^x\\ln{a}$$\n",
    "\n",
    "### $$(e^x)'=e^x$$\n",
    "\n",
    "### $$(log_a x)'=\\frac{1}{x \\ln a}$$\n",
    "\n",
    "### $$(\\ln x)'=\\frac{1}{x}$$"
   ]
  },
  {
   "cell_type": "markdown",
   "metadata": {
    "id": "sCoMs6kM1drr"
   },
   "source": [
    "### Существование"
   ]
  },
  {
   "cell_type": "markdown",
   "metadata": {
    "id": "LolgYaD41drr"
   },
   "source": [
    "Условие существование производной можно понять через условие существования предела. Выделим несколько случаев когда производная  в точке не существует.\n",
    "\n",
    "Например производная не существует, если у предела \n",
    "\n",
    "###  $$\\lim_{\\Delta x\\to 0} \\frac{f(x+\\Delta x)-f(x)}{\\Delta x}=f'(x) $$ \n",
    "\n",
    "значения односторонних пределов в точке $x$ не совпадает. Обычно сама функция $f(x)$ в этом случае проходит через точку $x$ \"не гладко\". В качестве хорошего примера можно взять функцию $y= |x|$"
   ]
  },
  {
   "cell_type": "code",
   "execution_count": 50,
   "metadata": {
    "id": "aEJTVp8H1drs",
    "outputId": "8dc2aa08-a0a3-4dc7-92b1-e9072340be78"
   },
   "outputs": [
    {
     "data": {
      "text/plain": [
       "[<matplotlib.lines.Line2D at 0x7f6adb703fa0>]"
      ]
     },
     "execution_count": 50,
     "metadata": {},
     "output_type": "execute_result"
    },
    {
     "data": {
      "image/png": "[encoded data removed]",
      "text/plain": [
       "<Figure size 432x288 with 1 Axes>"
      ]
     },
     "metadata": {
      "needs_background": "light"
     },
     "output_type": "display_data"
    }
   ],
   "source": [
    "from matplotlib import pylab as plt\n",
    "import numpy as np\n",
    "%matplotlib inline\n",
    "\n",
    "x=np.linspace(-8, 8, 200)\n",
    "y=np.fabs(x)\n",
    "plt.plot(x,y)"
   ]
  },
  {
   "cell_type": "markdown",
   "metadata": {
    "id": "vYBf8aRM1drt"
   },
   "source": [
    "Так же можно выделить случай, когда точка $х$, в которой определена функция $y=f(x)$, является граничной и имеет область только с одной стороны. В качестве примера можно взять функцию $y=\\sqrt x$, определенной в нуле. При этом ноль является пограничной точкой. Производная функции равна $y'=\\frac{1}{2 \\sqrt x}$. При этом в нуле производная уже не существует."
   ]
  },
  {
   "cell_type": "code",
   "execution_count": 51,
   "metadata": {
    "id": "Nct6tfV-1dru",
    "outputId": "54293190-bc61-4399-ed91-2afbfdc67797"
   },
   "outputs": [
    {
     "data": {
      "text/plain": [
       "[<matplotlib.lines.Line2D at 0x7f6adb670550>]"
      ]
     },
     "execution_count": 51,
     "metadata": {},
     "output_type": "execute_result"
    },
    {
     "data": {
      "image/png": "[encoded data removed]",
      "text/plain": [
       "<Figure size 432x288 with 1 Axes>"
      ]
     },
     "metadata": {
      "needs_background": "light"
     },
     "output_type": "display_data"
    }
   ],
   "source": [
    "x=np.linspace(0, 8, 200)\n",
    "y=np.sqrt(x)\n",
    "plt.plot(x,y)"
   ]
  },
  {
   "cell_type": "markdown",
   "metadata": {
    "id": "HyqCoXGJ1dru"
   },
   "source": [
    "### Дополнительные правила и свойства"
   ]
  },
  {
   "cell_type": "markdown",
   "metadata": {
    "id": "6RIRwI-j1dru"
   },
   "source": [
    "- __производная от произведения:__\n",
    "\n",
    "### $$(U\\cdot V)'=U'\\cdot V+U\\cdot V'$$\n",
    "\n",
    "- __производная от частного:__\n",
    "\n",
    "### $$\\Bigl(\\frac{U}{V}\\Bigr)'=\\frac{U'\\cdot V-U\\cdot V'}{V^2}$$\n",
    "\n",
    "- __производная от сложной функции:__\n",
    "\n",
    "### $$f'(g(x))=f'\\cdot g'$$\n",
    "\n",
    "- __вынесение константы:__\n",
    "\n",
    "### $$(af(x))'=af'(x)$$\n",
    "\n",
    "- __производная от суммы:__\n",
    "\n",
    "### $$(f(x)+g(x))'=f'(x)+g'(x)$$"
   ]
  },
  {
   "cell_type": "markdown",
   "metadata": {
    "id": "iCQyJo3c1dru"
   },
   "source": [
    "### Примеры"
   ]
  },
  {
   "cell_type": "markdown",
   "metadata": {
    "id": "AxMbvyQo1drv"
   },
   "source": [
    "Начнем с производной от произведения\n",
    "\n",
    "### $$(x\\cdot \\sin x)'=\\sin x+ x\\cdot \\cos x$$\n",
    "\n",
    "и от частного \n",
    "\n",
    "### $$\\Bigl(\\frac{x}{\\sin x}\\Bigr)'=\\frac{\\sin x- x\\cdot \\cos x}{\\sin^2x}$$"
   ]
  },
  {
   "cell_type": "markdown",
   "metadata": {
    "id": "SKvkHYEL1drv"
   },
   "source": [
    "Так же разберемся с производными от сложных функций. Наверное, всем знакома сказка про Кашея. Смерь его была в игле, игла в яйце, яйце в утке и т.д.. Так вот со сложными функциями так же. __Нам нужно понять - на сколько \"простых\" функций можно разбить сложную, найти производную от каждой и взять произведение.__ _Сколько функций - столько и производных!_\n",
    "\n",
    "### $$(\\sin(2x+1))'=\\cos(2x+1) \\cdot 2 $$\n",
    "\n",
    "### $$(\\sin(x^2+2x+1))'=\\cos(x^2+2x+1) \\cdot (2x+2) $$\n",
    "\n",
    "### $$(\\sin^3(x^2+2x+1))'=3\\sin^2(x^2+2x+1) \\cdot \\cos(x^2+2x+1) \\cdot (2x+2) $$\n",
    "\n",
    "### $$(\\ln (\\sin^3(x^2+2x+1)+1))'=\\frac{1}{\\sin^3(x^2+2x+1)+1} \\cdot 3\\sin^2(x^2+2x+1) \\cdot \\cos(x^2+2x+1) \\cdot (2x+2) $$"
   ]
  },
  {
   "cell_type": "markdown",
   "metadata": {
    "id": "aW6LX5S81drv"
   },
   "source": [
    "Из особенный производных можно выделить производные от натуральных логарифмов.\n",
    "\n",
    "### $$(\\ln x)'=\\frac{1}{x} $$\n",
    "\n",
    "### $$(\\ln 3x)'=(\\ln 3+\\ln x)'=\\frac{1}{x} $$\n",
    "\n",
    "### $$(\\ln x^3)'=(3\\ln x)'=\\frac{3}{x} $$\n",
    "\n",
    "### $$\\Bigl(\\ln \\frac{\\sin x \\cdot (x+1)^3}{(x-4)^5}\\Bigr)'=\\frac{\\cos x}{\\sin x}+\\frac{3}{x+1}-\\frac{5}{x-4}$$"
   ]
  },
  {
   "cell_type": "markdown",
   "metadata": {
    "id": "R5Q7Djre1drw"
   },
   "source": [
    "Для любой функцию, которую можно представить в степенном виде, производную желательно искать именно в степенном виде.\n",
    "\n",
    "### $$(x^2)'=2x$$\n",
    "\n",
    "### $$\\Bigl(\\frac{1}{x^2}\\Bigr)'=(x^{-2})'=-2x^{-3}=-\\frac{2}{x^3}$$\n",
    "\n",
    "### $$\\Bigl(\\sqrt x\\Bigr)'=\\Bigl(x^{\\frac{1}{2}}\\Bigr)'=\\frac{1}{2}x^{-\\frac{1}{2}}=\\frac{1}{2\\sqrt x}$$\n",
    "\n",
    "### $$\\Bigl(\\frac{1}{\\sqrt {x+1}}\\Bigr)'=\\Bigl((x+1)^{-\\frac{1}{2}}\\Bigr)'=-\\frac{1}{2}(x+1)^{-\\frac{3}{2}}=-\\frac{1}{2\\sqrt {(x+1)^3}}$$"
   ]
  },
  {
   "cell_type": "markdown",
   "metadata": {
    "id": "DokCX6du1drw"
   },
   "source": [
    "Провеять найденные производные можно с помощью библиотеки __sympy__, которая поддерживает символьную алгебру. Особого прикладного значения это не имеет, т.к. основные данные, с которыми Вы будете сталкиваться в работе, имеют дискретный вид. На следящем уроке мы с Вами разберем как находить производные численно. Аналитический"
   ]
  },
  {
   "cell_type": "code",
   "execution_count": 52,
   "metadata": {
    "id": "_Vdzq8_d1drw"
   },
   "outputs": [],
   "source": [
    "from sympy import *\n",
    "init_printing()"
   ]
  },
  {
   "cell_type": "code",
   "execution_count": 53,
   "metadata": {
    "id": "VQwbli2e1drw",
    "outputId": "e2407fb5-6e0f-4144-9619-b587622f682f"
   },
   "outputs": [
    {
     "data": {
      "image/png": "[encoded data removed]",
      "text/latex": [
       "$\\displaystyle x \\cos{\\left(x \\right)} + \\sin{\\left(x \\right)}$"
      ],
      "text/plain": [
       "x⋅cos(x) + sin(x)"
      ]
     },
     "execution_count": 53,
     "metadata": {},
     "output_type": "execute_result"
    }
   ],
   "source": [
    "x=Symbol('x')\n",
    "f=x*sin(x)\n",
    "diff(f,x)"
   ]
  },
  {
   "cell_type": "code",
   "execution_count": 54,
   "metadata": {
    "id": "Zqn3TqG41drx",
    "outputId": "aa8e580d-4b50-42dc-8ce4-b1e6b549387e"
   },
   "outputs": [
    {
     "data": {
      "image/png": "[encoded data removed]",
      "text/latex": [
       "$\\displaystyle - \\frac{x \\cos{\\left(x \\right)}}{\\sin^{2}{\\left(x \\right)}} + \\frac{1}{\\sin{\\left(x \\right)}}$"
      ],
      "text/plain": [
       "  x⋅cos(x)     1   \n",
       "- ──────── + ──────\n",
       "     2       sin(x)\n",
       "  sin (x)          "
      ]
     },
     "execution_count": 54,
     "metadata": {},
     "output_type": "execute_result"
    }
   ],
   "source": [
    "x=Symbol('x')\n",
    "f=x/sin(x)\n",
    "f = diff(f,x)\n",
    "#f = together(f)\n",
    "f"
   ]
  },
  {
   "cell_type": "code",
   "execution_count": 55,
   "metadata": {
    "id": "B0VlKMqZ1drx",
    "outputId": "183cfa1c-0e25-47a4-8ffa-6d1669e6c5de"
   },
   "outputs": [
    {
     "data": {
      "image/png": "[encoded data removed]",
      "text/latex": [
       "$\\displaystyle - \\frac{1}{2 \\left(x + 1\\right)^{\\frac{3}{2}}}$"
      ],
      "text/plain": [
       "    -1      \n",
       "────────────\n",
       "         3/2\n",
       "2⋅(x + 1)   "
      ]
     },
     "execution_count": 55,
     "metadata": {},
     "output_type": "execute_result"
    }
   ],
   "source": [
    "x=Symbol('x')\n",
    "f=1/sqrt(x+1)\n",
    "diff(f,x)"
   ]
  },
  {
   "cell_type": "code",
   "execution_count": 56,
   "metadata": {
    "id": "p1gu5_fo1drx",
    "outputId": "9d7d64b7-be68-4d96-8127-df0311ec3bd2"
   },
   "outputs": [
    {
     "data": {
      "image/png": "[encoded data removed]",
      "text/latex": [
       "$\\displaystyle 3 x^{2}$"
      ],
      "text/plain": [
       "   2\n",
       "3⋅x "
      ]
     },
     "execution_count": 56,
     "metadata": {},
     "output_type": "execute_result"
    }
   ],
   "source": [
    "x=Symbol('x')\n",
    "f=x**3\n",
    "diff(f,x)\n",
    "#diff(g,x)\n",
    "#diff(f,x,2)\n",
    "#diff(f,x,3)"
   ]
  },
  {
   "cell_type": "markdown",
   "metadata": {
    "id": "nQTSXzMe1dry"
   },
   "source": [
    "### Приближенное вычисление с помощью производных"
   ]
  },
  {
   "cell_type": "markdown",
   "metadata": {
    "id": "76bx1w_U1dry"
   },
   "source": [
    "Мы с Вами дали определение производной явной функции\n",
    "\n",
    "### $$f'(x)=\\lim_{\\Delta x\\to 0} \\frac{f(x+\\Delta x)-f(x)}{\\Delta x}$$\n",
    "\n",
    "Если из равенства убрать предел, то значение левой и правой части уже не будут равны. Но при достаточно малом $ \\Delta x$  будут близки. \n",
    "\n",
    "### $$f'(x)\\approx \\frac{f(x+\\Delta x)-f(x)}{\\Delta x}$$\n",
    "\n",
    "Если выразить $f(x+\\Delta x)$, то получим следующее выражение:\n",
    "\n",
    "### $$f(x+\\Delta x) \\approx f(x)+f'(x) \\cdot \\Delta x$$"
   ]
  },
  {
   "cell_type": "markdown",
   "metadata": {
    "id": "TaqyUJoh1dry"
   },
   "source": [
    "Давайте воспользуется этим выражением для приближенного вычисления $\\sqrt 3 \\approx 1.7320508075688772$"
   ]
  },
  {
   "cell_type": "markdown",
   "metadata": {
    "id": "L6bSU0zN1dry"
   },
   "source": [
    "### $$\\sqrt 3 =\\sqrt {4-1} \\approx$$\n",
    "### $$\\approx \\sqrt 4 + \\frac{1}{2 \\sqrt 4} \\cdot (-1) = 2 - 0.25 =$$\n",
    "### $$= 1.75$$"
   ]
  },
  {
   "cell_type": "markdown",
   "metadata": {
    "id": "ZCNy3w4N1drz"
   },
   "source": [
    "Как видно, ошибка уже во втором знаке. \n",
    "\n",
    "Чтобы увеличить точность, необходимо уменьшить приращение. для этого достаточно $3=3.00$ и подобрать ближайший хороший корень к $300$\n",
    "\n",
    "### $$\\sqrt 3 = \\sqrt {3.00} =\\sqrt {2.89+0.11} \\approx $$\n",
    "### $$\\approx \\sqrt {2.89} + \\frac{1}{2 \\sqrt {2.89}} \\cdot 0.11 = 1.7 + \\frac{0.11}{2 \\cdot 1.7}\\approx$$\n",
    "### $$\\approx1.73235294117647$$"
   ]
  },
  {
   "cell_type": "markdown",
   "metadata": {
    "id": "aU5YNMH9kVqP"
   },
   "source": [
    "## Практическое задание"
   ]
  },
  {
   "cell_type": "markdown",
   "metadata": {
    "id": "SmdURZ_OkVqQ"
   },
   "source": [
    "__1.__ Найти производную функции:\n",
    "\n",
    "### $$y=\\frac{1}{x}+\\frac{2}{x^2}-\\frac{5}{x^3}+\\sqrt x -\\sqrt[3]x+\\frac{3}{\\sqrt x}$$"
   ]
  },
  {
   "cell_type": "markdown",
   "metadata": {
    "id": "cECfCSANkVqR"
   },
   "source": [
    "__2.__ Найти производную функции:\n",
    "\n",
    "### $$y=x \\cdot \\sqrt {1+x^2}$$"
   ]
  },
  {
   "cell_type": "markdown",
   "metadata": {
    "id": "DFrjdtbHkVqS"
   },
   "source": [
    "__3.__ Найти производную функции:\n",
    "\n",
    "### $$y= \\frac{2x}{1-x^2}$$"
   ]
  },
  {
   "cell_type": "markdown",
   "metadata": {
    "id": "5la-eVLukVqT"
   },
   "source": [
    "__4*.__ Найти производную функции:\n",
    "\n",
    "### $$y=\\sqrt{x+ \\sqrt{x+\\sqrt x}}$$"
   ]
  },
  {
   "cell_type": "markdown",
   "metadata": {
    "id": "kQlell_GkVqU"
   },
   "source": [
    "__5.__ Найти производную функции:\n",
    "\n",
    "### $$y= \\ln(x+\\sqrt{x^2+1})$$"
   ]
  },
  {
   "cell_type": "markdown",
   "metadata": {
    "id": "T3kLZxcs1dr0"
   },
   "source": [
    "__6.__ Найти производную функции:\n",
    "\n",
    "### $$y=x \\cdot \\ln(x+\\sqrt{x^2+1})-\\sqrt{x^2+1}$$"
   ]
  },
  {
   "cell_type": "markdown",
   "metadata": {
    "id": "FzUKiZlz1dr1"
   },
   "source": [
    "__7*.__ Найти производную функции:\n",
    "\n",
    "### $$y=\\arcsin (\\sin x)$$"
   ]
  },
  {
   "cell_type": "markdown",
   "metadata": {
    "id": "Rs1aTvn81dr1"
   },
   "source": [
    "__8*.__ Вычислить приближенное значение: \n",
    "\n",
    "### $$\\sin(1^0)=\\sin\\Bigl(\\frac{\\pi}{180}\\Bigr)$$\n"
   ]
  },
  {
   "cell_type": "markdown",
   "metadata": {
    "id": "sdkwOrAV1dr1"
   },
   "source": [
    "__9**.__ Написать на python алгоритм, по вычислению значений $\\sin(x)$ для $х \\in[0, 30^0]$\n",
    "\n",
    "Для проверки подойдут данные из таблицы Брадиса"
   ]
  },
  {
   "cell_type": "markdown",
   "metadata": {
    "id": "Iv-T_NZAkVqZ"
   },
   "source": [
    "## Дополнительные материалы"
   ]
  },
  {
   "cell_type": "markdown",
   "metadata": {
    "id": "9o_SiUNxkVqa"
   },
   "source": [
    "1. [SymPy](https://www.sympy.org/en/index.html)"
   ]
  }
 ],
 "metadata": {
  "colab": {
   "collapsed_sections": [],
   "name": "Lesson_5.ipynb",
   "provenance": []
  },
  "kernelspec": {
   "display_name": "Python 3",
   "language": "python",
   "name": "python3"
  },
  "language_info": {
   "codemirror_mode": {
    "name": "ipython",
    "version": 3
   },
   "file_extension": ".py",
   "mimetype": "text/x-python",
   "name": "python",
   "nbconvert_exporter": "python",
   "pygments_lexer": "ipython3",
   "version": "3.8.3"
  }
 },
 "nbformat": 4,
 "nbformat_minor": 1
}
