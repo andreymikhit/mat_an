{
 "cells": [
  {
   "cell_type": "markdown",
   "metadata": {
    "id": "zz7SDkPIkVlM"
   },
   "source": [
    "# Урок 7. ДЗ (28.01.2021)\n",
    "# Матанализ"
   ]
  },
  {
   "cell_type": "markdown",
   "metadata": {},
   "source": [
    "* [Практическое задание. ДЗ.](#ex)\n",
    "    * [Задание 1](#ex1)\n",
    "    * [Задание 2](#ex2)\n",
    "    * [Задание 3](#ex3)\n",
    "    * [Задание 4](#ex4)\n",
    "    * [Задание 5](#ex5)\n",
    "    * [Задание 6](#ex6)\n",
    "    * [Задание 7](#ex7)\n",
    "    * [Задание 8](#ex8)\n",
    "* [Теория](#theor)"
   ]
  },
  {
   "cell_type": "markdown",
   "metadata": {},
   "source": [
    "# <center>Задания из методички<a class=\"anchor\" id=\"ex\"></a><center>"
   ]
  },
  {
   "cell_type": "markdown",
   "metadata": {},
   "source": [
    "__1.__ Найти частные производные первого и второго порядка. Убедиться в равенстве смешанных производных.<a class=\"anchor\" id=\"ex1\"></a><center>\n",
    "\n",
    "### $$U=x^3+3xy^2+z^2-39x-36y+2z+26$$"
   ]
  },
  {
   "cell_type": "markdown",
   "metadata": {},
   "source": [
    "### Решение:\n",
    "\n",
    "### $$U(x,y,z)=x^3+3xy^2+z^2-39x-36y+2z+26$$\n",
    "\n",
    "Найдем все частные производные первого порядка.\n",
    "\n",
    "### $$U'_{x}=3x^2+3y^2-39$$\n",
    "\n",
    "### $$U'_{y}=6xy-36$$\n",
    "\n",
    "### $$U'_{z}= 2z+2$$\n",
    "\n",
    "Найдем все частные производные второго порядка.\n",
    "\n",
    "\n",
    "### $$U''_{xx}=6x$$\n",
    "### $$U''_{xy}=6y$$\n",
    "### $$U''_{xz}=0$$\n",
    "\n",
    "### $$U''_{yy}=6x$$\n",
    "### $$U'_{yx}=6y$$\n",
    "### $$U'_{yz}=0$$\n",
    "\n",
    "### $$U'_{zz}= 2$$\n",
    "### $$U'_{zx}= 0$$\n",
    "### $$U'_{zy}= 0$$\n",
    "\n",
    "Запишем полные дифференциалы первого и второго порядка.\n",
    "\n",
    "### $$dU=(x^2+3y^2-39)dx + 6(xy-6)dy + 2(z+1)dz$$\n",
    "\n",
    "### $$dU^2=(6x)dx^2+ (6y)dxdy + (0)dxdz +(6x)dy^2 + (6y)dydx + (0)dydz  + (2)dz^2 + (0)dzdx + (0)dzdy$$\n",
    "### $$=(6x)dx^2+ 2(6y) \\cdot dxdy + (6x)dy^2 + (2)dz^2$$"
   ]
  },
  {
   "cell_type": "markdown",
   "metadata": {},
   "source": [
    "__2.__ Найти частные производные первого и второго порядка. Убедиться в равенстве смешанных производных.<a class=\"anchor\" id=\"ex2\"></a><center>\n",
    "\n",
    "### $$U=\\frac{256}{x}+\\frac{x^2}{y}+\\frac{y^2}{z}+z^2$$"
   ]
  },
  {
   "cell_type": "markdown",
   "metadata": {},
   "source": [
    "### Решение:\n",
    "\n",
    "### $$U(x,y,z)=\\frac{256}{x}+\\frac{x^2}{y}+\\frac{y^2}{z}+z^2$$\n",
    "\n",
    "### $$U_{x}'=-\\frac{256}{x^2}+\\frac{2x}{y}$$\n",
    "### $$U_{y}'=-\\frac{x^2}{y^2}+\\frac{2y}{z}$$\n",
    "### $$U_{z}'=-\\frac{y^2}{z^2}+2z$$\n",
    "\n",
    "### $$U_{xx}''=\\frac{2 \\cdot 256}{x^3}+\\frac{2}{y}$$\n",
    "### $$U_{xy}''=-\\frac{2x}{y^2}$$\n",
    "### $$U_{xz}''=0$$\n",
    "### $$U_{yy}''=\\frac{2x^2}{y^3}+\\frac{2}{z}$$\n",
    "### $$U_{yx}''=-\\frac{2x}{y^2}$$\n",
    "### $$U_{yz}''=-\\frac{2y}{z^2}$$\n",
    "### $$U_{zz}''=\\frac{2y^2}{z^3}+2$$\n",
    "### $$U_{zx}''=0$$\n",
    "### $$U_{zy}''=-\\frac{2y}{z^2}$$\n",
    "\n",
    "Запишем полные дифференциалы первого и второго порядка.\n",
    "\n",
    "### $$dU=(-\\frac{256}{x^2}+\\frac{2x}{y})dx + (-\\frac{x^2}{y^2}+\\frac{2y}{z})dy + (-\\frac{y^2}{z^2}+2z)dz$$\n",
    "\n",
    "### $$dU^2=(\\frac{2 \\cdot 256}{x^3}+\\frac{2}{y})dx^2+ 2(-\\frac{2x}{y^2})dxdy + (\\frac{2x^2}{y^3}+\\frac{2}{z})dy^2 + (\\frac{2y^2}{z^3}+2)dz^2$$"
   ]
  },
  {
   "cell_type": "markdown",
   "metadata": {},
   "source": [
    "__3.__ Найти производную функции $U=x^2+y^2+z^2$ по направлению вектора $\\overrightarrow{c}(-9,8,-12)$ в точке $M(8,-12,9)$<a class=\"anchor\" id=\"ex3\"></a><center>"
   ]
  },
  {
   "cell_type": "markdown",
   "metadata": {},
   "source": [
    "### Решение:\n",
    "\n",
    "Найдем длину вектора $\\overrightarrow{с}$:\n",
    "\n",
    "### $$|\\overrightarrow{с}|=\\sqrt{x^2_{0}+y^2_{0}+z^2_{0}}=\\sqrt{(-9)^2+8^2+(-12)^2}=\\sqrt{289}=17$$\n",
    "\n",
    "Запишем единичный вектор $\\overrightarrow{с}_{0}$:\n",
    "\n",
    "### $$\\overrightarrow{с_{0}}=\\frac{\\overrightarrow{с}}{|\\overrightarrow{с}|}=\\Bigr(-\\frac{9}{17},\\frac{8}{17},-\\frac{12}{17}\\Bigl)$$\n",
    "\n",
    "Теперь найдем градиент в точке M(8,-12,9).\n",
    "\n",
    "### $$U'_{x}=2x$$\n",
    "\n",
    "### $$U'_{y}=2y$$\n",
    "\n",
    "### $$U'_{z}=2z$$\n",
    "\n",
    "### $$\\mbox{grad}U=(16,-24,18)$$\n",
    "\n",
    "Осталось посчитать значение производной\n",
    "\n",
    "### $$U'_{\\overrightarrow{c}}=-\\frac{9}{17}\\cdot (16)+\\frac{8}{17}\\cdot (-24) - \\frac{12}{17}\\cdot (18)=\\frac{-144-192-216}{17}=\\frac{552}{17}$$"
   ]
  },
  {
   "cell_type": "markdown",
   "metadata": {},
   "source": [
    "__4.__ Найти производную функции $U=e^{x^2+y^2+z^2}$ по направлению вектора $\\overrightarrow{c}(4,-13,-16)$ в точке $L(-16,4,-13)$<a class=\"anchor\" id=\"ex4\"></a><center>"
   ]
  },
  {
   "cell_type": "markdown",
   "metadata": {},
   "source": [
    "### Решение:\n",
    "\n",
    "Найдем длину вектора $\\overrightarrow{с}$:\n",
    "\n",
    "### $$|\\overrightarrow{с}|=\\sqrt{x^2_{0}+y^2_{0}+z^2_{0}}=\\sqrt{4^2+(-13)^2+(-16)^2}=\\sqrt{441}=21$$\n",
    "\n",
    "Запишем единичный вектор $\\overrightarrow{с}_{0}$:\n",
    "\n",
    "### $$\\overrightarrow{с_{0}}=\\frac{\\overrightarrow{с}}{|\\overrightarrow{с}|}=\\Bigr(\\frac{4}{21},-\\frac{13}{21},-\\frac{16}{21}\\Bigl)$$\n",
    "\n",
    "Теперь найдем градиент в точке L(-16,4,-13).\n",
    "\n",
    "### $$U'_{x}=2x \\cdot e^{x^2+y^2+z^2}$$\n",
    "\n",
    "### $$U'_{y}=2y \\cdot e^{x^2+y^2+z^2}$$\n",
    "\n",
    "### $$U'_{z}=2z \\cdot e^{x^2+y^2+z^2}$$\n",
    "\n",
    "### $$\\mbox{grad}U=(-32e^{441},8e^{441},-26e^{441})$$\n",
    "\n",
    "Осталось посчитать значение производной\n",
    "\n",
    "### $$U'_{\\overrightarrow{c}}=\\frac{4}{21}\\cdot (-32e^{441})-\\frac{13}{21}\\cdot (8e^{441}) - \\frac{16}{21}\\cdot (-26e^{441})=\\frac{-128-104+416}{21}e^{441}=\\frac{184}{21}e^{441}$$"
   ]
  },
  {
   "cell_type": "markdown",
   "metadata": {},
   "source": [
    "__5*.__ Найти производную функции $U=\\log_{21}(x^2+y^2+z^2)$ в точке $F(-19,8,-4)$ по самому быстрому направлению.<a class=\"anchor\" id=\"ex5\"></a><center>"
   ]
  },
  {
   "cell_type": "markdown",
   "metadata": {},
   "source": [
    "### Решение:\n",
    "\n"
   ]
  },
  {
   "cell_type": "markdown",
   "metadata": {},
   "source": [
    "Найдем длину ед. вектора $\\overrightarrow{с}$:\n",
    "\n",
    "### $$|\\overrightarrow{с}|=\\sqrt{x^2_{0}+y^2_{0}+z^2_{0}}=\\sqrt{1+1+1}=\\sqrt 3$$\n",
    "\n",
    "Запишем единичный вектор $\\overrightarrow{с}_{0}$:\n",
    "\n",
    "### $$\\overrightarrow{с_{0}}=\\frac{\\overrightarrow{с}}{|\\overrightarrow{с}|}=\\Bigr(\\frac{1}{\\sqrt 3},\\frac{1}{\\sqrt 3},\\frac{1}{\\sqrt 3}\\Bigl)$$\n",
    "\n",
    "Теперь найдем градиент в точке F(-19,8,-4).\n",
    "\n",
    "### $$U'_{x}=\\frac{2x}{log_{21}(x^2+y^2+z^2)}$$\n",
    "\n",
    "### $$U'_{y}=\\frac{2y}{log_{21}(x^2+y^2+z^2)}$$\n",
    "\n",
    "### $$U'_{z}=\\frac{2z}{log_{21}(x^2+y^2+z^2)}$$\n",
    "\n",
    "#### $$log_{21}((-19)^2+8^2+(-4)^2) = log_{21}(441) = log_{21}(21^2) = 2 \\cdot log_{21}(21) = 2$$\n",
    "\n",
    "### $$\\mbox{grad}U=(-\\frac{38}{2}, \\frac{16}{2}, -\\frac{8}{2})=(-19, 8, -4)$$\n",
    "\n",
    "Осталось посчитать значение производной\n",
    "\n",
    "### $$U'_{\\overrightarrow{c}}=\\frac{1}{\\sqrt 3}\\cdot (-19) + \\frac{1}{\\sqrt 3}\\cdot 8 + \\frac{1}{\\sqrt 3}\\cdot (-4)=-15 \\frac{1}{\\sqrt 3}$$"
   ]
  },
  {
   "cell_type": "markdown",
   "metadata": {},
   "source": [
    "__6.__ Исследовать на экстремум функцию:<a class=\"anchor\" id=\"ex6\"></a><center>\n",
    "\n",
    "### $$U=x^2y+\\frac{1}{3}y^3+2x^2+3y^2-1$$\n",
    "\n",
    "### Решение:\n",
    "\n",
    "Найдем частные производные, приравняем их к нулю и найдем стационарные точки:\n",
    "\n",
    "### $$\\begin{cases}\n",
    "   U'_{x}=2xy+4x=2x(y+2)=0, \\\\\n",
    "   U'_{y}=x^2+y^2+6y = x^2 + y(y+6) = 0 \n",
    " \\end{cases}$$\n",
    "\n",
    "### $$ 2x(y+2)=0 \\Rightarrow y_1=-2, x_1=0$$\n",
    "\n",
    "### $$ x^2 + (-2) \\cdot (-2+6) = 0 $$\n",
    "\n",
    "### $$ x^2 = 8$$\n",
    "\n",
    "### $$ x_{2,3} = _-^+ 2\\sqrt 2$$\n",
    "\n",
    "### $$ x^2+y^2+6y = 0 + y(y+6) = 0$$\n",
    "\n",
    "### $$ y_{2} = 0, y_{3} = -6$$\n",
    "\n",
    "\n",
    "Получаем стационарные точки $(0,-1)$, $(2\\sqrt2, 0)$, $(-2\\sqrt 2, -6)$.\n",
    "\n",
    "Теперь найдем вторые производные и составим матрицу Гёссе\n",
    " \n",
    "###  $$U''_{xx}=2y+4$$ $$U''_{xy}=U''_{yx}=2x$$  $$U''_{yy}=2y+6$$\n",
    "\n",
    "Для простоты понимания __в качестве основного достаточного условия возьмем критерий Сильвестра.__ Для этого рассмотрим матрицу Гёссе - матрица вторых производных функции 2-х переменных.\n",
    "\n",
    "### $$\\begin{pmatrix}\n",
    "U''_{xx} & U''_{xy}\\\\ \n",
    "U''_{yx} & U''_{yy}\\\\\n",
    "\\end{pmatrix} =\n",
    "\\begin{pmatrix}\n",
    "2x+y & 2x\\\\ \n",
    "2x & 2y+6\\\\\n",
    "\\end{pmatrix}$$\n",
    "\n",
    "\n",
    "В ней можно выделить два главных минора \n",
    "\n",
    "### $$\\Delta_{1}=U''_{xx}=2y+4$$\n",
    "\n",
    "### $$\\Delta_{1}=U''_{xx}=2 \\cdot (-1)+4= 2 >0,$$ $$\\Delta_{1}=U''_{xx}=2 \\cdot (0) + 4= 4 >0,$$ $$ \\Delta_{1}=U''_{xx}=2 \\cdot (-6)+4= < -8$$\n",
    "\n",
    "\n",
    "### $$\\Delta_{2}=\\begin{vmatrix}\n",
    "U''_{xx} & U''_{xy}\\\\ \n",
    "U''_{yx} & U''_{yy}\\\\\n",
    "\\end{vmatrix}=U''_{xx}\\cdot U''_{yy}-(U''_{xy})^2\\\\\n",
    "=(2y+4) \\cdot (2y+6) - (2x)^2$$\n",
    "\n",
    "### $$\\Delta_{2}= (2 \\cdot (-1)+4) \\cdot (2 \\cdot (-1)+6)-(2 \\cdot (0))^2= 8 >0,$$ $$\\Delta_{2}= (2 \\cdot (0)+4) \\cdot (2 \\cdot (0)+6)-(2 \\cdot 2\\sqrt 2)^2= -8 < 0,$$ $$ \\Delta_{2}= (2 \\cdot (-6)+4) \\cdot (2 \\cdot (-6)+6)-(2 \\cdot (-2\\sqrt 2))^2= 16 >0$$\n",
    "\n",
    "1. Если __все__ миноры __положительные__, то найденная стационарная точка является точкой __минимума__.\n",
    "\n",
    "2. Если __первый__ минор __отрицательный__, а все __остальные чередуют знак__, то найденная точка является точкой __максимума__.\n",
    "\n",
    "3. Если не выполняются первые два условия, то найденная точка является «седловой».\n",
    "\n",
    "4. Если хотя бы один из миноров равен нулю, то теория сматрицей Гессе не работает. (будет работать только через касательную плоскость)\n",
    "\n",
    "Первый минор положительный, второй положительный. Это говорит о том, что найденная точка ($0, -1$) является ... точка минимума\n",
    "\n",
    "Первый минор положительный, второй отрицательный. Это говорит о том, что найденная точка ($2\\sqrt 2, 0$) является седловой.\n",
    "\n",
    "Первый минор отрицательный, второй положительный. Это говорит о том, что найденная точка ($-2\\sqrt 2, 0$) является точка максимума"
   ]
  },
  {
   "cell_type": "code",
   "execution_count": 1,
   "metadata": {},
   "outputs": [
    {
     "data": {
      "image/png": "[encoded data removed]",
      "text/plain": [
       "<Figure size 432x288 with 1 Axes>"
      ]
     },
     "metadata": {
      "needs_background": "light"
     },
     "output_type": "display_data"
    }
   ],
   "source": [
    "import pylab\n",
    "from mpl_toolkits.mplot3d import Axes3D\n",
    "import numpy\n",
    "\n",
    "def makeData ():\n",
    "    x = numpy.arange (0, 6, 0.1)\n",
    "    y = numpy.arange (-1, 5, 0.1)\n",
    "    xgrid, ygrid = numpy.meshgrid(x, y)\n",
    "\n",
    "    Ugrid = y*xgrid**2+(1/3)*ygrid**3+2*xgrid**2+3*ygrid**2-1\n",
    "    return xgrid, ygrid, Ugrid\n",
    "\n",
    "x, y, U = makeData()\n",
    "\n",
    "fig = pylab.figure()\n",
    "axes = Axes3D(fig)\n",
    "\n",
    "axes.plot_surface(x, y, U)\n",
    "\n",
    "pylab.show()"
   ]
  },
  {
   "cell_type": "markdown",
   "metadata": {},
   "source": [
    "__7*.__ Исследовать на экстремум функцию:<a class=\"anchor\" id=\"ex7\"></a><center>\n",
    "\n",
    "### $$U=e^{-\\frac{x}{2}}\\cdot(x^2+y^2) = \\frac{x^2}{\\sqrt e^x} + \\frac{y^2}{\\sqrt e^x}$$\n",
    "\n",
    "### Решение:\n",
    "\n",
    "\n",
    "Найдем частные производные, приравняем их к нулю и найдем стационарные точки:\n",
    "\n",
    "### $$\\begin{cases}\n",
    "   U'_{x}= \\frac{2x}{\\sqrt e^x} -\\frac{x^2}{2 \\sqrt e^x} - \\frac{y^2}{2 \\sqrt e^x} =0, \\\\\n",
    "   U'_{y}= \\frac{2y}{\\sqrt e^x} = 0 \n",
    " \\end{cases}$$\n",
    "\n",
    "### $$ 2y=0 \\cdot \\sqrt e^x \\Rightarrow y=0 $$\n",
    "\n",
    "### $$ \\frac{2x}{\\sqrt e^x} - 0 = \\frac{x^2}{2 \\sqrt e^x} $$\n",
    "\n",
    "### $$ 4 x \\sqrt e^x = x^2 \\sqrt e^x$$\n",
    "\n",
    "### $$ x\\sqrt e^x (x-4) = 0$$\n",
    "\n",
    "### $$ x_1 = 0, x_2 = 4$$\n",
    "\n",
    "Получаем стационарные точки $(0,0)$, $(4, 0)$.\n",
    "\n",
    "Теперь найдем вторые производные и составим матрицу Гёссе\n",
    " \n",
    "###  $$U''_{xx}=\\frac{x^2}{4 \\sqrt e^x} + \\frac{y^2}{4 \\sqrt e^x} - \\frac{2x}{4 \\sqrt e^x} + \\frac{2}{\\sqrt e^x}$$ $$U''_{xy}=U''_{yx}= -\\frac{1}{\\sqrt e^x}$$  $$U''_{yy}=\\frac{2 \\sqrt e^x}{e^x}$$\n",
    "\n",
    "Для простоты понимания __в качестве основного достаточного условия возьмем критерий Сильвестра.__ Для этого рассмотрим матрицу Гёссе - матрица вторых производных функции 2-х переменных.\n",
    "\n",
    "### $$\\begin{pmatrix}\n",
    "U''_{xx} & U''_{xy}\\\\ \n",
    "U''_{yx} & U''_{yy}\\\\\n",
    "\\end{pmatrix} =\n",
    "\\begin{pmatrix}\n",
    "\\frac{x^2}{4 \\sqrt e^x} + \\frac{y^2}{4 \\sqrt e^x} - \\frac{2x}{4 \\sqrt e^x} + \\frac{2}{\\sqrt e^x} & -\\frac{1}{\\sqrt e^x}\\\\ \n",
    "-\\frac{1}{\\sqrt e^x} & \\frac{2 \\sqrt e^x}{e^x}\\\\\n",
    "\\end{pmatrix}$$\n",
    "\n",
    "\n",
    "В ней можно выделить два главных минора \n",
    "\n",
    "### $$\\Delta_{1}=U''_{xx}=0+0-0+\\frac{2}{\\sqrt 1}=2$$\n",
    "\n",
    "### $$\\Delta_{1}=U''_{xx}= \\frac{4^2}{4\\sqrt e^4} +0 - \\frac{2 \\cdot 4}{4 \\sqrt e^4} + \\frac{2}{\\sqrt e^4} = \\frac{1}{\\sqrt e^4}(4-2+2)=\\frac{4}{e^2}$$\n",
    "\n",
    "### $$\\Delta_{2}=\\begin{vmatrix}\n",
    "U''_{xx} & U''_{xy}\\\\ \n",
    "U''_{yx} & U''_{yy}\\\\\n",
    "\\end{vmatrix}=U''_{xx}\\cdot U''_{yy}-(U''_{xy})^2\\\\\n",
    "=(2y+4) \\cdot (2y+6) - (2x)^2$$\n",
    "\n",
    "### $$\\Delta_{2}= (2 \\cdot (-1)+4) \\cdot (2 \\cdot (-1)+6)-(2 \\cdot (0))^2= 8 >0,$$ $$\\Delta_{2}= (2 \\cdot (0)+4) \\cdot (2 \\cdot (0)+6)-(2 \\cdot 2\\sqrt 2)^2= -8 < 0,$$ $$ \\Delta_{2}= (2 \\cdot (-6)+4) \\cdot (2 \\cdot (-6)+6)-(2 \\cdot (-2\\sqrt 2))^2= 16 >0$$\n",
    "\n",
    "1. Если __все__ миноры __положительные__, то найденная стационарная точка является точкой __минимума__.\n",
    "\n",
    "2. Если __первый__ минор __отрицательный__, а все __остальные чередуют знак__, то найденная точка является точкой __максимума__.\n",
    "\n",
    "3. Если не выполняются первые два условия, то найденная точка является «седловой».\n",
    "\n",
    "4. Если хотя бы один из миноров равен нулю, то теория сматрицей Гессе не работает. (будет работать только через касательную плоскость)\n",
    "\n",
    "Первый минор положительный, второй положительный. Это говорит о том, что найденная точка ($0, -1$) является ... точка минимума\n",
    "\n",
    "Первый минор положительный, второй отрицательный. Это говорит о том, что найденная точка ($2\\sqrt 2, 0$) является седловой.\n",
    "\n",
    "Первый минор отрицательный, второй положительный. Это говорит о том, что найденная точка ($-2\\sqrt 2, 0$) точка максимума"
   ]
  },
  {
   "cell_type": "code",
   "execution_count": 4,
   "metadata": {},
   "outputs": [
    {
     "data": {
      "image/png": "[encoded data removed]",
      "text/plain": [
       "<Figure size 432x288 with 1 Axes>"
      ]
     },
     "metadata": {
      "needs_background": "light"
     },
     "output_type": "display_data"
    }
   ],
   "source": [
    "import pylab\n",
    "from mpl_toolkits.mplot3d import Axes3D\n",
    "import numpy\n",
    "\n",
    "def makeData ():\n",
    "    x = numpy.arange (0, 6, 0.1)\n",
    "    y = numpy.arange (-1, 5, 0.1)\n",
    "    xgrid, ygrid = numpy.meshgrid(x, y)\n",
    "\n",
    "    Ugrid = np.exp(-0.5*x)*(xgrid**2+ygrid**2)\n",
    "    return xgrid, ygrid, Ugrid\n",
    "\n",
    "x, y, U = makeData()\n",
    "\n",
    "fig = pylab.figure()\n",
    "axes = Axes3D(fig)\n",
    "\n",
    "axes.plot_surface(x, y, U)\n",
    "\n",
    "pylab.show()"
   ]
  },
  {
   "cell_type": "markdown",
   "metadata": {},
   "source": [
    "__8**.__ С помощью метода наименьших квадратов (МНК) подобрать значения параметров $a$ и $b$ для сигмоидальной функции $$y=\\frac{1}{1+e^{-(ax+b)}}$$<a class=\"anchor\" id=\"ex8\"></a><center>\n",
    "\n",
    "по заданному распределению. Построить график."
   ]
  },
  {
   "cell_type": "code",
   "execution_count": 3,
   "metadata": {},
   "outputs": [
    {
     "data": {
      "image/png": "[encoded data removed]",
      "text/plain": [
       "<Figure size 432x288 with 1 Axes>"
      ]
     },
     "metadata": {
      "needs_background": "light"
     },
     "output_type": "display_data"
    }
   ],
   "source": [
    "import numpy as np\n",
    "import matplotlib.pyplot as plt\n",
    "\n",
    "# Задаем рандомное распределение точек\n",
    "xi = np.random.uniform(-8, 8, 200)\n",
    "yi = 1/(1+np.exp(-np.random.uniform(0.5, 1.5, 200)*xi-np.random.uniform(-1, 1, 200)))\n",
    "plt.plot(xi,yi, marker=\"o\", ls=\"\")\n",
    "n=500\n",
    "k = (np.log(yi).sum()*(xi**2).sum()-(np.log(yi)*xi).sum()*xi.sum())/(n*(xi**2).sum()-(xi.sum()**2))\n",
    "b = (n*(np.log(yi)*xi).sum()-np.log(yi).sum()*(xi).sum())/(n*(xi**2).sum()-(xi.sum()**2))\n",
    "\n",
    "x = np.linspace(-8, 8, 200)\n",
    "y=1/(1+np.exp(k*x+b))\n",
    "\n",
    "plt.plot(x,y, c='r')\n",
    "\n",
    "plt.show()"
   ]
  },
  {
   "cell_type": "markdown",
   "metadata": {
    "id": "p_3vqG5-kVlP"
   },
   "source": [
    "# Производная функции нескольких переменных. Часть 1 <a class=\"anchor\" id=\"theor\"></a><center>"
   ]
  },
  {
   "cell_type": "markdown",
   "metadata": {
    "id": "Hvie6reKUdwK"
   },
   "source": [
    "На прошлых уроках мы познакомились с производными функций одного переменного. Сегодня обощим это понятие на функции нескольких переменных. Сегодня на уроке мы разберем следущие темы:\n",
    "\n",
    "- дифференциал функции и частные производные;\n",
    "\n",
    "- градиент;\n",
    "\n",
    "- физический смысл;\n",
    "\n",
    "- производная по направлению;\n",
    "\n",
    "- экстремум функции 2-х переменных;\n",
    "\n",
    "- аппроксимация. Метод наименьших квадратов.\n",
    "\n",
    "\n",
    "\n",
    "Если идти по ВУЗовской программе, то для начала нам потребуется обобщить понятие предела на функции нескольких переменных. Но мы дадим определение дифференциала и уже его перевеем на функции нескольких переменных."
   ]
  },
  {
   "cell_type": "markdown",
   "metadata": {
    "id": "bstBkeS3UdwL"
   },
   "source": [
    "### Дифференциал функции и частные производные"
   ]
  },
  {
   "cell_type": "markdown",
   "metadata": {
    "id": "VCBxwlV7UdwN"
   },
   "source": [
    "Вспомним определение производной функции одного переменного:\n",
    "\n",
    "### $$f'(x)=\\lim_{\\Delta x\\to 0} \\frac{f(x+\\Delta x)-f(x)}{\\Delta x}$$\n",
    "\n",
    "Есть более короткая запись данного равенства:\n",
    "\n",
    "### $$f'(x)=\\frac{df(x)}{dx}$$\n",
    "\n",
    "где $df(x)$ называется дифференциал (приращение) функции, $dx$ - дифференциал (приращение) аргумента.\n",
    "\n",
    "Из последнего равенства как раз мы и получаем значение дифференциала функции:\n",
    "\n",
    "### $$df(x)=f'(x) \\cdot dx$$\n",
    "\n",
    "т.е. дифференциал функции равен производной функции умноженной на дифференциал аргумента."
   ]
  },
  {
   "cell_type": "markdown",
   "metadata": {
    "id": "nwYWLieJUdwX"
   },
   "source": [
    "#### Примеры\n",
    "\n",
    "\n",
    "1. \n",
    "###  $$d(x^2)=2x \\cdot dx$$\n",
    "\n",
    "\n",
    "2. \n",
    "### $$d(3x^2-4x+10)=(6x-4) \\cdot dx$$\n",
    "\n",
    "\n",
    "3. \n",
    "### $$d(\\sin x)=\\cos x \\cdot dx$$\n",
    "\n",
    "\n",
    "4. \n",
    "### $$d(\\sin (x^2))=\\cos (x^2) \\cdot d(x^2)=\\cos (x^2) \\cdot 2x \\cdot dx$$"
   ]
  },
  {
   "cell_type": "markdown",
   "metadata": {
    "id": "k9soWY-GUdwe"
   },
   "source": [
    "Существует так же и дифференциал второго порядка. Он равен дифференциалу от первого дифференциала. Т.е:\n",
    "\n",
    "### $$d^2f(x)=d(df(x))=d(f'(x) \\cdot dx)=f''(x) \\cdot dx\\cdot dx=f''(x) \\cdot dx^2$$"
   ]
  },
  {
   "cell_type": "markdown",
   "metadata": {
    "id": "kLkWbwYeUdxF"
   },
   "source": [
    "#### Примеры\n",
    "\n",
    "\n",
    "1. \n",
    "### $$d^2(x^2)=2 \\cdot dx^2$$\n",
    "\n",
    "\n",
    "2. \n",
    "### $$d^2(\\sin x)=-\\sin x \\cdot dx^2$$"
   ]
  },
  {
   "cell_type": "markdown",
   "metadata": {
    "id": "G3Nrie7-UdxK"
   },
   "source": [
    "Рассмотрим теперь функцию $U=f(x,y)$, зависящую от двух переменных $x$ и $y$.\n",
    "\n",
    "Ее дифференциал будет выглядеть в следующей виде:\n",
    "\n",
    "\n",
    "### $$dU=\\frac{\\partial U}{\\partial x}dx+\\frac{\\partial U}{\\partial y}dy=U'_{x}dx+U'_{y}dy$$\n",
    "\n",
    "где $\\frac{\\partial U}{\\partial x}=U'_{x}$ - частная производная по оси $x$, а $\\frac{\\partial U}{\\partial y}=U'_{y}$ - частная производная по оси $y$.\n",
    "\n",
    "$\\partial$ и $d$ - это дифференциалы. Первые написаны курсивом, чтобы их не путали с обычными и не сокращали. Дело в том что, если мы берем частную производную, например $U'_{x}$, остальные переменными мы считает зафиксированными (константами). Поэтому $\\partial x$ - это приращение $x$ в частном случае. При этом сама функция может меняться как ей угодно, поэтому $dx$ это приращение $x$ в общем случае.\n",
    "Дифференциал второго порядка от функции двух переменных имеет следующий вид:\n",
    "\n",
    "### $$dU^2=\\frac{\\partial^2 U}{\\partial x^2}dx^2+\\frac{\\partial^2 U}{\\partial x\\partial y}dxdy+\\frac{\\partial^2 U}{\\partial y\\partial x}dydx+\\frac{\\partial^2 U}{\\partial y^2}dy^2=$$\n",
    "\n",
    "### $$=U''_{xx}dx^2+U''_{xy}dxdy+U''_{yx}dydx+U''_{yy}dy^2$$\n",
    "\n",
    "Для гладких функций, смешанные производные совпадают $U''_{xy}=U''_{yx}$. Кусочные функции рассматривать на курсе мы не будем, поэтому запись можно упростить:\n",
    "\n",
    "### $$dU^2=\\frac{\\partial^2 U}{\\partial x^2}dx^2+2\\frac{\\partial^2 U}{\\partial x\\partial y}dxdy+\\frac{\\partial^2 U}{\\partial y^2}dy^2=$$\n",
    "\n",
    "### $$=U''_{xx}dx^2+2U''_{xy}dxdy+U''_{yy}dy^2$$"
   ]
  },
  {
   "cell_type": "markdown",
   "metadata": {
    "id": "6KLkddOcUdxO"
   },
   "source": [
    "#### Примеры \n",
    "\n",
    "1. Возьмем функцию двух переменных:\n",
    "### $$U(x,y)=5x^2+7y^3 \\sin x−\\ln x \\cdot \\mbox{tg}y+10y−13$$\n",
    "\n",
    "Найдем все частные производные первого и второго порядка.\n",
    "\n",
    "### $$U'_{x}=10x+7y^3 \\cos x −\\frac{\\mbox{tg} y}{x}$$\n",
    "\n",
    "### $$U'_{y}=21y^2 \\sin x−\\frac{\\ln x}{\\cos^2 y}+10$$\n",
    "\n",
    "### $$U''_{xx}=10-7y^3 \\sin x +\\frac{\\mbox{tg} y}{x^2}$$\n",
    "\n",
    "### $$U''_{yy}=42y \\sin x−\\frac{2\\ln x \\cdot \\sin y}{\\cos^3 y}$$\n",
    "\n",
    "### $$U''_{xy}=21y^2 \\cos x −\\frac{1}{x \\cos^2 y}$$\n",
    "\n",
    "### $$U''_{yx}=21y^2 \\cos x −\\frac{1}{x \\cos^2 y}$$\n",
    "\n",
    "Можно заметить, что $U''_{xy}=U''_{yx}$. Этот факт в процессе обучения можно использовать в качестве проверки. Если смешанные производные совпадают, то скорее всего производные найдены правильно. Хотя возможно допущены сразу две ошибки, которые и привели к одному ответу.\n",
    "\n",
    "Запишем полные дифференциалы первого и второго порядка.\n",
    "\n",
    "### $$dU=(10x+7y^3 \\cos x −\\frac{\\mbox{tg} y}{x})dx+(21y^2 \\sin x−\\frac{\\ln x}{\\cos^2 y}+10)dy$$\n",
    "\n",
    "### $$dU^2=(10-7y^3 \\sin x +\\frac{\\mbox{tg} y}{x^2})dx^2+2(21y^2 \\cos x −\\frac{1}{x \\cos^2 y})dxdy+(42y \\sin x−\\frac{2\\ln x \\cdot \\sin y}{\\cos^3 y})dy^2$$\n",
    "\n",
    "Видно, что записи выглядят довольно громозко и не приятно. Как правило, полные дифференциалы рассматривают в конкретной точке (при конкретных значениях $x$ и $y$). Поэтому записи упростятся. Ближе к концу методички рассмотрим  подобные примеры."
   ]
  },
  {
   "cell_type": "markdown",
   "metadata": {
    "id": "0jIEAJo9UdxQ"
   },
   "source": [
    "#### Примеры \n",
    "\n",
    "2. Возьмем теперь функцию трёх переменных:\n",
    "### $$U(x,y,z )=3y^3z^2+5x^5 \\ln z−\\sin x\\cdot \\cos y+11y−9x+3z−20$$\n",
    "\n",
    "Найдем все частные производные первого и второго порядка.\n",
    "\n",
    "### $$U'_{x}=25x^4 \\ln z−\\cos x \\cdot \\cos y−9$$\n",
    "\n",
    "### $$U'_{y}=9y^2z^2+\\sin x\\cdot \\sin y+11$$\n",
    "\n",
    "### $$U'_{z}=6y^3z+\\frac{5x^5}{z}+3$$\n",
    "\n",
    "### $$U''_{xx}=100x^3 \\ln z+\\sin x \\cdot \\cos y$$\n",
    "\n",
    "### $$U''_{xy}=\\cos x \\cdot \\sin y$$\n",
    "\n",
    "### $$U''_{xz}=\\frac{25x^4}{z}$$\n",
    "\n",
    "### $$U''_{yx}=\\cos x\\cdot \\sin y$$\n",
    "\n",
    "### $$U''_{yy}=18yz^2+\\sin x\\cdot \\cos y$$\n",
    "\n",
    "### $$U''_{yz}=18y^2z$$\n",
    "\n",
    "### $$U''_{zx}=\\frac{25x^4}{z}$$\n",
    "\n",
    "### $$U''_{zy}=18y^2z$$\n",
    "\n",
    "### $$U''_{zz}=6y^3-\\frac{5x^5}{z^2}$$\n",
    "\n",
    "Опять можно заметить, что все смешанные производные попарно равны."
   ]
  },
  {
   "cell_type": "markdown",
   "metadata": {
    "id": "fNvYbffaUdxa"
   },
   "source": [
    "### Градиент\n",
    "\n",
    "__Градиент - это вектор функция__, координаты которой являются частные производные. \n",
    "\n",
    "Например для функции трёх переменных $U(x,y,z)$ градиент записывается и выглядит как:\n",
    "\n",
    "### $$\\mbox{grad} U=(U'_{x},U'_{y},U'_{z})$$\n",
    "\n",
    "__Почему вектор?__ Потому что это вектор, состоящих из координат. \n",
    "\n",
    "__Почему функция?__ Потому что эти координаты зависят от переменных."
   ]
  },
  {
   "cell_type": "markdown",
   "metadata": {
    "id": "9edeoT9TUdxb"
   },
   "source": [
    "#### Пример\n",
    "\n",
    "Возьмем функцию\n",
    "### $$U(x,y)=4\\sin x+3\\cos y+2x^4y^3+4$$\n",
    "\n",
    "\n",
    "Найдем частные производные первого порядка.\n",
    "\n",
    "### $$U'_{x}=4\\cos x+8x^3y^3$$\n",
    "\n",
    "### $$U'_{y}=−3\\sin y+6x^4y^2$$\n",
    "\n",
    "Осталось записать градиент\n",
    "\n",
    "### $$\\mbox{grad} U=(4\\cos x+8x^3y^3,−3\\sin y+6x^4y^2)$$\n",
    "\n",
    "Так же можно найти значение градиента в конкретной точке. Например в точке $(0,0)$:\n",
    "\n",
    "### $$\\mbox{grad} U=(4,0)$$"
   ]
  },
  {
   "cell_type": "markdown",
   "metadata": {
    "id": "Qbf7x9LLUdxb"
   },
   "source": [
    "### Физический смысл\n",
    "Частные производные показывают скорость изменения функции по направлению роста оси. $U'_{x}$ -по оси $x$, $U'_{y}$ -по оси $y$ и т.д..\n",
    "\n",
    "__Градиент показывает направление самого быстрого изменения функции.__\n",
    "\n",
    "Т.е. в отличии от функций одного переменного $f(x)$, __производную функции нескольких переменных $U(x,y,z,…)$ можно брать по любому направлению__. Отличного от осей."
   ]
  },
  {
   "cell_type": "markdown",
   "metadata": {
    "id": "lXOQGwg3Udxc"
   },
   "source": [
    "### Производная по направлению"
   ]
  },
  {
   "cell_type": "markdown",
   "metadata": {
    "id": "-v4LtKlhUdxd"
   },
   "source": [
    "Производная функции $U$ по направлению вектора  $\\overrightarrow{a}$ равна скалярному произведению единичного вектора $\\overrightarrow{a}_{0}$ и градиента функции $\\mbox{grad}U$.\n",
    "\n",
    "### $$U'_{\\overrightarrow{a}}=(\\overrightarrow{a}_{0}\\cdot \\mbox{grad}U)$$"
   ]
  },
  {
   "cell_type": "markdown",
   "metadata": {
    "id": "OsJvVRHYUdxf"
   },
   "source": [
    "#### Пример №1\n",
    "\n",
    "Пусть \n",
    "### $$U(x,y)=x^2+y^3-3x^3y^2+5$$\n",
    "\n",
    "найдем производную этой функции по направлению биссектрисы первой координатной четверти в точке $A(2,1)$\n",
    "\n",
    "__Для нахождения производной по направлению нам необходимо знать:__\n",
    "\n",
    "- единичный направляющий вектор,\n",
    "\n",
    "- значение градиента в точке $A$.\n",
    "\n",
    "Давайте начнем с направляющего вектора. На биссектрисе первой координатной четверти значения переменных $x$ и $y$ совпадает. В качестве простоты возьмем вектор\n",
    "### $$\\overrightarrow{a}=(1,1)$$\n",
    "\n",
    "Далее найдем его длину \n",
    "\n",
    "### $$|\\overrightarrow{a}|=\\sqrt{x^2_{0}+y^2_{0}}=\\sqrt{1^2+1^2}=\\sqrt{2}$$\n",
    "\n",
    "Чтобы сделать вектор единичным, нужно его координаты поделить на длину\n",
    "\n",
    "### $$\\overrightarrow{a_{0}}=\\frac{\\overrightarrow{a}}{|\\overrightarrow{a}|}=\\Bigr(\\frac{1}{\\sqrt{2}},\\frac{1}{\\sqrt{2}}\\Bigl)=\\Bigr(\\frac{\\sqrt{2}}{2},\\frac{\\sqrt{2}}{2}\\Bigl)$$\n",
    "\n",
    "Теперь найдем градиент.\n",
    "\n",
    "### $$U'_{x}=2x-9x^2y^2$$\n",
    "\n",
    "### $$U'_{y}=3y^2-6x^3y$$\n",
    "\n",
    "Тогда градиент нашей функции в точке $A(2,1)$ равен:\n",
    "\n",
    "### $$\\mbox{grad}U=(-32,-45)$$\n",
    "\n",
    "Осталось посчитать скалярное произведение. Т.к. координаты в нашем случае известны, то достаточно перемножить координаты и сложить результат.\n",
    "\n",
    "### $$U'_{\\overrightarrow{a}}=\\frac{\\sqrt{2}}{2}\\cdot (-32)+\\frac{\\sqrt{2}}{2}\\cdot (-45)=-\\frac{77\\sqrt{2}}{2}$$"
   ]
  },
  {
   "cell_type": "markdown",
   "metadata": {
    "id": "Qoq2EKqWUdxg"
   },
   "source": [
    "Давайте теперь найдем производную по направлению градиента. Скорость изменения по направлению градиента самая большая, соответственно и значение производной должно быть самым большим.\n",
    "\n",
    "### $$U'_{\\mbox{grad}U}=(\\mbox{grad}U_{0}\\cdot \\mbox{grad}U)$$\n",
    "\n",
    "Для расчетов не хватает только единичного вектора градиента, найдем её.\n",
    "\n",
    "### $$|\\mbox{grad}U|=\\sqrt{(-32)^2+(-45)^2}=\\sqrt{3049}$$\n",
    "\n",
    "### $$\\mbox{grad}U_{0}=\\frac{\\mbox{grad}U}{|\\mbox{grad}U|}=\\Bigr(\\frac{-32}{\\sqrt{3049}},\\frac{-45}{\\sqrt{3049}}\\Bigl)$$\n",
    "\n",
    "Тогда производная по направлению градиента равна:\n",
    "\n",
    "### $$U'_{\\mbox{grad}U}=\\frac{-32}{\\sqrt{3049}}\\cdot(-32)+\\frac{-45}{\\sqrt{3049}}\\cdot(-45)=\\frac{3049}{\\sqrt{3049}}=\\sqrt{3049}$$"
   ]
  },
  {
   "cell_type": "markdown",
   "metadata": {
    "id": "hVvaCb9eUdxi"
   },
   "source": [
    "#### Замечания\n",
    "\n",
    "- полученное значение производной по направлению градиента самое большое из всех возможных производных по направлению. \n",
    "\n",
    "- производная по направлению, перпендикулярному направлению градиента, равна нулю. \n",
    "\n",
    "- производная по направлению, противоположному направлению градиента, принимает наименьше доступное значение. \n",
    "\n",
    "- есть более просто способ вычисления производной по направлению градиента, посмотрим на него при разборе домашнего задания к этому уроку. "
   ]
  },
  {
   "cell_type": "markdown",
   "metadata": {
    "id": "V34Q0mHFUdxu"
   },
   "source": [
    "#### Пример №2\n",
    "\n",
    "Пусть \n",
    "### $$U(x,y,z)=xy^2+z^3-xyz$$\n",
    "\n",
    "найдем производную этой функции по направлению вектора $\\overrightarrow{b}=(12,-8,9)$ в точке $P(1,1,2)$\n",
    "\n",
    "Найдем длину вектора $\\overrightarrow{b}$:\n",
    "\n",
    "### $$|\\overrightarrow{b}|=\\sqrt{x^2_{0}+y^2_{0}+z^2_{0}}=\\sqrt{12^2+(-8)^2+9^2}=\\sqrt{289}=17$$\n",
    "\n",
    "Запишем единичный вектор $\\overrightarrow{b}_{0}$:\n",
    "\n",
    "### $$\\overrightarrow{b_{0}}=\\frac{\\overrightarrow{b}}{|\\overrightarrow{b}|}=\\Bigr(\\frac{12}{17},-\\frac{8}{17},\\frac{9}{17}\\Bigl)$$\n",
    "\n",
    "Теперь найдем градиент в точке P(1,1,2).\n",
    "\n",
    "### $$U'_{x}=y^2-yz$$\n",
    "\n",
    "### $$U'_{y}=2xy-xz$$\n",
    "\n",
    "### $$U'_{z}=3z^2-xy$$\n",
    "\n",
    "### $$\\mbox{grad}U=(-1,0,11)$$\n",
    "\n",
    "Осталось посчитать значение производной\n",
    "\n",
    "### $$U'_{\\overrightarrow{b}}=\\frac{12}{17}\\cdot (-1)-\\frac{8}{17}\\cdot 0+\\frac{9}{17}\\cdot 11=\\frac{-12+99}{17}=\\frac{87}{17}$$"
   ]
  },
  {
   "cell_type": "markdown",
   "metadata": {
    "id": "pfK1N-n0Udx0"
   },
   "source": [
    "### Экстремум функции 2-х переменных"
   ]
  },
  {
   "cell_type": "markdown",
   "metadata": {
    "id": "RrrmNyeAUdyB"
   },
   "source": [
    "Данная тема для нас является проходной для более сложных, при этом решать задачи для функции 3-х  и более переменных можно часами. Поэтому рассмотрим экстремум только для случая функции 2-х переменных. Правда обсудим как эту теорию обобщить и на функции многих переменных. \n",
    "\n",
    "Рассмотрим функцию.\n",
    "\n",
    "### $$U=U(x,y)$$\n",
    "\n",
    "тогда __необходимым условием__ существования экстремума является __равенство нулю частных производных.__ Точки, в которых все частные производные обращаются  в $0$ будем называть стационарными.\n",
    "\n",
    "С __достаточным условием__ все гораздо сложнее. Можно выделить четыре разных подхода.\n",
    "\n",
    "Два математических:\n",
    "\n",
    "- через полный дифференциал второго порядка (требует большого навыка работы с числами);\n",
    "\n",
    "- через уравнения касательной плоскости (является самым сложным способом, но при этом самым надежным).\n",
    "\n",
    "Два алгебраических:\n",
    "\n",
    "- через критерий Сильвестра (с помощью матрицы Гёссе. Является самым простым способом, но требует начального уровня знания в линейной алгебре);\n",
    "\n",
    "- через собственные значение матрицы Гёссе (является самым быстрым, но требует более глубокого уровня знания в линейной алгебре)."
   ]
  },
  {
   "cell_type": "markdown",
   "metadata": {
    "id": "ZhGuPiBNUdyD"
   },
   "source": [
    "Для простоты понимания __в качестве основного достаточного условия возьмем критерий Сильвестра.__ Для этого рассмотрим матрицу Гёссе - матрица вторых производных функции 2-х переменных.\n",
    "\n",
    "### $$\\begin{pmatrix}\n",
    "U''_{xx} & U''_{xy}\\\\ \n",
    "U''_{yx} & U''_{yy}\\\\\n",
    "\\end{pmatrix}$$\n",
    "\n",
    "В ней можно выделить два главных минора \n",
    "\n",
    "### $$\\Delta_{1}=U''_{xx}$$\n",
    "\n",
    "### $$\\Delta_{2}=\\begin{vmatrix}\n",
    "U''_{xx} & U''_{xy}\\\\ \n",
    "U''_{yx} & U''_{yy}\\\\\n",
    "\\end{vmatrix}=U''_{xx}\\cdot U''_{yy}-(U''_{xy})^2$$\n",
    "\n",
    "1. Если __все__ миноры __положительные__, то найденная стационарная точка является точкой __минимума__.\n",
    "\n",
    "2. Если __первый__ минор __отрицательный__, а все __остальные чередуют знак__, то найденная точка является точкой __максимума__.\n",
    "\n",
    "3. Если не выполняются первые два условия, то найденная точка является «седловой».\n",
    "\n",
    "4. Если хотя бы один из миноров равен нулю, то теория сматрицей Гессе не работает. (будет работать только через касательную плоскость)\n"
   ]
  },
  {
   "cell_type": "markdown",
   "metadata": {
    "id": "O4CQJTk0UdyD"
   },
   "source": [
    "### Пример №1\n",
    "\n",
    "Возьмем обычный параболоид ветвями вверх\n",
    "\n",
    "### $$U(x,y)=x^2+y^2$$\n",
    "\n",
    "Найдем частные производные, приравняем их к нулю и найдем стационарные точки:\n",
    "\n",
    "### $$\\begin{cases}\n",
    "   U'_{x}=2x=0, \\\\\n",
    "   U'_{y}=2y=0 \n",
    " \\end{cases}$$\n",
    " \n",
    " Получаем единственную стационарную точку $(0,0)$. Теперь найдем вторые производные и составим матрицу Гёссе\n",
    " \n",
    "###  $$U''_{xx}=2$$ $$U''_{xy}=U''_{yx}=0$$  $$U''_{yy}=2$$\n",
    " \n",
    "###  $$\\begin{pmatrix}\n",
    "2 & 0\\\\ \n",
    "0 & 2\\\\\n",
    "\\end{pmatrix}$$\n",
    "\n",
    "теперь можно вычислить главные миноры \n",
    "\n",
    "### $$\\Delta_{1}=U''_{xx}=2>0$$\n",
    "\n",
    "### $$\\Delta_{2}=\\begin{vmatrix}\n",
    "U''_{xx} & U''_{xy}\\\\ \n",
    "U''_{yx} & U''_{yy}\\\\\n",
    "\\end{vmatrix}=U''_{xx}\\cdot U''_{yy}-(U''_{xy})^2=2 \\cdot 2 - 0^2=4>0$$\n",
    "\n",
    "Оба минора положительные, это говорит о том, что найденная точка (0,0) является точкой минимума.\n",
    "\n",
    "#### Замечание 1\n",
    "В качестве дополнения рассмотрим полный дифференциал второго порядка\n",
    "\n",
    "### $$dU^2=U''_{xx}dx^2+2U''_{xy}dxdy+U''_{yy}dy^2=2dx^2+2dy^2=2\\cdot(dx^2+dy^2)$$\n",
    "\n",
    "При любых, отличных от нуля, $dx$ и $dx$ полный дифференциал второго порядка положительный, это так же говорит о точке минимума.\n",
    "\n",
    "#### Замечание 2\n",
    "Найдем собственные значения:"
   ]
  },
  {
   "cell_type": "code",
   "execution_count": null,
   "metadata": {
    "id": "RtKasZ9tUdyE",
    "outputId": "c5cdcda1-d569-4980-b514-85c879b02ce8"
   },
   "outputs": [],
   "source": [
    "import numpy as np\n",
    "np.set_printoptions(precision=2, suppress=True)\n",
    "\n",
    "a = np.array([[2, 0], [0, 2]])\n",
    "w, v = np.linalg.eig(a)\n",
    "\n",
    "print(f'Матрица Гёссе:\\n{a}')\n",
    "print(f'Собственные значения:\\n{w}')"
   ]
  },
  {
   "cell_type": "markdown",
   "metadata": {
    "id": "61rfdTH_UdyM"
   },
   "source": [
    "Все собственные значения положительные. \n",
    "\n",
    "Постоим график."
   ]
  },
  {
   "cell_type": "code",
   "execution_count": null,
   "metadata": {
    "id": "gHm8fM0kUdyN",
    "outputId": "d2622154-1a42-4e00-9cd9-53a860255eee"
   },
   "outputs": [],
   "source": [
    "import pylab\n",
    "from mpl_toolkits.mplot3d import Axes3D\n",
    "import numpy\n",
    "\n",
    "def makeData ():\n",
    "    x = numpy.arange (-10, 10, 0.1)\n",
    "    y = numpy.arange (-10, 10, 0.1)\n",
    "    xgrid, ygrid = numpy.meshgrid(x, y)\n",
    "\n",
    "    Ugrid = xgrid**2+ygrid**2\n",
    "    return xgrid, ygrid, Ugrid\n",
    "\n",
    "x, y, U = makeData()\n",
    "\n",
    "fig = pylab.figure()\n",
    "axes = Axes3D(fig)\n",
    "\n",
    "axes.plot_surface(x, y, U)\n",
    "\n",
    "pylab.show()"
   ]
  },
  {
   "cell_type": "markdown",
   "metadata": {
    "id": "qCB1PCiMUdyO"
   },
   "source": [
    "### Пример №2\n",
    "\n",
    "Возьмем параболоид ветвями вниз\n",
    "\n",
    "### $$U(x,y)=-x^2-y^2$$\n",
    "\n",
    "Найдем частные производные, приравняем их к нулю и найдем стационарные точки:\n",
    "\n",
    "### $$\\begin{cases}\n",
    "   U'_{x}=-2x=0, \\\\\n",
    "   U'_{y}=-2y=0 \n",
    " \\end{cases}$$\n",
    " \n",
    " Получаем единственную стационарную точку $(0,0)$. Теперь найдем вторые производные и составим матрицу Гёссе\n",
    " \n",
    "###  $$U''_{xx}=-2$$ $$U''_{xy}=U''_{yx}=0$$  $$U''_{yy}=-2$$\n",
    " \n",
    " $$\\begin{pmatrix}\n",
    "-2 & 0\\\\ \n",
    "0 & -2\\\\\n",
    "\\end{pmatrix}$$\n",
    "\n",
    "теперь можно вычислить главные миноры \n",
    "\n",
    "### $$\\Delta_{1}=U''_{xx}=-2<0$$\n",
    "\n",
    "### $$\\Delta_{2}=\\begin{vmatrix}\n",
    "U''_{xx} & U''_{xy}\\\\ \n",
    "U''_{yx} & U''_{yy}\\\\\n",
    "\\end{vmatrix}=U''_{xx}\\cdot U''_{yy}-(U''_{xy})^2=(-2) \\cdot (-2) - 0^2=4>0$$\n",
    "\n",
    "Первый минор положительный, второй поменял знак. Это говорит о том, что найденная точка (0,0) является точкой максимума.\n",
    "\n",
    "#### Замечание 1\n",
    "\n",
    "### $$dU^2=U''_{xx}dx^2+2U''_{xy}dxdy+U''_{yy}dy^2=-2dx^2-2dy^2=-2\\cdot(dx^2+dy^2)$$\n",
    "\n",
    "При любых, отличных от нуля, $dx$ и $dx$ полный дифференциал второго порядка отрицательный, это так же говорит о точке максимума.\n",
    "\n",
    "#### Замечание 2\n",
    "Найдем собственные значения:"
   ]
  },
  {
   "cell_type": "code",
   "execution_count": null,
   "metadata": {
    "id": "Ce5L-DKkUdyP",
    "outputId": "df0e14f8-42c0-4857-ed3d-a1b894333489"
   },
   "outputs": [],
   "source": [
    "import numpy as np\n",
    "np.set_printoptions(precision=2, suppress=True)\n",
    "\n",
    "a = np.array([[-2, 0], [0, -2]])\n",
    "w, v = np.linalg.eig(a)\n",
    "\n",
    "print(f'Матрица Гёссе:\\n{a}')\n",
    "print(f'Собственные значения:\\n{w}')"
   ]
  },
  {
   "cell_type": "markdown",
   "metadata": {
    "id": "iM7EduMYUdyQ"
   },
   "source": [
    "Все собственные значения отрицательные. За счёт этого идет чередование знаков миноров.\n",
    "\n",
    "Постоим график."
   ]
  },
  {
   "cell_type": "code",
   "execution_count": null,
   "metadata": {
    "id": "j_Y4HdJdUdyQ",
    "outputId": "23795684-3199-44b4-8917-a04cbd8dba61"
   },
   "outputs": [],
   "source": [
    "import pylab\n",
    "from mpl_toolkits.mplot3d import Axes3D\n",
    "import numpy\n",
    "\n",
    "def makeData ():\n",
    "    x = numpy.arange (-10, 10, 0.1)\n",
    "    y = numpy.arange (-10, 10, 0.1)\n",
    "    xgrid, ygrid = numpy.meshgrid(x, y)\n",
    "\n",
    "    Ugrid = -xgrid**2-ygrid**2\n",
    "    return xgrid, ygrid, Ugrid\n",
    "\n",
    "x, y, U = makeData()\n",
    "\n",
    "fig = pylab.figure()\n",
    "axes = Axes3D(fig)\n",
    "\n",
    "axes.plot_surface(x, y, U)\n",
    "\n",
    "pylab.show()"
   ]
  },
  {
   "cell_type": "markdown",
   "metadata": {
    "id": "WyWICGkaUdyS"
   },
   "source": [
    "### Пример №3\n",
    "\n",
    "Возьмем гиперболический параболоид\n",
    "\n",
    "### $$U(x,y)=x^2-y^2$$\n",
    "\n",
    "Найдем частные производные, приравняем их к нулю и найдем стационарные точки:\n",
    "\n",
    "### $$\\begin{cases}\n",
    "   U'_{x}=2x=0, \\\\\n",
    "   U'_{y}=-2y=0 \n",
    " \\end{cases}$$\n",
    " \n",
    " Получаем единственную стационарную точку $(0,0)$. Теперь найдем вторые производные и составим матрицу Гёссе\n",
    " \n",
    "###  $$U''_{xx}=2$$ $$U''_{xy}=U''_{yx}=0$$  $$U''_{yy}=-2$$\n",
    " \n",
    "###  $$\\begin{pmatrix}\n",
    "2 & 0\\\\ \n",
    "0 & -2\\\\\n",
    "\\end{pmatrix}$$\n",
    "\n",
    "теперь можно вычислить главные миноры \n",
    "\n",
    "### $$\\Delta_{1}=U''_{xx}=2>0$$\n",
    "\n",
    "### $$\\Delta_{2}=\\begin{vmatrix}\n",
    "U''_{xx} & U''_{xy}\\\\ \n",
    "U''_{yx} & U''_{yy}\\\\\n",
    "\\end{vmatrix}=U''_{xx}\\cdot U''_{yy}-(U''_{xy})^2=2 \\cdot (-2) - 0^2=-4<0$$\n",
    "\n",
    "Первый минор положительный, второй отрицательный. Это говорит о том, что найденная точка (0,0) является седловой.\n",
    "\n",
    "#### Замечание 1\n",
    "\n",
    "### $$dU^2=U''_{xx}dx^2+2U''_{xy}dxdy+U''_{yy}dy^2=2dx^2-2dy^2=2\\cdot(dx^2-dy^2)$$\n",
    "\n",
    "Знак полного дифференциала второго порядка в данном случае может быть любым \n",
    "\n",
    "#### Замечание 2\n",
    "Найдем собственные значения:"
   ]
  },
  {
   "cell_type": "code",
   "execution_count": null,
   "metadata": {
    "id": "EOKOgR25UdyT",
    "outputId": "c9945a21-fff5-4bc1-87aa-8cab566d254f"
   },
   "outputs": [],
   "source": [
    "import numpy as np\n",
    "np.set_printoptions(precision=2, suppress=True)\n",
    "\n",
    "a = np.array([[2, 0], [0, -2]])\n",
    "w, v = np.linalg.eig(a)\n",
    "\n",
    "print(f'Матрица Гёссе:\\n{a}')\n",
    "print(f'Собственные значения:\\n{w}')"
   ]
  },
  {
   "cell_type": "markdown",
   "metadata": {
    "id": "TM9QYLx0UdyU"
   },
   "source": [
    "Собственные значения разных знаков\n",
    "\n",
    "Постоим график."
   ]
  },
  {
   "cell_type": "code",
   "execution_count": null,
   "metadata": {
    "id": "fUwNbKjOUdyX",
    "outputId": "d4a219db-a9c1-48aa-afa7-6ff475be04d4"
   },
   "outputs": [],
   "source": [
    "import pylab\n",
    "from mpl_toolkits.mplot3d import Axes3D\n",
    "import numpy\n",
    "\n",
    "def makeData ():\n",
    "    x = numpy.arange (-10, 10, 0.1)\n",
    "    y = numpy.arange (-10, 10, 0.1)\n",
    "    xgrid, ygrid = numpy.meshgrid(x, y)\n",
    "\n",
    "    Ugrid = xgrid**2-ygrid**2\n",
    "    return xgrid, ygrid, Ugrid\n",
    "\n",
    "x, y, U = makeData()\n",
    "\n",
    "fig = pylab.figure()\n",
    "axes = Axes3D(fig)\n",
    "\n",
    "axes.plot_surface(x, y, U)\n",
    "\n",
    "pylab.show()"
   ]
  },
  {
   "cell_type": "markdown",
   "metadata": {
    "id": "EwvYu4viUdyZ"
   },
   "source": [
    "### Пример №4\n",
    "\n",
    "Возьмем теперь пример посложнее\n",
    "\n",
    "### $$U(x,y)=-\\frac{1}{2}x^2+8xy-y^3-13x-12y$$\n",
    "\n",
    "Найдем частные производные, приравняем их к нулю и найдем стационарные точки:\n",
    "\n",
    "### $$\\begin{cases}\n",
    "   U'_{x}=-x+8y-13=0, \\\\\n",
    "   U'_{y}=8x-3y^2-12=0 \n",
    " \\end{cases}$$\n",
    " \n",
    "Выразим из первого уравнения $x$ и подставим во второе:\n",
    "\n",
    "### $$\\begin{cases}\n",
    "   x=8y-13, \\\\\n",
    "   3y^2-64y+116=0 \n",
    " \\end{cases}$$\n",
    " \n",
    " При решении квадратного уравнения получаем два значения $y_{1}=2$ и $y_{2}=\\frac{58}{3}$. При подстановки их в первое уравнение находим две точки: $(3,2)$ и $(\\frac{425}{3},\\frac{58}{3})$\n",
    " \n",
    "Теперь найдем вторые производные и составим матрицу Гёссе в общем виде:\n",
    " \n",
    "###  $$U''_{xx}=-1$$ $$U''_{xy}=U''_{yx}=8$$  $$U''_{yy}=-6y$$\n",
    "\n",
    "Видно, что от переменных зависит только $U''_{yy}$\n",
    "\n",
    "###  $$\\begin{pmatrix}\n",
    "-1 & 8\\\\ \n",
    "8 & -6y\\\\\n",
    "\\end{pmatrix}$$\n",
    "\n",
    "теперь можно вычислить главные миноры \n",
    "\n",
    "### $$\\Delta_{1}=U''_{xx}=-1<0$$\n",
    "\n",
    "### $$\\Delta_{2}=\\begin{vmatrix}\n",
    "U''_{xx} & U''_{xy}\\\\ \n",
    "U''_{yx} & U''_{yy}\\\\\n",
    "\\end{vmatrix}=U''_{xx}\\cdot U''_{yy}-(U''_{xy})^2=(-1) \\cdot (-6y) - 8^2=6y-64$$\n",
    "\n",
    "Осталось проверить знаки миноров для каждой точки. \n",
    "\n",
    "Для точки $(3,2)$\n",
    "\n",
    "### $$\\Delta_{1}=U''_{xx}=-1<0$$\n",
    "\n",
    "### $$\\Delta_{2}=\\begin{vmatrix}\n",
    "U''_{xx} & U''_{xy}\\\\ \n",
    "U''_{yx} & U''_{yy}\\\\\n",
    "\\end{vmatrix}=U''_{xx}\\cdot U''_{yy}-(U''_{xy})^2=(-1) \\cdot (-6y) - 8^2=12-64<0$$\n",
    "\n",
    "Т.е. $(3,2)$ - седловая точка\n",
    "\n",
    "Для точки $(\\frac{425}{3},\\frac{58}{3})$\n",
    "\n",
    "### $$\\Delta_{1}=U''_{xx}=-1<0$$\n",
    "\n",
    "### $$\\Delta_{2}=\\begin{vmatrix}\n",
    "U''_{xx} & U''_{xy}\\\\ \n",
    "U''_{yx} & U''_{yy}\\\\\n",
    "\\end{vmatrix}=U''_{xx}\\cdot U''_{yy}-(U''_{xy})^2=(-1) \\cdot (-6y) - 8^2=116-64>0$$\n",
    "\n",
    "Т.е. $(\\frac{425}{3},\\frac{58}{3})$ - точка максимума\n",
    "\n",
    "\n",
    "#### Замечание 1 для точки $(\\frac{425}{3},\\frac{58}{3})$\n",
    "\n",
    "### $$dU^2=U''_{xx}dx^2+2U''_{xy}dxdy+U''_{yy}dy^2=-dx^2+16dxdy-116dy^2=-dx^2+16dxdy-64dy^2-52dy^2$$\n",
    "\n",
    "### $$dU^2=-(dx-8dy)^2-52dy^2$$\n",
    "\n",
    "При любых, отличных от нуля, $dx$ и $dx$ полный дифференциал второго порядка отрицательный, это так же говорит о точке максимума.\n",
    "\n",
    "#### Замечание 2 для точки $(\\frac{425}{3},\\frac{58}{3})$\n",
    "Найдем собственные значения:"
   ]
  },
  {
   "cell_type": "code",
   "execution_count": null,
   "metadata": {
    "id": "5rqEG7YyUdya",
    "outputId": "4d955e7b-55b6-4373-82da-8f545f85d583"
   },
   "outputs": [],
   "source": [
    "import numpy as np\n",
    "np.set_printoptions(precision=2, suppress=True)\n",
    "\n",
    "a = np.array([[-1, 8], [8, -116]])\n",
    "w, v = np.linalg.eig(a)\n",
    "\n",
    "print(f'Матрица Гёссе:\\n{a}')\n",
    "print(f'Собственные значения:\\n{w}')"
   ]
  },
  {
   "cell_type": "markdown",
   "metadata": {
    "id": "YWuy7pPeUdyb"
   },
   "source": [
    "Все собственные значения отрицательные. За счёт этого идет чередование знаков миноров.\n",
    "\n",
    "Постоим график."
   ]
  },
  {
   "cell_type": "code",
   "execution_count": null,
   "metadata": {
    "id": "4soVu95TUdyc",
    "outputId": "40da87a5-65ec-4ded-fa02-68c419a07bcf"
   },
   "outputs": [],
   "source": [
    "import pylab\n",
    "from mpl_toolkits.mplot3d import Axes3D\n",
    "import numpy\n",
    "\n",
    "def makeData ():\n",
    "    x = numpy.arange (0, 6, 0.1)\n",
    "    y = numpy.arange (-1, 5, 0.1)\n",
    "    xgrid, ygrid = numpy.meshgrid(x, y)\n",
    "\n",
    "    Ugrid = -0.5*xgrid**2+8*x*y-ygrid**3-13*x-12*y\n",
    "    return xgrid, ygrid, Ugrid\n",
    "\n",
    "x, y, U = makeData()\n",
    "\n",
    "fig = pylab.figure()\n",
    "axes = Axes3D(fig)\n",
    "\n",
    "axes.plot_surface(x, y, U)\n",
    "\n",
    "pylab.show()"
   ]
  },
  {
   "cell_type": "code",
   "execution_count": null,
   "metadata": {
    "id": "_g-shzRXUdyd",
    "outputId": "a2233e65-c16f-4582-d3f0-f1fc441d0489"
   },
   "outputs": [],
   "source": [
    "import pylab\n",
    "from mpl_toolkits.mplot3d import Axes3D\n",
    "import numpy\n",
    "\n",
    "def makeData ():\n",
    "    x = numpy.arange (416/3, 434/3, 0.1)\n",
    "    y = numpy.arange (49/3, 67/3, 0.1)\n",
    "    xgrid, ygrid = numpy.meshgrid(x, y)\n",
    "\n",
    "    Ugrid = -0.5*xgrid**2+8*x*y-ygrid**3-13*x-12*y\n",
    "    return xgrid, ygrid, Ugrid\n",
    "\n",
    "x, y, U = makeData()\n",
    "\n",
    "fig = pylab.figure()\n",
    "axes = Axes3D(fig)\n",
    "\n",
    "axes.plot_surface(x, y, U)\n",
    "\n",
    "pylab.show()"
   ]
  },
  {
   "cell_type": "markdown",
   "metadata": {
    "id": "p6y5GxewUdye"
   },
   "source": [
    "### Аппроксимация. Метод наименьших квадратов."
   ]
  },
  {
   "cell_type": "markdown",
   "metadata": {
    "id": "uzy3T1DCUdye"
   },
   "source": [
    "__Аппроксимация - метод состоящий в замене одних объектов другими, в каком-то смысле близкими к исходным, но более простыми.__\n",
    "\n",
    "Например: нелинейные функции линейными, дискретные данные функциями.\n",
    "\n",
    "Требования:\n",
    "\n",
    "- конкретных вид функции.\n",
    "\n",
    "- минимальное отклонение от заданной функции.\n",
    "\n",
    "__Т.е. в отличии от интерполяции не требует точно прохождение через точки, но при этом мы  заранее должны знать вид функции.__\n",
    "\n",
    "В рамках курса математического анализа мы посмотрим 3 способа аппроксимации. \n",
    "\n",
    "На этом уроке разберем метод наименьших квадратов.\n",
    "\n",
    "#### Идея \n",
    "\n",
    "Составить функцию с параметрами. При этом подобрать параметры так, чтобы функция прошла как можно ближе к данным точкам.\n",
    "\n",
    "Этого можно добиться, составив функцию ошибок в виде параболоида ветвями вверх. Смысл в том, что такая функция всегда имеет минимум, поэтому найденную стационарную точку даже не нужно проверять. Отсюда и название метода наименьших квадратов.\n",
    "\n",
    "#### Пример \n",
    "Начнем с простого примера. Аппроксимируем дискретные данные с помощью уравнения прямой $y=kx+b$. Данное уравнение еще называют уравнением прямой регрессии. \n",
    "\n",
    "\n",
    "|$X$:|$x_{1}$|$x_{2}$|$x_{3}$|$x_{4}$|...|$x_{n}$|\n",
    "|------|------|------|------|------|------|------|\n",
    "|$Y$:|$y_{1}$|$y_{2}$|$y_{3}$|$y_{4}$|...|$y_{n}$|\n",
    "\n",
    "\n",
    "Представим уравнение в неявном виде:\n",
    "### $$y-kx-b=0$$\n",
    "\n",
    "Подставим по очереди в это уравнение наш точки, но т.к. точки на прямой не лежат, то в правой части равенства будет явно не $0$. Возьмем правую часть в виде погрешности $\\varepsilon$ для каждой точки:\n",
    "### $$y_{i}-kx_{i}-b=\\varepsilon_{i}$$\n",
    "\n",
    "Составим функцию ошибок, т.к. единственные неизвестные величины это $k$ и $b$, то функция ошибок будет зависеть только от них:\n",
    "### $$U(k,b)=\\varepsilon^2_{1}+\\varepsilon^2_{2}+\\varepsilon^2_{3}+\\varepsilon^2_{4}+...+\\varepsilon^2_{n}$$\n",
    "\n",
    "Осталось только найти частные производные, приравнять их к нулю и решить систему уравнений.\n",
    "### $$\\begin{cases}\n",
    "   U'_{k}=\\sum\\limits_{i=1}^n(-2x_{i}(y_{i}-kx_{i}-b))=0, \\\\\n",
    "   U'_{b}=\\sum\\limits_{i=1}^n(-2(y_{i}-kx_{i}-b))=0 \n",
    " \\end{cases}$$\n",
    " \n",
    " Если решить эту систему, получим следующее:\n",
    " \n",
    "### $$\\begin{cases}\n",
    "   k=\\frac{n\\sum\\limits_{i=1}^n{x_{i}y_{i}}-\\sum\\limits_{i=1}^n{x_{i}}\\sum\\limits_{i=1}^n{y_{i}}}{n\\sum\\limits_{i=1}^n{x^2_{i}}-(\\sum\\limits_{i=1}^n{x_{i}})^2}, \\\\\n",
    "   b=\\frac{\\sum\\limits_{i=1}^n{y_{i}}\\sum\\limits_{i=1}^n{x_{i}^2}-\\sum\\limits_{i=1}^n{x_{i}y_{i}}\\sum\\limits_{i=1}^n{x_{i}}}{n\\sum\\limits_{i=1}^n{x^2_{i}}-(\\sum\\limits_{i=1}^n{x_{i}})^2} \n",
    " \\end{cases}$$ "
   ]
  },
  {
   "cell_type": "code",
   "execution_count": null,
   "metadata": {
    "id": "D7nslwUvUdyf",
    "outputId": "874c1985-ac67-4093-fd7c-fa7ddd2d19d0"
   },
   "outputs": [],
   "source": [
    "from matplotlib import pylab as plt\n",
    "import numpy as np\n",
    "%matplotlib inline\n",
    "\n",
    "plt.figure(figsize=(6,6))\n",
    "plt.axis([0, 600, 0, 600])\n",
    "\n",
    "xi=np.array([120,256,104,346,330,274,300])\n",
    "yi=np.array([26,500,360,475,540,500,400])\n",
    "\n",
    "n=7\n",
    "k=(n*(xi*yi).sum()-xi.sum()*yi.sum())/(n*(xi**2).sum()-(xi.sum())**2)\n",
    "\n",
    "b=(yi.sum()*(xi**2).sum()-(xi*yi).sum()*xi.sum())/(n*(xi**2).sum()-(xi.sum())**2)\n",
    "\n",
    "\n",
    "x = np.linspace(0, 600, 200)\n",
    "y=k*x+b\n",
    "\n",
    "plt.scatter(xi,yi, c='black')\n",
    "plt.plot(x,y, c='r')\n",
    "plt.show()"
   ]
  },
  {
   "cell_type": "markdown",
   "metadata": {
    "id": "ieItrwOHUdyg"
   },
   "source": [
    "Чтобы понять на сколько хорошо прошла аппроксимация, можно вычислить значение коэффициента корреляции например в таком виде\n",
    "### $$r=\\sqrt{\\frac{\\sum\\limits_{i=1}^n(y_{i}-\\overline y)^2-\\sum\\limits_{i=1}^n(y_{i}-y(x_{i}))^2}{\\sum\\limits_{i=1}^n(y_{i}-\\overline y)^2}}$$\n",
    "\n",
    "Данный коэффициент будет принимать значения $r \\in(0, 1)$. При этом оба крайних случая невозможны. Если коэффициент корреляции равен $1$, это означает что все точки лежал на графике функции."
   ]
  },
  {
   "cell_type": "code",
   "execution_count": null,
   "metadata": {
    "id": "4FO5qLr4Udyg",
    "outputId": "c942f810-cb15-4b6f-cee1-119ba0fc4322"
   },
   "outputs": [],
   "source": [
    "y_=y.sum()/n\n",
    "\n",
    "r=np.sqrt((((yi-y_)**2).sum()-((yi-k*xi-b)**2).sum())/((yi-y_)**2).sum())\n",
    "\n",
    "print (r)"
   ]
  },
  {
   "cell_type": "markdown",
   "metadata": {
    "id": "DpgmdrOxUdyi"
   },
   "source": [
    "Конечно, вместо уравнения прямой можно было взять любую другую функцию. Например:\n",
    "\n",
    "$$y=ax^2+bx+c$$\n",
    "\n",
    "$$y=ae^{bx}$$\n",
    "\n",
    "$$y=\\frac{1}{1+e^{-(ax+b)}}$$\n",
    "\n",
    "Для численного решения систем уравнений можно воспользоваться функцией __fsolve__, основанная на методе Ньютона, который мы разберем на следующем уроке."
   ]
  },
  {
   "cell_type": "code",
   "execution_count": null,
   "metadata": {
    "id": "nvFj1syjUdyk",
    "outputId": "f9b41fa6-1a6f-4455-aea0-3003691bf59e",
    "scrolled": true
   },
   "outputs": [],
   "source": [
    "from scipy.optimize import fsolve\n",
    "import math\n",
    "\n",
    "def equations(p):\n",
    "    x, y = p\n",
    "    # Запись системы уравнения вида x+y=2, x-y=0\n",
    "    return (x+y-2, x-y)\n",
    "\n",
    "# Численное решение системы уравнений\n",
    "x, y =  fsolve(equations, (2, 2))\n",
    "print (x, y)"
   ]
  },
  {
   "cell_type": "markdown",
   "metadata": {
    "id": "aU5YNMH9kVqP"
   },
   "source": [
    "## Практическое задание"
   ]
  },
  {
   "cell_type": "markdown",
   "metadata": {
    "id": "SmdURZ_OkVqQ"
   },
   "source": [
    "__1.__ Найти частные производные первого и второго порядка. Убедиться в равенстве смешанных производных.\n",
    "\n",
    "### $$U=x^3+3xy^2+z^2-39x-36y+2z+26$$"
   ]
  },
  {
   "cell_type": "markdown",
   "metadata": {
    "id": "cECfCSANkVqR"
   },
   "source": [
    "__2.__ Найти частные производные первого и второго порядка. Убедиться в равенстве смешанных производных.\n",
    "\n",
    "### $$U=\\frac{256}{x}+\\frac{x^2}{y}+\\frac{y^2}{z}+z^2$$"
   ]
  },
  {
   "cell_type": "markdown",
   "metadata": {
    "id": "DFrjdtbHkVqS"
   },
   "source": [
    "__3.__ Найти производную функции $U=x^2+y^2+z^2$ по направлению вектора $\\overrightarrow{c}(-9,8,-12)$ в точке $M(8,-12,9)$"
   ]
  },
  {
   "cell_type": "markdown",
   "metadata": {
    "id": "5la-eVLukVqT"
   },
   "source": [
    "__4.__ Найти производную функции $U=e^{x^2+y^2+z^2}$ по направлению вектора $\\overrightarrow{c}(4,-13,-16)$ в точке $L(-16,4,-13)$"
   ]
  },
  {
   "cell_type": "markdown",
   "metadata": {
    "id": "kQlell_GkVqU"
   },
   "source": [
    "__5*.__ Найти производную функции $U=\\log_{21}(x^2+y^2+z^2)$ в точке $F(-19,8,-4)$ по самому быстрому направлению."
   ]
  },
  {
   "cell_type": "markdown",
   "metadata": {
    "id": "Z94oG9x0Udyq"
   },
   "source": [
    "__6.__ Исследовать на экстремум функцию:\n",
    "\n",
    "### $$U=x^2y+\\frac{1}{3}y^3+2x^2+3y^2-1$$"
   ]
  },
  {
   "cell_type": "markdown",
   "metadata": {
    "id": "V93OKSPBUdyt"
   },
   "source": [
    "__7*.__ Исследовать на экстремум функцию:\n",
    "\n",
    "### $$U=e^{-\\frac{x}{2}}\\cdot(x^2+y^2)$$"
   ]
  },
  {
   "cell_type": "markdown",
   "metadata": {
    "id": "MQ88pAXgUdyt"
   },
   "source": [
    "__8**.__ С помощью метода наименьших квадратов (МНК) подобрать значения параметров $a$ и $b$ для сигмоидальной функции $$y=\\frac{1}{1+e^{-(ax+b)}}$$ \n",
    "\n",
    "по заданному распределению. Построить график."
   ]
  },
  {
   "cell_type": "code",
   "execution_count": null,
   "metadata": {
    "id": "LqmzJc7ZUdyt",
    "outputId": "b4a06ac1-8ad0-4149-9faa-56b6f3ba1d92"
   },
   "outputs": [],
   "source": [
    "import numpy as np\n",
    "import matplotlib.pyplot as plt\n",
    "\n",
    "# Задаем рандомное распределение точек\n",
    "xi = np.random.uniform(-8, 8, 200)\n",
    "yi = 1/(1+np.exp(-np.random.uniform(0.5, 1.5, 200)*xi-np.random.uniform(-1, 1, 200)))\n",
    "plt.plot(xi,yi, marker=\"o\", ls=\"\")\n",
    "\n",
    "plt.show()"
   ]
  },
  {
   "cell_type": "markdown",
   "metadata": {
    "id": "Iv-T_NZAkVqZ"
   },
   "source": [
    "## Дополнительные материалы"
   ]
  },
  {
   "cell_type": "markdown",
   "metadata": {
    "id": "9o_SiUNxkVqa"
   },
   "source": [
    "1. [fsolve](https://docs.scipy.org/doc/scipy/reference/generated/scipy.optimize.fsolve.html)\n"
   ]
  }
 ],
 "metadata": {
  "colab": {
   "collapsed_sections": [],
   "name": "Lesson_7.ipynb",
   "provenance": []
  },
  "kernelspec": {
   "display_name": "Python 3",
   "language": "python",
   "name": "python3"
  },
  "language_info": {
   "codemirror_mode": {
    "name": "ipython",
    "version": 3
   },
   "file_extension": ".py",
   "mimetype": "text/x-python",
   "name": "python",
   "nbconvert_exporter": "python",
   "pygments_lexer": "ipython3",
   "version": "3.8.3"
  }
 },
 "nbformat": 4,
 "nbformat_minor": 1
}
