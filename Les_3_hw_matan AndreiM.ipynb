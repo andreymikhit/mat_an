{
 "cells": [
  {
   "cell_type": "markdown",
   "metadata": {
    "id": "zz7SDkPIkVlM"
   },
   "source": [
    "# Урок 3. Д/З (17.01.2021)\n",
    "# Матанализ"
   ]
  },
  {
   "cell_type": "markdown",
   "metadata": {},
   "source": [
    "* [Практическое задание. Д/З.](#ex)\n",
    "    * [Задание 1](#ex1)\n",
    "    * [Задание 2](#ex2)\n",
    "    * [Задание 3](#ex3)\n",
    "    * [Задание 4](#ex4)\n",
    "    * [Задание 5](#ex5)\n",
    "* [Теория](#theor)"
   ]
  },
  {
   "cell_type": "markdown",
   "metadata": {},
   "source": [
    "# <center>Практическое задание. Д/З.<a class=\"anchor\" id=\"ex\"></a><center>"
   ]
  },
  {
   "cell_type": "markdown",
   "metadata": {},
   "source": [
    "<a class=\"anchor\" id=\"ex1\"></a>__1.__ Найти предел последовательности:\n",
    "\n",
    "### $$а)\\,\\,\\,\\,\\lim_{n\\to \\infty} \\frac{(23-2n^2)(3n^2+17)^2}{4n^6+n-1}$$"
   ]
  },
  {
   "cell_type": "markdown",
   "metadata": {},
   "source": [
    "### $$\\,\\,\\,\\,\\lim_{n\\to \\infty} \\frac{(23-2n^2)(3n^2+17)^2}{4n^6+n-1}=\\Bigl(\\frac{\\infty}{\\infty}\\Bigr)= \\\\ =\\lim_{n\\to \\infty}\\frac{-18n^6+207n^4-204n^4+2346n^2-578n^2+6647}{4n^6+n-1}= \\\\\n",
    "=\\lim_{n\\to \\infty}\\frac{-18n^6+3n^4+1768n^2+6647}{4n^6+n-1} = \\\\\n",
    "=\\lim_{n\\to \\infty}\\frac{n^6\\Bigl(-18+\\frac{3}{n^2}+\\frac{1768}{n^4}+\\frac{6647}{n^6}\\Bigr)}{n^6\\Bigl(4+\\frac{1}{n^5}-\\frac{1}{n^6}\\Bigr)}= \\\\\n",
    "=\\frac{1 \\cdot \\Bigl(-18+0+0+0\\Bigr)}{1 \\cdot \\Bigl(4+0-0\\Bigr)}\n",
    "= -\\frac{9}{2}$$"
   ]
  },
  {
   "cell_type": "code",
   "execution_count": 1,
   "metadata": {},
   "outputs": [],
   "source": [
    "from sympy import *\n",
    "init_printing()"
   ]
  },
  {
   "cell_type": "code",
   "execution_count": 2,
   "metadata": {},
   "outputs": [
    {
     "data": {
      "image/png": "[encoded data removed]",
      "text/latex": [
       "$\\displaystyle \\frac{\\left(23 - 2 n^{2}\\right) \\left(3 n^{2} + 17\\right)^{2}}{4 n^{6} + n - 1}$"
      ],
      "text/plain": [
       "                       2\n",
       "⎛        2⎞ ⎛   2     ⎞ \n",
       "⎝23 - 2⋅n ⎠⋅⎝3⋅n  + 17⎠ \n",
       "────────────────────────\n",
       "         6              \n",
       "      4⋅n  + n - 1      "
      ]
     },
     "execution_count": 2,
     "metadata": {},
     "output_type": "execute_result"
    }
   ],
   "source": [
    "n=Symbol('n')\n",
    "a=((23-2*n**2)*(3*n**2+17)**2)/(4*n**6 + n - 1)\n",
    "a"
   ]
  },
  {
   "cell_type": "code",
   "execution_count": 3,
   "metadata": {},
   "outputs": [
    {
     "data": {
      "image/png": "[encoded data removed]",
      "text/latex": [
       "$\\displaystyle - \\frac{9}{2}$"
      ],
      "text/plain": [
       "-9/2"
      ]
     },
     "execution_count": 3,
     "metadata": {},
     "output_type": "execute_result"
    }
   ],
   "source": [
    "limit (a,n,oo)"
   ]
  },
  {
   "cell_type": "markdown",
   "metadata": {},
   "source": [
    "### $$б)\\,\\,\\,\\,\\lim_{n\\to \\infty} \\frac{(97-2n)^3}{2n(3n^2+15)+8n}$$"
   ]
  },
  {
   "cell_type": "markdown",
   "metadata": {},
   "source": [
    "### $$\\lim_{n\\to \\infty} \\frac{(97-2n)^3}{2n(3n^2+15)+8n}=\\Bigl(\\frac{\\infty}{\\infty}\\Bigr)= \\\\\n",
    "=\\lim_{n\\to \\infty} \\frac{97^3 + 3 \\cdot 97^2 \\cdot (-2n) + 3 \\cdot 97 \\cdot (-2n)^2 + (-2n)^3}{6n^3 + 30n + 8n}= \\\\ =\\lim_{n\\to \\infty} \\frac{n^3\\Bigl((-2)^3 + \\frac{97^3}{n^3} + \\frac{3 \\cdot 97^2 \\cdot (-2)}{n^2} + \\frac{3 \\cdot 97 \\cdot (-2)^2}{n}\\Bigr)}{n^3\\Bigl(6 + \\frac{38}{n^2}\\Bigr)}= \\\\\n",
    "= \\frac{1 \\cdot \\Bigl((-2)^3 + 0 + 0 + 0 \\Bigr)}{1 \\cdot \\Bigl(6 + 0\\Bigr)}= \\frac{-8}{6} = -\\frac{4}{3}$$"
   ]
  },
  {
   "cell_type": "code",
   "execution_count": 4,
   "metadata": {},
   "outputs": [
    {
     "data": {
      "image/png": "[encoded data removed]",
      "text/latex": [
       "$\\displaystyle \\frac{\\left(97 - 2 n\\right)^{3}}{2 n \\left(3 n^{2} + 15\\right) + 8 n}$"
      ],
      "text/plain": [
       "               3     \n",
       "     (97 - 2⋅n)      \n",
       "─────────────────────\n",
       "    ⎛   2     ⎞      \n",
       "2⋅n⋅⎝3⋅n  + 15⎠ + 8⋅n"
      ]
     },
     "execution_count": 4,
     "metadata": {},
     "output_type": "execute_result"
    }
   ],
   "source": [
    "n=Symbol('n')\n",
    "b=((97-2*n)**3)/(2*n*(3*n**2+15)+8*n)\n",
    "b"
   ]
  },
  {
   "cell_type": "code",
   "execution_count": 5,
   "metadata": {},
   "outputs": [
    {
     "data": {
      "image/png": "[encoded data removed]",
      "text/latex": [
       "$\\displaystyle - \\frac{4}{3}$"
      ],
      "text/plain": [
       "-4/3"
      ]
     },
     "execution_count": 5,
     "metadata": {},
     "output_type": "execute_result"
    }
   ],
   "source": [
    "limit (b,n,oo)"
   ]
  },
  {
   "cell_type": "markdown",
   "metadata": {},
   "source": [
    "### $$в)\\,\\,\\,\\,\\lim_{n\\to \\infty} \\frac{2n^3+13n(n+18)}{(27-n)(2n+19)^2}$$"
   ]
  },
  {
   "cell_type": "markdown",
   "metadata": {},
   "source": [
    "### $$\\lim_{n\\to \\infty} \\frac{2n^3+13n(n+18)}{(27-n)(2n+19)^2} = \\Bigl(\\frac{\\infty}{\\infty}\\Bigr)=\\\\\n",
    "=\\lim_{n\\to \\infty} \\frac{2n^3+13n^2+234n}{27 \\cdot 4n^2 + 27 \\cdot 76n + 27 \\cdot 19^2 -4n^3 -76n^2 - 19^2n}=\\\\\n",
    "=\\lim_{n\\to \\infty} \\frac{n^3\\Bigl(2+\\frac{13}{n}+\\frac{234}{n^2}\\Bigr)}{n^3\\Bigl(-4 + \\frac{27 \\cdot 4 -76}{n} +  \\frac{27 \\cdot 76 - 19^2}{n^2} + \\frac{27 \\cdot 19^2}{n^3}\\Bigr)}=\\\\\n",
    "=\\frac{1 \\cdot \\Bigl(2+0+0\\Bigr)}{1 \\cdot \\Bigl(-4+0+0+0\\Bigr)}=\\frac{2}{-4}=-\\frac{1}{2}$$"
   ]
  },
  {
   "cell_type": "code",
   "execution_count": 6,
   "metadata": {},
   "outputs": [
    {
     "data": {
      "image/png": "[encoded data removed]",
      "text/latex": [
       "$\\displaystyle \\frac{2 n^{3} + 13 n \\left(n + 18\\right)}{\\left(27 - n\\right) \\left(2 n + 19\\right)^{2}}$"
      ],
      "text/plain": [
       "   3                \n",
       "2⋅n  + 13⋅n⋅(n + 18)\n",
       "────────────────────\n",
       "                   2\n",
       "(27 - n)⋅(2⋅n + 19) "
      ]
     },
     "execution_count": 6,
     "metadata": {},
     "output_type": "execute_result"
    }
   ],
   "source": [
    "n=Symbol('n')\n",
    "c=(2*n**3+13*n*(n+18))/((27-n)*(2*n+19)**2)\n",
    "c"
   ]
  },
  {
   "cell_type": "code",
   "execution_count": 7,
   "metadata": {},
   "outputs": [
    {
     "data": {
      "image/png": "[encoded data removed]",
      "text/latex": [
       "$\\displaystyle - \\frac{1}{2}$"
      ],
      "text/plain": [
       "-1/2"
      ]
     },
     "execution_count": 7,
     "metadata": {},
     "output_type": "execute_result"
    }
   ],
   "source": [
    "limit (c,n,oo)"
   ]
  },
  {
   "cell_type": "markdown",
   "metadata": {},
   "source": [
    "### $$г)\\,\\,\\,\\,\\lim_{n\\to \\infty} (\\sqrt{n^2+1}-n)$$"
   ]
  },
  {
   "cell_type": "markdown",
   "metadata": {},
   "source": [
    "### $$\\lim_{n\\to \\infty} (\\sqrt{n^2+1}-n) = (\\infty - \\infty) = \\\\\n",
    "=\\lim_{n\\to \\infty} \\Bigl(\\frac{\\sqrt{n^2+1}+n}{\\sqrt{n^2+1}+n} \\cdot (\\sqrt{n^2+1}-n)\\Bigl)=\\\\\n",
    "=\\lim_{n\\to \\infty} \\Bigl(\\frac{(\\sqrt{n^2+1})^2-n^2}{\\sqrt{n^2+1}+n}\\Bigl)=\\\\\n",
    "=\\lim_{n\\to \\infty} \\Bigl(\\frac{1}{n\\cdot \\Bigl(1+\\frac{\\sqrt{n^2+1}}{n}\\Bigl)}\\Bigl)=\\\\\n",
    "=\\lim_{n\\to \\infty} \\Bigl(\\frac{1}{n\\cdot \\Bigl(1+\\sqrt{1+\\frac{1}{n^2}}\\Bigl)}\\Bigl)=$$\n",
    "\n",
    "### $$сделаем \\, замену: \\,\\,\\,\\, u=\\frac{1}{n}$$\n",
    "\n",
    "### $$следовательно: \\,\\,\\,\\, \\lim_{u\\to 0^+} \\Bigl(\\frac{u}{\\Bigl(1+\\sqrt{1+u^2}\\Bigl)}\\Bigl)=\n",
    "\\Bigl(\\frac{0}{\\Bigl(1+\\sqrt{1+0}\\Bigl)}\\Bigl)=\n",
    "0$$\n",
    "\n",
    "### $$Ответ: \\,\\,\\,\\, \\lim_{n\\to \\infty} (\\sqrt{n^2+1}-n) =0$$"
   ]
  },
  {
   "cell_type": "code",
   "execution_count": 8,
   "metadata": {},
   "outputs": [
    {
     "data": {
      "image/png": "[encoded data removed]",
      "text/latex": [
       "$\\displaystyle - n + \\sqrt{n^{2} + 1}$"
      ],
      "text/plain": [
       "        ________\n",
       "       ╱  2     \n",
       "-n + ╲╱  n  + 1 "
      ]
     },
     "execution_count": 8,
     "metadata": {},
     "output_type": "execute_result"
    }
   ],
   "source": [
    "n=Symbol('n')\n",
    "d=sqrt(n**2+1)-n\n",
    "d"
   ]
  },
  {
   "cell_type": "code",
   "execution_count": 9,
   "metadata": {},
   "outputs": [
    {
     "data": {
      "image/png": "[encoded data removed]",
      "text/latex": [
       "$\\displaystyle 0$"
      ],
      "text/plain": [
       "0"
      ]
     },
     "execution_count": 9,
     "metadata": {},
     "output_type": "execute_result"
    }
   ],
   "source": [
    "limit (d,n,oo)"
   ]
  },
  {
   "cell_type": "markdown",
   "metadata": {},
   "source": [
    "### $$д)\\,\\,\\,\\,\\lim_{n\\to \\infty} \\frac{(-4)^n+5\\cdot7^n}{(-4)^{n-1}+7^{n+2}}$$"
   ]
  },
  {
   "cell_type": "markdown",
   "metadata": {},
   "source": [
    "### $$\\lim_{n\\to \\infty} \\frac{(-4)^n+5\\cdot7^n}{(-4)^{n-1}+7^{n+2}}=\\Bigl(\\frac{\\infty}{\\infty}\\Bigr)=\\\\\n",
    "=\\lim_{n\\to \\infty} \\Bigl( \\frac{ 7^n\\Bigl(\\Bigl(-\\frac{4}{7}\\Bigl)^n + 5 \\Bigl) }{ 7^n\\Bigl( -\\frac{1}{4} \\Bigl(-\\frac{4}{7}\\Bigl)^n + 7^2 \\Bigl) }  \\Bigl)=\\\\\n",
    "=\\lim_{n\\to \\infty} \\Bigl( \\frac{ \\Bigl(-\\frac{4}{7}\\Bigl)^n + 5 }{-\\frac{1}{4} \\Bigl(-\\frac{4}{7}\\Bigl)^n + 7^2  }  \\Bigl)=\\frac{5}{49}\n",
    "$$\n",
    "Основание числителя меньше знаменателя, поэтому $\\lim_{n\\to \\infty} \\Bigl(-\\frac{4}{7}\\Bigl)^n = 0$."
   ]
  },
  {
   "cell_type": "code",
   "execution_count": 10,
   "metadata": {},
   "outputs": [
    {
     "data": {
      "image/png": "[encoded data removed]",
      "text/latex": [
       "$\\displaystyle \\frac{\\left(-0.571428571428571\\right)^{n} + 5}{49 - 0.25 \\left(-0.571428571428571\\right)^{n}}$"
      ],
      "text/plain": [
       "                     n       \n",
       "   -0.571428571428571  + 5   \n",
       "─────────────────────────────\n",
       "                            n\n",
       "49 - 0.25⋅-0.571428571428571 "
      ]
     },
     "execution_count": 10,
     "metadata": {},
     "output_type": "execute_result"
    }
   ],
   "source": [
    "n=Symbol('n')\n",
    "e=((-4/7)**n+5)/((-1/4)*(-4/7)**n+49)\n",
    "e"
   ]
  },
  {
   "cell_type": "code",
   "execution_count": 11,
   "metadata": {},
   "outputs": [
    {
     "ename": "NotImplementedError",
     "evalue": "Result depends on the sign of -sign(-0.559615787935423 + I*pi)",
     "output_type": "error",
     "traceback": [
      "\u001b[0;31m---------------------------------------------------------------------------\u001b[0m",
      "\u001b[0;31mNotImplementedError\u001b[0m                       Traceback (most recent call last)",
      "\u001b[0;32m<ipython-input-11-0e53e2217258>\u001b[0m in \u001b[0;36m<module>\u001b[0;34m\u001b[0m\n\u001b[0;32m----> 1\u001b[0;31m \u001b[0mlimit\u001b[0m \u001b[0;34m(\u001b[0m\u001b[0me\u001b[0m\u001b[0;34m,\u001b[0m\u001b[0mn\u001b[0m\u001b[0;34m,\u001b[0m\u001b[0moo\u001b[0m\u001b[0;34m)\u001b[0m\u001b[0;34m\u001b[0m\u001b[0;34m\u001b[0m\u001b[0m\n\u001b[0m",
      "\u001b[0;32m~/anaconda3/lib/python3.8/site-packages/sympy/series/limits.py\u001b[0m in \u001b[0;36mlimit\u001b[0;34m(e, z, z0, dir)\u001b[0m\n\u001b[1;32m     68\u001b[0m     \"\"\"\n\u001b[1;32m     69\u001b[0m \u001b[0;34m\u001b[0m\u001b[0m\n\u001b[0;32m---> 70\u001b[0;31m     \u001b[0;32mreturn\u001b[0m \u001b[0mLimit\u001b[0m\u001b[0;34m(\u001b[0m\u001b[0me\u001b[0m\u001b[0;34m,\u001b[0m \u001b[0mz\u001b[0m\u001b[0;34m,\u001b[0m \u001b[0mz0\u001b[0m\u001b[0;34m,\u001b[0m \u001b[0mdir\u001b[0m\u001b[0;34m)\u001b[0m\u001b[0;34m.\u001b[0m\u001b[0mdoit\u001b[0m\u001b[0;34m(\u001b[0m\u001b[0mdeep\u001b[0m\u001b[0;34m=\u001b[0m\u001b[0;32mFalse\u001b[0m\u001b[0;34m)\u001b[0m\u001b[0;34m\u001b[0m\u001b[0;34m\u001b[0m\u001b[0m\n\u001b[0m\u001b[1;32m     71\u001b[0m \u001b[0;34m\u001b[0m\u001b[0m\n\u001b[1;32m     72\u001b[0m \u001b[0;34m\u001b[0m\u001b[0m\n",
      "\u001b[0;32m~/anaconda3/lib/python3.8/site-packages/sympy/series/limits.py\u001b[0m in \u001b[0;36mdoit\u001b[0;34m(self, **hints)\u001b[0m\n\u001b[1;32m    236\u001b[0m                         \u001b[0minve\u001b[0m \u001b[0;34m=\u001b[0m \u001b[0me\u001b[0m\u001b[0;34m.\u001b[0m\u001b[0msubs\u001b[0m\u001b[0;34m(\u001b[0m\u001b[0mz\u001b[0m\u001b[0;34m,\u001b[0m \u001b[0;36m1\u001b[0m\u001b[0;34m/\u001b[0m\u001b[0mu\u001b[0m\u001b[0;34m)\u001b[0m\u001b[0;34m\u001b[0m\u001b[0;34m\u001b[0m\u001b[0m\n\u001b[1;32m    237\u001b[0m                     \u001b[0;32mtry\u001b[0m\u001b[0;34m:\u001b[0m\u001b[0;34m\u001b[0m\u001b[0;34m\u001b[0m\u001b[0m\n\u001b[0;32m--> 238\u001b[0;31m                         \u001b[0mr\u001b[0m \u001b[0;34m=\u001b[0m \u001b[0mlimit\u001b[0m\u001b[0;34m(\u001b[0m\u001b[0minve\u001b[0m\u001b[0;34m.\u001b[0m\u001b[0mas_leading_term\u001b[0m\u001b[0;34m(\u001b[0m\u001b[0mu\u001b[0m\u001b[0;34m)\u001b[0m\u001b[0;34m,\u001b[0m \u001b[0mu\u001b[0m\u001b[0;34m,\u001b[0m \u001b[0mS\u001b[0m\u001b[0;34m.\u001b[0m\u001b[0mZero\u001b[0m\u001b[0;34m,\u001b[0m \u001b[0;34m\"+\"\u001b[0m\u001b[0;34m)\u001b[0m\u001b[0;34m\u001b[0m\u001b[0;34m\u001b[0m\u001b[0m\n\u001b[0m\u001b[1;32m    239\u001b[0m                         \u001b[0;32mif\u001b[0m \u001b[0misinstance\u001b[0m\u001b[0;34m(\u001b[0m\u001b[0mr\u001b[0m\u001b[0;34m,\u001b[0m \u001b[0mLimit\u001b[0m\u001b[0;34m)\u001b[0m\u001b[0;34m:\u001b[0m\u001b[0;34m\u001b[0m\u001b[0;34m\u001b[0m\u001b[0m\n\u001b[1;32m    240\u001b[0m                             \u001b[0;32mreturn\u001b[0m \u001b[0mself\u001b[0m\u001b[0;34m\u001b[0m\u001b[0;34m\u001b[0m\u001b[0m\n",
      "\u001b[0;32m~/anaconda3/lib/python3.8/site-packages/sympy/core/expr.py\u001b[0m in \u001b[0;36mas_leading_term\u001b[0;34m(self, *symbols)\u001b[0m\n\u001b[1;32m   3301\u001b[0m         \u001b[0;32mif\u001b[0m \u001b[0mx\u001b[0m \u001b[0;32mnot\u001b[0m \u001b[0;32min\u001b[0m \u001b[0mself\u001b[0m\u001b[0;34m.\u001b[0m\u001b[0mfree_symbols\u001b[0m\u001b[0;34m:\u001b[0m\u001b[0;34m\u001b[0m\u001b[0;34m\u001b[0m\u001b[0m\n\u001b[1;32m   3302\u001b[0m             \u001b[0;32mreturn\u001b[0m \u001b[0mself\u001b[0m\u001b[0;34m\u001b[0m\u001b[0;34m\u001b[0m\u001b[0m\n\u001b[0;32m-> 3303\u001b[0;31m         \u001b[0mobj\u001b[0m \u001b[0;34m=\u001b[0m \u001b[0mself\u001b[0m\u001b[0;34m.\u001b[0m\u001b[0m_eval_as_leading_term\u001b[0m\u001b[0;34m(\u001b[0m\u001b[0mx\u001b[0m\u001b[0;34m)\u001b[0m\u001b[0;34m\u001b[0m\u001b[0;34m\u001b[0m\u001b[0m\n\u001b[0m\u001b[1;32m   3304\u001b[0m         \u001b[0;32mif\u001b[0m \u001b[0mobj\u001b[0m \u001b[0;32mis\u001b[0m \u001b[0;32mnot\u001b[0m \u001b[0;32mNone\u001b[0m\u001b[0;34m:\u001b[0m\u001b[0;34m\u001b[0m\u001b[0;34m\u001b[0m\u001b[0m\n\u001b[1;32m   3305\u001b[0m             \u001b[0;32mreturn\u001b[0m \u001b[0mpowsimp\u001b[0m\u001b[0;34m(\u001b[0m\u001b[0mobj\u001b[0m\u001b[0;34m,\u001b[0m \u001b[0mdeep\u001b[0m\u001b[0;34m=\u001b[0m\u001b[0;32mTrue\u001b[0m\u001b[0;34m,\u001b[0m \u001b[0mcombine\u001b[0m\u001b[0;34m=\u001b[0m\u001b[0;34m'exp'\u001b[0m\u001b[0;34m)\u001b[0m\u001b[0;34m\u001b[0m\u001b[0;34m\u001b[0m\u001b[0m\n",
      "\u001b[0;32m~/anaconda3/lib/python3.8/site-packages/sympy/core/mul.py\u001b[0m in \u001b[0;36m_eval_as_leading_term\u001b[0;34m(self, x)\u001b[0m\n\u001b[1;32m   1762\u001b[0m \u001b[0;34m\u001b[0m\u001b[0m\n\u001b[1;32m   1763\u001b[0m     \u001b[0;32mdef\u001b[0m \u001b[0m_eval_as_leading_term\u001b[0m\u001b[0;34m(\u001b[0m\u001b[0mself\u001b[0m\u001b[0;34m,\u001b[0m \u001b[0mx\u001b[0m\u001b[0;34m)\u001b[0m\u001b[0;34m:\u001b[0m\u001b[0;34m\u001b[0m\u001b[0;34m\u001b[0m\u001b[0m\n\u001b[0;32m-> 1764\u001b[0;31m         \u001b[0;32mreturn\u001b[0m \u001b[0mself\u001b[0m\u001b[0;34m.\u001b[0m\u001b[0mfunc\u001b[0m\u001b[0;34m(\u001b[0m\u001b[0;34m*\u001b[0m\u001b[0;34m[\u001b[0m\u001b[0mt\u001b[0m\u001b[0;34m.\u001b[0m\u001b[0mas_leading_term\u001b[0m\u001b[0;34m(\u001b[0m\u001b[0mx\u001b[0m\u001b[0;34m)\u001b[0m \u001b[0;32mfor\u001b[0m \u001b[0mt\u001b[0m \u001b[0;32min\u001b[0m \u001b[0mself\u001b[0m\u001b[0;34m.\u001b[0m\u001b[0margs\u001b[0m\u001b[0;34m]\u001b[0m\u001b[0;34m)\u001b[0m\u001b[0;34m\u001b[0m\u001b[0;34m\u001b[0m\u001b[0m\n\u001b[0m\u001b[1;32m   1765\u001b[0m \u001b[0;34m\u001b[0m\u001b[0m\n\u001b[1;32m   1766\u001b[0m     \u001b[0;32mdef\u001b[0m \u001b[0m_eval_conjugate\u001b[0m\u001b[0;34m(\u001b[0m\u001b[0mself\u001b[0m\u001b[0;34m)\u001b[0m\u001b[0;34m:\u001b[0m\u001b[0;34m\u001b[0m\u001b[0;34m\u001b[0m\u001b[0m\n",
      "\u001b[0;32m~/anaconda3/lib/python3.8/site-packages/sympy/core/mul.py\u001b[0m in \u001b[0;36m<listcomp>\u001b[0;34m(.0)\u001b[0m\n\u001b[1;32m   1762\u001b[0m \u001b[0;34m\u001b[0m\u001b[0m\n\u001b[1;32m   1763\u001b[0m     \u001b[0;32mdef\u001b[0m \u001b[0m_eval_as_leading_term\u001b[0m\u001b[0;34m(\u001b[0m\u001b[0mself\u001b[0m\u001b[0;34m,\u001b[0m \u001b[0mx\u001b[0m\u001b[0;34m)\u001b[0m\u001b[0;34m:\u001b[0m\u001b[0;34m\u001b[0m\u001b[0;34m\u001b[0m\u001b[0m\n\u001b[0;32m-> 1764\u001b[0;31m         \u001b[0;32mreturn\u001b[0m \u001b[0mself\u001b[0m\u001b[0;34m.\u001b[0m\u001b[0mfunc\u001b[0m\u001b[0;34m(\u001b[0m\u001b[0;34m*\u001b[0m\u001b[0;34m[\u001b[0m\u001b[0mt\u001b[0m\u001b[0;34m.\u001b[0m\u001b[0mas_leading_term\u001b[0m\u001b[0;34m(\u001b[0m\u001b[0mx\u001b[0m\u001b[0;34m)\u001b[0m \u001b[0;32mfor\u001b[0m \u001b[0mt\u001b[0m \u001b[0;32min\u001b[0m \u001b[0mself\u001b[0m\u001b[0;34m.\u001b[0m\u001b[0margs\u001b[0m\u001b[0;34m]\u001b[0m\u001b[0;34m)\u001b[0m\u001b[0;34m\u001b[0m\u001b[0;34m\u001b[0m\u001b[0m\n\u001b[0m\u001b[1;32m   1765\u001b[0m \u001b[0;34m\u001b[0m\u001b[0m\n\u001b[1;32m   1766\u001b[0m     \u001b[0;32mdef\u001b[0m \u001b[0m_eval_conjugate\u001b[0m\u001b[0;34m(\u001b[0m\u001b[0mself\u001b[0m\u001b[0;34m)\u001b[0m\u001b[0;34m:\u001b[0m\u001b[0;34m\u001b[0m\u001b[0;34m\u001b[0m\u001b[0m\n",
      "\u001b[0;32m~/anaconda3/lib/python3.8/site-packages/sympy/core/expr.py\u001b[0m in \u001b[0;36mas_leading_term\u001b[0;34m(self, *symbols)\u001b[0m\n\u001b[1;32m   3301\u001b[0m         \u001b[0;32mif\u001b[0m \u001b[0mx\u001b[0m \u001b[0;32mnot\u001b[0m \u001b[0;32min\u001b[0m \u001b[0mself\u001b[0m\u001b[0;34m.\u001b[0m\u001b[0mfree_symbols\u001b[0m\u001b[0;34m:\u001b[0m\u001b[0;34m\u001b[0m\u001b[0;34m\u001b[0m\u001b[0m\n\u001b[1;32m   3302\u001b[0m             \u001b[0;32mreturn\u001b[0m \u001b[0mself\u001b[0m\u001b[0;34m\u001b[0m\u001b[0;34m\u001b[0m\u001b[0m\n\u001b[0;32m-> 3303\u001b[0;31m         \u001b[0mobj\u001b[0m \u001b[0;34m=\u001b[0m \u001b[0mself\u001b[0m\u001b[0;34m.\u001b[0m\u001b[0m_eval_as_leading_term\u001b[0m\u001b[0;34m(\u001b[0m\u001b[0mx\u001b[0m\u001b[0;34m)\u001b[0m\u001b[0;34m\u001b[0m\u001b[0;34m\u001b[0m\u001b[0m\n\u001b[0m\u001b[1;32m   3304\u001b[0m         \u001b[0;32mif\u001b[0m \u001b[0mobj\u001b[0m \u001b[0;32mis\u001b[0m \u001b[0;32mnot\u001b[0m \u001b[0;32mNone\u001b[0m\u001b[0;34m:\u001b[0m\u001b[0;34m\u001b[0m\u001b[0;34m\u001b[0m\u001b[0m\n\u001b[1;32m   3305\u001b[0m             \u001b[0;32mreturn\u001b[0m \u001b[0mpowsimp\u001b[0m\u001b[0;34m(\u001b[0m\u001b[0mobj\u001b[0m\u001b[0;34m,\u001b[0m \u001b[0mdeep\u001b[0m\u001b[0;34m=\u001b[0m\u001b[0;32mTrue\u001b[0m\u001b[0;34m,\u001b[0m \u001b[0mcombine\u001b[0m\u001b[0;34m=\u001b[0m\u001b[0;34m'exp'\u001b[0m\u001b[0;34m)\u001b[0m\u001b[0;34m\u001b[0m\u001b[0;34m\u001b[0m\u001b[0m\n",
      "\u001b[0;32m~/anaconda3/lib/python3.8/site-packages/sympy/core/power.py\u001b[0m in \u001b[0;36m_eval_as_leading_term\u001b[0;34m(self, x)\u001b[0m\n\u001b[1;32m   1665\u001b[0m         \u001b[0;32mfrom\u001b[0m \u001b[0msympy\u001b[0m \u001b[0;32mimport\u001b[0m \u001b[0mexp\u001b[0m\u001b[0;34m,\u001b[0m \u001b[0mlog\u001b[0m\u001b[0;34m\u001b[0m\u001b[0;34m\u001b[0m\u001b[0m\n\u001b[1;32m   1666\u001b[0m         \u001b[0;32mif\u001b[0m \u001b[0;32mnot\u001b[0m \u001b[0mself\u001b[0m\u001b[0;34m.\u001b[0m\u001b[0mexp\u001b[0m\u001b[0;34m.\u001b[0m\u001b[0mhas\u001b[0m\u001b[0;34m(\u001b[0m\u001b[0mx\u001b[0m\u001b[0;34m)\u001b[0m\u001b[0;34m:\u001b[0m\u001b[0;34m\u001b[0m\u001b[0;34m\u001b[0m\u001b[0m\n\u001b[0;32m-> 1667\u001b[0;31m             \u001b[0;32mreturn\u001b[0m \u001b[0mself\u001b[0m\u001b[0;34m.\u001b[0m\u001b[0mfunc\u001b[0m\u001b[0;34m(\u001b[0m\u001b[0mself\u001b[0m\u001b[0;34m.\u001b[0m\u001b[0mbase\u001b[0m\u001b[0;34m.\u001b[0m\u001b[0mas_leading_term\u001b[0m\u001b[0;34m(\u001b[0m\u001b[0mx\u001b[0m\u001b[0;34m)\u001b[0m\u001b[0;34m,\u001b[0m \u001b[0mself\u001b[0m\u001b[0;34m.\u001b[0m\u001b[0mexp\u001b[0m\u001b[0;34m)\u001b[0m\u001b[0;34m\u001b[0m\u001b[0;34m\u001b[0m\u001b[0m\n\u001b[0m\u001b[1;32m   1668\u001b[0m         \u001b[0;32mreturn\u001b[0m \u001b[0mexp\u001b[0m\u001b[0;34m(\u001b[0m\u001b[0mself\u001b[0m\u001b[0;34m.\u001b[0m\u001b[0mexp\u001b[0m \u001b[0;34m*\u001b[0m \u001b[0mlog\u001b[0m\u001b[0;34m(\u001b[0m\u001b[0mself\u001b[0m\u001b[0;34m.\u001b[0m\u001b[0mbase\u001b[0m\u001b[0;34m)\u001b[0m\u001b[0;34m)\u001b[0m\u001b[0;34m.\u001b[0m\u001b[0mas_leading_term\u001b[0m\u001b[0;34m(\u001b[0m\u001b[0mx\u001b[0m\u001b[0;34m)\u001b[0m\u001b[0;34m\u001b[0m\u001b[0;34m\u001b[0m\u001b[0m\n\u001b[1;32m   1669\u001b[0m \u001b[0;34m\u001b[0m\u001b[0m\n",
      "\u001b[0;32m~/anaconda3/lib/python3.8/site-packages/sympy/core/expr.py\u001b[0m in \u001b[0;36mas_leading_term\u001b[0;34m(self, *symbols)\u001b[0m\n\u001b[1;32m   3301\u001b[0m         \u001b[0;32mif\u001b[0m \u001b[0mx\u001b[0m \u001b[0;32mnot\u001b[0m \u001b[0;32min\u001b[0m \u001b[0mself\u001b[0m\u001b[0;34m.\u001b[0m\u001b[0mfree_symbols\u001b[0m\u001b[0;34m:\u001b[0m\u001b[0;34m\u001b[0m\u001b[0;34m\u001b[0m\u001b[0m\n\u001b[1;32m   3302\u001b[0m             \u001b[0;32mreturn\u001b[0m \u001b[0mself\u001b[0m\u001b[0;34m\u001b[0m\u001b[0;34m\u001b[0m\u001b[0m\n\u001b[0;32m-> 3303\u001b[0;31m         \u001b[0mobj\u001b[0m \u001b[0;34m=\u001b[0m \u001b[0mself\u001b[0m\u001b[0;34m.\u001b[0m\u001b[0m_eval_as_leading_term\u001b[0m\u001b[0;34m(\u001b[0m\u001b[0mx\u001b[0m\u001b[0;34m)\u001b[0m\u001b[0;34m\u001b[0m\u001b[0;34m\u001b[0m\u001b[0m\n\u001b[0m\u001b[1;32m   3304\u001b[0m         \u001b[0;32mif\u001b[0m \u001b[0mobj\u001b[0m \u001b[0;32mis\u001b[0m \u001b[0;32mnot\u001b[0m \u001b[0;32mNone\u001b[0m\u001b[0;34m:\u001b[0m\u001b[0;34m\u001b[0m\u001b[0;34m\u001b[0m\u001b[0m\n\u001b[1;32m   3305\u001b[0m             \u001b[0;32mreturn\u001b[0m \u001b[0mpowsimp\u001b[0m\u001b[0;34m(\u001b[0m\u001b[0mobj\u001b[0m\u001b[0;34m,\u001b[0m \u001b[0mdeep\u001b[0m\u001b[0;34m=\u001b[0m\u001b[0;32mTrue\u001b[0m\u001b[0;34m,\u001b[0m \u001b[0mcombine\u001b[0m\u001b[0;34m=\u001b[0m\u001b[0;34m'exp'\u001b[0m\u001b[0;34m)\u001b[0m\u001b[0;34m\u001b[0m\u001b[0;34m\u001b[0m\u001b[0m\n",
      "\u001b[0;32m~/anaconda3/lib/python3.8/site-packages/sympy/core/add.py\u001b[0m in \u001b[0;36m_eval_as_leading_term\u001b[0;34m(self, x)\u001b[0m\n\u001b[1;32m    895\u001b[0m             \u001b[0;32mfor\u001b[0m \u001b[0mterm\u001b[0m \u001b[0;32min\u001b[0m \u001b[0mleading_terms\u001b[0m\u001b[0;34m:\u001b[0m\u001b[0;34m\u001b[0m\u001b[0;34m\u001b[0m\u001b[0m\n\u001b[1;32m    896\u001b[0m                 \u001b[0morder\u001b[0m \u001b[0;34m=\u001b[0m \u001b[0mOrder\u001b[0m\u001b[0;34m(\u001b[0m\u001b[0mterm\u001b[0m\u001b[0;34m,\u001b[0m \u001b[0mx\u001b[0m\u001b[0;34m)\u001b[0m\u001b[0;34m\u001b[0m\u001b[0;34m\u001b[0m\u001b[0m\n\u001b[0;32m--> 897\u001b[0;31m                 \u001b[0;32mif\u001b[0m \u001b[0;32mnot\u001b[0m \u001b[0mmin\u001b[0m \u001b[0;32mor\u001b[0m \u001b[0morder\u001b[0m \u001b[0;32mnot\u001b[0m \u001b[0;32min\u001b[0m \u001b[0mmin\u001b[0m\u001b[0;34m:\u001b[0m\u001b[0;34m\u001b[0m\u001b[0;34m\u001b[0m\u001b[0m\n\u001b[0m\u001b[1;32m    898\u001b[0m                     \u001b[0mmin\u001b[0m \u001b[0;34m=\u001b[0m \u001b[0morder\u001b[0m\u001b[0;34m\u001b[0m\u001b[0;34m\u001b[0m\u001b[0m\n\u001b[1;32m    899\u001b[0m                     \u001b[0mnew_expr\u001b[0m \u001b[0;34m=\u001b[0m \u001b[0mterm\u001b[0m\u001b[0;34m\u001b[0m\u001b[0;34m\u001b[0m\u001b[0m\n",
      "\u001b[0;32m~/anaconda3/lib/python3.8/site-packages/sympy/series/order.py\u001b[0m in \u001b[0;36m__contains__\u001b[0;34m(self, other)\u001b[0m\n\u001b[1;32m    409\u001b[0m \u001b[0;34m\u001b[0m\u001b[0m\n\u001b[1;32m    410\u001b[0m     \u001b[0;32mdef\u001b[0m \u001b[0m__contains__\u001b[0m\u001b[0;34m(\u001b[0m\u001b[0mself\u001b[0m\u001b[0;34m,\u001b[0m \u001b[0mother\u001b[0m\u001b[0;34m)\u001b[0m\u001b[0;34m:\u001b[0m\u001b[0;34m\u001b[0m\u001b[0;34m\u001b[0m\u001b[0m\n\u001b[0;32m--> 411\u001b[0;31m         \u001b[0mresult\u001b[0m \u001b[0;34m=\u001b[0m \u001b[0mself\u001b[0m\u001b[0;34m.\u001b[0m\u001b[0mcontains\u001b[0m\u001b[0;34m(\u001b[0m\u001b[0mother\u001b[0m\u001b[0;34m)\u001b[0m\u001b[0;34m\u001b[0m\u001b[0;34m\u001b[0m\u001b[0m\n\u001b[0m\u001b[1;32m    412\u001b[0m         \u001b[0;32mif\u001b[0m \u001b[0mresult\u001b[0m \u001b[0;32mis\u001b[0m \u001b[0;32mNone\u001b[0m\u001b[0;34m:\u001b[0m\u001b[0;34m\u001b[0m\u001b[0;34m\u001b[0m\u001b[0m\n\u001b[1;32m    413\u001b[0m             \u001b[0;32mraise\u001b[0m \u001b[0mTypeError\u001b[0m\u001b[0;34m(\u001b[0m\u001b[0;34m'contains did not evaluate to a bool'\u001b[0m\u001b[0;34m)\u001b[0m\u001b[0;34m\u001b[0m\u001b[0;34m\u001b[0m\u001b[0m\n",
      "\u001b[0;32m~/anaconda3/lib/python3.8/site-packages/sympy/series/order.py\u001b[0m in \u001b[0;36mcontains\u001b[0;34m(self, expr)\u001b[0m\n\u001b[1;32m    381\u001b[0m             \u001b[0;32mfor\u001b[0m \u001b[0ms\u001b[0m \u001b[0;32min\u001b[0m \u001b[0mcommon_symbols\u001b[0m\u001b[0;34m:\u001b[0m\u001b[0;34m\u001b[0m\u001b[0;34m\u001b[0m\u001b[0m\n\u001b[1;32m    382\u001b[0m                 \u001b[0;32mfrom\u001b[0m \u001b[0msympy\u001b[0m\u001b[0;34m.\u001b[0m\u001b[0mseries\u001b[0m\u001b[0;34m.\u001b[0m\u001b[0mlimits\u001b[0m \u001b[0;32mimport\u001b[0m \u001b[0mLimit\u001b[0m\u001b[0;34m\u001b[0m\u001b[0;34m\u001b[0m\u001b[0m\n\u001b[0;32m--> 383\u001b[0;31m                 \u001b[0ml\u001b[0m \u001b[0;34m=\u001b[0m \u001b[0mLimit\u001b[0m\u001b[0;34m(\u001b[0m\u001b[0mratio\u001b[0m\u001b[0;34m,\u001b[0m \u001b[0ms\u001b[0m\u001b[0;34m,\u001b[0m \u001b[0mpoint\u001b[0m\u001b[0;34m)\u001b[0m\u001b[0;34m.\u001b[0m\u001b[0mdoit\u001b[0m\u001b[0;34m(\u001b[0m\u001b[0mheuristics\u001b[0m\u001b[0;34m=\u001b[0m\u001b[0;32mFalse\u001b[0m\u001b[0;34m)\u001b[0m\u001b[0;34m\u001b[0m\u001b[0;34m\u001b[0m\u001b[0m\n\u001b[0m\u001b[1;32m    384\u001b[0m                 \u001b[0;32mif\u001b[0m \u001b[0;32mnot\u001b[0m \u001b[0misinstance\u001b[0m\u001b[0;34m(\u001b[0m\u001b[0ml\u001b[0m\u001b[0;34m,\u001b[0m \u001b[0mLimit\u001b[0m\u001b[0;34m)\u001b[0m\u001b[0;34m:\u001b[0m\u001b[0;34m\u001b[0m\u001b[0;34m\u001b[0m\u001b[0m\n\u001b[1;32m    385\u001b[0m                     \u001b[0ml\u001b[0m \u001b[0;34m=\u001b[0m \u001b[0ml\u001b[0m \u001b[0;34m!=\u001b[0m \u001b[0;36m0\u001b[0m\u001b[0;34m\u001b[0m\u001b[0;34m\u001b[0m\u001b[0m\n",
      "\u001b[0;32m~/anaconda3/lib/python3.8/site-packages/sympy/series/limits.py\u001b[0m in \u001b[0;36mdoit\u001b[0;34m(self, **hints)\u001b[0m\n\u001b[1;32m    258\u001b[0m                             % (l, r))\n\u001b[1;32m    259\u001b[0m             \u001b[0;32melse\u001b[0m\u001b[0;34m:\u001b[0m\u001b[0;34m\u001b[0m\u001b[0;34m\u001b[0m\u001b[0m\n\u001b[0;32m--> 260\u001b[0;31m                 \u001b[0mr\u001b[0m \u001b[0;34m=\u001b[0m \u001b[0mgruntz\u001b[0m\u001b[0;34m(\u001b[0m\u001b[0me\u001b[0m\u001b[0;34m,\u001b[0m \u001b[0mz\u001b[0m\u001b[0;34m,\u001b[0m \u001b[0mz0\u001b[0m\u001b[0;34m,\u001b[0m \u001b[0mdir\u001b[0m\u001b[0;34m)\u001b[0m\u001b[0;34m\u001b[0m\u001b[0;34m\u001b[0m\u001b[0m\n\u001b[0m\u001b[1;32m    261\u001b[0m             \u001b[0;32mif\u001b[0m \u001b[0mr\u001b[0m \u001b[0;32mis\u001b[0m \u001b[0mS\u001b[0m\u001b[0;34m.\u001b[0m\u001b[0mNaN\u001b[0m \u001b[0;32mor\u001b[0m \u001b[0ml\u001b[0m \u001b[0;32mis\u001b[0m \u001b[0mS\u001b[0m\u001b[0;34m.\u001b[0m\u001b[0mNaN\u001b[0m\u001b[0;34m:\u001b[0m\u001b[0;34m\u001b[0m\u001b[0;34m\u001b[0m\u001b[0m\n\u001b[1;32m    262\u001b[0m                 \u001b[0;32mraise\u001b[0m \u001b[0mPoleError\u001b[0m\u001b[0;34m(\u001b[0m\u001b[0;34m)\u001b[0m\u001b[0;34m\u001b[0m\u001b[0;34m\u001b[0m\u001b[0m\n",
      "\u001b[0;32m~/anaconda3/lib/python3.8/site-packages/sympy/series/gruntz.py\u001b[0m in \u001b[0;36mgruntz\u001b[0;34m(e, z, z0, dir)\u001b[0m\n\u001b[1;32m    667\u001b[0m \u001b[0;34m\u001b[0m\u001b[0m\n\u001b[1;32m    668\u001b[0m     \u001b[0;32mtry\u001b[0m\u001b[0;34m:\u001b[0m\u001b[0;34m\u001b[0m\u001b[0;34m\u001b[0m\u001b[0m\n\u001b[0;32m--> 669\u001b[0;31m         \u001b[0mr\u001b[0m \u001b[0;34m=\u001b[0m \u001b[0mlimitinf\u001b[0m\u001b[0;34m(\u001b[0m\u001b[0me0\u001b[0m\u001b[0;34m,\u001b[0m \u001b[0mz\u001b[0m\u001b[0;34m)\u001b[0m\u001b[0;34m\u001b[0m\u001b[0;34m\u001b[0m\u001b[0m\n\u001b[0m\u001b[1;32m    670\u001b[0m     \u001b[0;32mexcept\u001b[0m \u001b[0mValueError\u001b[0m\u001b[0;34m:\u001b[0m\u001b[0;34m\u001b[0m\u001b[0;34m\u001b[0m\u001b[0m\n\u001b[1;32m    671\u001b[0m         \u001b[0mr\u001b[0m \u001b[0;34m=\u001b[0m \u001b[0mlimitinf\u001b[0m\u001b[0;34m(\u001b[0m\u001b[0me0\u001b[0m\u001b[0;34m,\u001b[0m \u001b[0mz\u001b[0m\u001b[0;34m,\u001b[0m \u001b[0mleadsimp\u001b[0m\u001b[0;34m=\u001b[0m\u001b[0;32mTrue\u001b[0m\u001b[0;34m)\u001b[0m\u001b[0;34m\u001b[0m\u001b[0;34m\u001b[0m\u001b[0m\n",
      "\u001b[0;32m~/anaconda3/lib/python3.8/site-packages/sympy/series/gruntz.py\u001b[0m in \u001b[0;36mlimitinf\u001b[0;34m(e, x, leadsimp)\u001b[0m\n\u001b[1;32m    431\u001b[0m         \u001b[0mx\u001b[0m \u001b[0;34m=\u001b[0m \u001b[0mp\u001b[0m\u001b[0;34m\u001b[0m\u001b[0;34m\u001b[0m\u001b[0m\n\u001b[1;32m    432\u001b[0m     \u001b[0me\u001b[0m \u001b[0;34m=\u001b[0m \u001b[0mpowdenest\u001b[0m\u001b[0;34m(\u001b[0m\u001b[0me\u001b[0m\u001b[0;34m)\u001b[0m\u001b[0;34m\u001b[0m\u001b[0;34m\u001b[0m\u001b[0m\n\u001b[0;32m--> 433\u001b[0;31m     \u001b[0mc0\u001b[0m\u001b[0;34m,\u001b[0m \u001b[0me0\u001b[0m \u001b[0;34m=\u001b[0m \u001b[0mmrv_leadterm\u001b[0m\u001b[0;34m(\u001b[0m\u001b[0me\u001b[0m\u001b[0;34m,\u001b[0m \u001b[0mx\u001b[0m\u001b[0;34m)\u001b[0m\u001b[0;34m\u001b[0m\u001b[0;34m\u001b[0m\u001b[0m\n\u001b[0m\u001b[1;32m    434\u001b[0m     \u001b[0msig\u001b[0m \u001b[0;34m=\u001b[0m \u001b[0msign\u001b[0m\u001b[0;34m(\u001b[0m\u001b[0me0\u001b[0m\u001b[0;34m,\u001b[0m \u001b[0mx\u001b[0m\u001b[0;34m)\u001b[0m\u001b[0;34m\u001b[0m\u001b[0;34m\u001b[0m\u001b[0m\n\u001b[1;32m    435\u001b[0m     \u001b[0;32mif\u001b[0m \u001b[0msig\u001b[0m \u001b[0;34m==\u001b[0m \u001b[0;36m1\u001b[0m\u001b[0;34m:\u001b[0m\u001b[0;34m\u001b[0m\u001b[0;34m\u001b[0m\u001b[0m\n",
      "\u001b[0;32m~/anaconda3/lib/python3.8/site-packages/sympy/series/gruntz.py\u001b[0m in \u001b[0;36mmrv_leadterm\u001b[0;34m(e, x)\u001b[0m\n\u001b[1;32m    519\u001b[0m     \u001b[0;31m#\u001b[0m\u001b[0;34m\u001b[0m\u001b[0;34m\u001b[0m\u001b[0;34m\u001b[0m\u001b[0m\n\u001b[1;32m    520\u001b[0m     \u001b[0mw\u001b[0m \u001b[0;34m=\u001b[0m \u001b[0mDummy\u001b[0m\u001b[0;34m(\u001b[0m\u001b[0;34m\"w\"\u001b[0m\u001b[0;34m,\u001b[0m \u001b[0mreal\u001b[0m\u001b[0;34m=\u001b[0m\u001b[0;32mTrue\u001b[0m\u001b[0;34m,\u001b[0m \u001b[0mpositive\u001b[0m\u001b[0;34m=\u001b[0m\u001b[0;32mTrue\u001b[0m\u001b[0;34m,\u001b[0m \u001b[0mfinite\u001b[0m\u001b[0;34m=\u001b[0m\u001b[0;32mTrue\u001b[0m\u001b[0;34m)\u001b[0m\u001b[0;34m\u001b[0m\u001b[0;34m\u001b[0m\u001b[0m\n\u001b[0;32m--> 521\u001b[0;31m     \u001b[0mf\u001b[0m\u001b[0;34m,\u001b[0m \u001b[0mlogw\u001b[0m \u001b[0;34m=\u001b[0m \u001b[0mrewrite\u001b[0m\u001b[0;34m(\u001b[0m\u001b[0mexps\u001b[0m\u001b[0;34m,\u001b[0m \u001b[0mOmega\u001b[0m\u001b[0;34m,\u001b[0m \u001b[0mx\u001b[0m\u001b[0;34m,\u001b[0m \u001b[0mw\u001b[0m\u001b[0;34m)\u001b[0m\u001b[0;34m\u001b[0m\u001b[0;34m\u001b[0m\u001b[0m\n\u001b[0m\u001b[1;32m    522\u001b[0m     \u001b[0mseries\u001b[0m \u001b[0;34m=\u001b[0m \u001b[0mcalculate_series\u001b[0m\u001b[0;34m(\u001b[0m\u001b[0mf\u001b[0m\u001b[0;34m,\u001b[0m \u001b[0mw\u001b[0m\u001b[0;34m,\u001b[0m \u001b[0mlogx\u001b[0m\u001b[0;34m=\u001b[0m\u001b[0mlogw\u001b[0m\u001b[0;34m)\u001b[0m\u001b[0;34m\u001b[0m\u001b[0;34m\u001b[0m\u001b[0m\n\u001b[1;32m    523\u001b[0m     \u001b[0;32mreturn\u001b[0m \u001b[0mseries\u001b[0m\u001b[0;34m.\u001b[0m\u001b[0mleadterm\u001b[0m\u001b[0;34m(\u001b[0m\u001b[0mw\u001b[0m\u001b[0;34m)\u001b[0m\u001b[0;34m\u001b[0m\u001b[0;34m\u001b[0m\u001b[0m\n",
      "\u001b[0;32m~/anaconda3/lib/python3.8/site-packages/sympy/series/gruntz.py\u001b[0m in \u001b[0;36mrewrite\u001b[0;34m(e, Omega, x, wsym)\u001b[0m\n\u001b[1;32m    591\u001b[0m         \u001b[0msig\u001b[0m \u001b[0;34m=\u001b[0m \u001b[0msign\u001b[0m\u001b[0;34m(\u001b[0m\u001b[0mg\u001b[0m\u001b[0;34m.\u001b[0m\u001b[0margs\u001b[0m\u001b[0;34m[\u001b[0m\u001b[0;36m0\u001b[0m\u001b[0;34m]\u001b[0m\u001b[0;34m,\u001b[0m \u001b[0mx\u001b[0m\u001b[0;34m)\u001b[0m\u001b[0;34m\u001b[0m\u001b[0;34m\u001b[0m\u001b[0m\n\u001b[1;32m    592\u001b[0m         \u001b[0;32mif\u001b[0m \u001b[0msig\u001b[0m \u001b[0;34m!=\u001b[0m \u001b[0;36m1\u001b[0m \u001b[0;32mand\u001b[0m \u001b[0msig\u001b[0m \u001b[0;34m!=\u001b[0m \u001b[0;34m-\u001b[0m\u001b[0;36m1\u001b[0m\u001b[0;34m:\u001b[0m\u001b[0;34m\u001b[0m\u001b[0;34m\u001b[0m\u001b[0m\n\u001b[0;32m--> 593\u001b[0;31m             \u001b[0;32mraise\u001b[0m \u001b[0mNotImplementedError\u001b[0m\u001b[0;34m(\u001b[0m\u001b[0;34m'Result depends on the sign of %s'\u001b[0m \u001b[0;34m%\u001b[0m \u001b[0msig\u001b[0m\u001b[0;34m)\u001b[0m\u001b[0;34m\u001b[0m\u001b[0;34m\u001b[0m\u001b[0m\n\u001b[0m\u001b[1;32m    594\u001b[0m     \u001b[0;32mif\u001b[0m \u001b[0msig\u001b[0m \u001b[0;34m==\u001b[0m \u001b[0;36m1\u001b[0m\u001b[0;34m:\u001b[0m\u001b[0;34m\u001b[0m\u001b[0;34m\u001b[0m\u001b[0m\n\u001b[1;32m    595\u001b[0m         \u001b[0mwsym\u001b[0m \u001b[0;34m=\u001b[0m \u001b[0;36m1\u001b[0m\u001b[0;34m/\u001b[0m\u001b[0mwsym\u001b[0m  \u001b[0;31m# if g goes to oo, substitute 1/w\u001b[0m\u001b[0;34m\u001b[0m\u001b[0;34m\u001b[0m\u001b[0m\n",
      "\u001b[0;31mNotImplementedError\u001b[0m: Result depends on the sign of -sign(-0.559615787935423 + I*pi)"
     ]
    }
   ],
   "source": [
    "limit (e,n,oo)"
   ]
  },
  {
   "cell_type": "markdown",
   "metadata": {},
   "source": [
    "### $$e)^*\\,\\,\\,\\,\\lim_{n\\to \\infty} \\Bigl(\\frac{1}{1\\cdot2}+\\frac{1}{2\\cdot3}+\\frac{1}{3\\cdot4}+...+\\frac{1}{(n-1)\\cdot n}\\Bigr)$$"
   ]
  },
  {
   "cell_type": "markdown",
   "metadata": {},
   "source": [
    "### $$\\lim_{n\\to \\infty}\\Bigl(\\sum_{n=2}^{\\infty}\\frac{1}{(n-1)\\cdot n}\\Bigl) = \\Bigl(\\frac{1}{\\infty}\\Bigl) =\\\\ =\\frac{1}{n^2...} \\overset{!}{=} 0 ...$$\n",
    "\n",
    "### $$S_n = \\frac{1}{1\\cdot2}+\\frac{1}{2\\cdot3}+\\frac{1}{3\\cdot4}+...+\\frac{1}{(n-1)\\cdot n} =\\\\\n",
    "= \\frac{1}{1\\cdot2}+\\frac{1}{2\\cdot3}+\\frac{1}{3\\cdot4}+...+\\Bigl(\\frac{1}{n-1}-\\frac{1}{n}\\Bigl) =\\\\\n",
    "= \\Bigl(1-\\frac{1}{2}\\Bigl)+\\Bigl(\\frac{1}{2}-\\frac{1}{3}\\Bigl)+\\Bigl(\\frac{1}{3}-\\frac{1}{4}\\Bigl)+...+\\Bigl(\\frac{1}{n-1}-\\frac{1}{n}\\Bigl)=\\Bigl(1-\\frac{1}{n}\\Bigl)$$\n",
    "\n",
    "### $$Ответ: \\,\\,\\,\\,\\lim_{n\\to \\infty} S_n = \\lim_{n\\to \\infty} \\Bigl(1-\\frac{1}{n}\\Bigl) = 1-0 = 1$$"
   ]
  },
  {
   "cell_type": "code",
   "execution_count": 12,
   "metadata": {},
   "outputs": [
    {
     "data": {
      "image/png": "[encoded data removed]",
      "text/latex": [
       "$\\displaystyle 1 - \\frac{1}{n}$"
      ],
      "text/plain": [
       "    1\n",
       "1 - ─\n",
       "    n"
      ]
     },
     "execution_count": 12,
     "metadata": {},
     "output_type": "execute_result"
    }
   ],
   "source": [
    "n=Symbol('n')\n",
    "g=1-(1/n)\n",
    "g"
   ]
  },
  {
   "cell_type": "code",
   "execution_count": 13,
   "metadata": {},
   "outputs": [
    {
     "data": {
      "image/png": "[encoded data removed]",
      "text/latex": [
       "$\\displaystyle 1$"
      ],
      "text/plain": [
       "1"
      ]
     },
     "execution_count": 13,
     "metadata": {},
     "output_type": "execute_result"
    }
   ],
   "source": [
    "limit (g,n,oo)"
   ]
  },
  {
   "cell_type": "markdown",
   "metadata": {},
   "source": [
    "<a class=\"anchor\" id=\"ex2\"></a>__2.__ Представьте $1$ в виде суммы трех рациональных дробей с разными знаменателями и числителем равным $1$."
   ]
  },
  {
   "cell_type": "markdown",
   "metadata": {},
   "source": [
    "### $$1=\\frac{1}{a}+\\frac{1}{b}+\\frac{1}{c}\\\\\n",
    "c=\\frac{1}{1-\\frac{1}{a}-\\frac{1}{b}} = \\frac{a \\cdot b}{a \\cdot b-a-b}\\\\\n",
    "если \\,\\,\\,  а = x^2, \\,\\, b = x, \\,\\, то\\\\\n",
    "с = \\frac{x^3}{x^3-x^2-x} = \\frac{x^2}{x^2-x-1}\\\\\n",
    "1 = \\frac{1}{x^2} + \\frac{1}{x} + \\frac{1}{\\frac{x^2}{x^2-x-1}}$$"
   ]
  },
  {
   "cell_type": "code",
   "execution_count": 14,
   "metadata": {},
   "outputs": [
    {
     "data": {
      "image/png": "[encoded data removed]",
      "text/latex": [
       "$\\displaystyle \\frac{1}{x} + \\frac{x^{2} - x - 1}{x^{2}} + \\frac{1}{x^{2}}$"
      ],
      "text/plain": [
       "     2             \n",
       "1   x  - x - 1   1 \n",
       "─ + ────────── + ──\n",
       "x        2        2\n",
       "        x        x "
      ]
     },
     "execution_count": 14,
     "metadata": {},
     "output_type": "execute_result"
    }
   ],
   "source": [
    "x = Symbol('x')\n",
    "rat2 = 1/x**2+1/x+1/(x**2/(x**2-x-1))\n",
    "rat2"
   ]
  },
  {
   "cell_type": "code",
   "execution_count": 15,
   "metadata": {},
   "outputs": [
    {
     "data": {
      "image/png": "[encoded data removed]",
      "text/latex": [
       "$\\displaystyle 1.0$"
      ],
      "text/plain": [
       "1.0"
      ]
     },
     "execution_count": 15,
     "metadata": {},
     "output_type": "execute_result"
    }
   ],
   "source": [
    "x_1 = 1\n",
    "res2 = 1/x_1**2+1/x_1+1/(x_1**2/(x_1**2-x_1-1))\n",
    "res2"
   ]
  },
  {
   "cell_type": "markdown",
   "metadata": {},
   "source": [
    "<a class=\"anchor\" id=\"ex3\"></a>__3$^*$.__ Тоже задание, только в виде суммы шести дробей."
   ]
  },
  {
   "cell_type": "markdown",
   "metadata": {},
   "source": [
    "### $$1=\\frac{1}{a}+\\frac{1}{b}+\\frac{1}{c}+\\frac{1}{d}+\\frac{1}{e}+\\frac{1}{f}\\\\\n",
    "Предположим, что: \\,\\,\\, \\frac{1}{a}+\\frac{1}{b} = \\frac{1}{2}, \\,\\,\\frac{1}{c}+\\frac{1}{d} = \\frac{1}{3}, \\,\\,\\frac{1}{e}+\\frac{1}{f} = \\frac{1}{6}\\\\\n",
    "если \\,\\,\\,  а = x, \\,\\,\\, с = x^2, \\,\\,\\, e = x^3 \\,\\,\\, то:\\\\\n",
    "1=\\frac{1}{x}+\\frac{1}{ \\frac{2x}{x-2}}+\\frac{1}{x^2}+\\frac{1}{ \\frac{3x^2}{x^2-3}}+\\frac{1}{x^3}+\\frac{1}{ \\frac{6x^3}{x^3-6}}$$"
   ]
  },
  {
   "cell_type": "code",
   "execution_count": 16,
   "metadata": {},
   "outputs": [
    {
     "data": {
      "image/png": "[encoded data removed]",
      "text/latex": [
       "$\\displaystyle \\frac{x - 2}{2 x} + \\frac{1}{x} + \\frac{x^{2} - 3}{3 x^{2}} + \\frac{1}{x^{2}} + \\frac{x^{3} - 6}{6 x^{3}} + \\frac{1}{x^{3}}$"
      ],
      "text/plain": [
       "             2             3         \n",
       "x - 2   1   x  - 3   1    x  - 6   1 \n",
       "───── + ─ + ────── + ── + ────── + ──\n",
       " 2⋅x    x       2     2       3     3\n",
       "             3⋅x     x     6⋅x     x "
      ]
     },
     "execution_count": 16,
     "metadata": {},
     "output_type": "execute_result"
    }
   ],
   "source": [
    "x = Symbol('x')\n",
    "rat3 = 1/x+1/(2*x/(x-2)) + 1/x**2 + 1/((3*x**2)/(x**2-3)) + 1/x**3 + 1/((6*x**3)/(x**3-6))\n",
    "rat3"
   ]
  },
  {
   "cell_type": "code",
   "execution_count": 17,
   "metadata": {},
   "outputs": [
    {
     "data": {
      "image/png": "[encoded data removed]",
      "text/latex": [
       "$\\displaystyle 1.0$"
      ],
      "text/plain": [
       "1.0"
      ]
     },
     "execution_count": 17,
     "metadata": {},
     "output_type": "execute_result"
    }
   ],
   "source": [
    "x_1=1\n",
    "res3 = 1/x_1**2+1/x_1+1/(x_1**2/(x_1**2-x_1-1))\n",
    "res3"
   ]
  },
  {
   "cell_type": "markdown",
   "metadata": {},
   "source": [
    "<a class=\"anchor\" id=\"ex4\"></a>__4.__ Пользуясь критерием Коши, докажите сходимость последовательности:\n",
    "\n",
    "### $$a_n=\\frac{\\sin1}{2}+\\frac{\\sin2}{2^2}+\\frac{\\sin3}{2^3}+..\\frac{\\sin n}{2^n}\\,\\,\\,\\,\\,\\Rightarrow$$\n",
    "\n",
    "### $$\\Bigl\\{a_n\\Bigr\\}_{n=1}^\\infty=\\Bigl\\{\\frac{\\sin1}{2}, \\frac{\\sin1}{2}+\\frac{\\sin2}{2^2}, ..., a_n,...\\Bigr\\}$$\n",
    "\n",
    "\n",
    "$^*$ Какой член последовательности можно взять в качестве предела с точностью $\\varepsilon=10^{-7}$?"
   ]
  },
  {
   "cell_type": "markdown",
   "metadata": {},
   "source": [
    "### Определение:\n",
    "\n",
    "Для сходимости ряда необходимо и достаточно, чтобы все отрезки этого ряда с достаточно большими номерами $n$ были сколь угодно малы. Если существует предел числовой последовательности значит последовательность сходится.\n",
    "\n",
    "#### Критерий сходимости Коши\n",
    "Для любого $\\varepsilon>0$ существует номер $N(\\varepsilon)$, такой\n",
    "что, для любого $n>N(\\varepsilon)$ и любого $k\\geq1$ верно неравенство $|a_n-a_{n+k}|<\\varepsilon$.\n",
    "\n",
    "### Ответ:\n",
    "\n",
    "### $$a_n=\\Bigl\\{\\frac{\\sin n}{2^n}\\Bigr\\}_{n=1}^\\infty$$"
   ]
  },
  {
   "cell_type": "code",
   "execution_count": 18,
   "metadata": {},
   "outputs": [
    {
     "data": {
      "image/png": "[encoded data removed]",
      "text/latex": [
       "$\\displaystyle 2^{- n} \\sin{\\left(n \\right)}$"
      ],
      "text/plain": [
       " -n       \n",
       "2  ⋅sin(n)"
      ]
     },
     "execution_count": 18,
     "metadata": {},
     "output_type": "execute_result"
    }
   ],
   "source": [
    "n = Symbol('n')\n",
    "f = (sin(n))/(2**n)\n",
    "f"
   ]
  },
  {
   "cell_type": "code",
   "execution_count": 19,
   "metadata": {},
   "outputs": [
    {
     "data": {
      "image/png": "[encoded data removed]",
      "text/latex": [
       "$\\displaystyle 0$"
      ],
      "text/plain": [
       "0"
      ]
     },
     "execution_count": 19,
     "metadata": {},
     "output_type": "execute_result"
    }
   ],
   "source": [
    "limit(f, n, oo)"
   ]
  },
  {
   "cell_type": "code",
   "execution_count": 20,
   "metadata": {},
   "outputs": [
    {
     "name": "stdout",
     "output_type": "stream",
     "text": [
      " 1. Численное значение предела: -1.0087733318509706e-07\n",
      " 2. Погрешность: 9.87670166008905e-08\n",
      " 3. Число шагов: 23\n"
     ]
    }
   ],
   "source": [
    "import math\n",
    "eps = 10**(-7)\n",
    "lim = 1\n",
    "\n",
    "n = 2\n",
    "a2 = math.sin(1)/2\n",
    "\n",
    "while lim > eps:\n",
    "    a1 = a2\n",
    "    a2 = math.sin(n)/2**n\n",
    "    lim = abs(a1-a2)\n",
    "    n += 1\n",
    "print (f' 1. Численное значение предела: {a2}\\n',f'2. Погрешность: {lim}\\n', f'3. Число шагов: {n-1}')"
   ]
  },
  {
   "cell_type": "markdown",
   "metadata": {},
   "source": [
    "в качестве предела с точностью  $\\varepsilon=10^{-7}$ можно взять __24__ член последовательности."
   ]
  },
  {
   "cell_type": "markdown",
   "metadata": {},
   "source": [
    "<a class=\"anchor\" id=\"ex5\"></a>__5$^*$.__  Пользуясь критерием Коши, докажите расходимость последовательности:\n",
    "\n",
    "### $$b_n=1+\\frac{1}{2}+\\frac{1}{3}+..\\frac{1}{n}\\,\\,\\,\\,\\,\\Rightarrow$$\n",
    "\n",
    "### $$\\Bigl\\{b_n\\Bigr\\}_{n=1}^\\infty=\\Bigl\\{1, 1+\\frac{1}{2},1+\\frac{1}{2}+\\frac{1}{3}, ..., b_n,...\\Bigr\\}$$"
   ]
  },
  {
   "cell_type": "markdown",
   "metadata": {},
   "source": [
    "### Ответ:\n",
    "### Ряд $$\\frac{1}{1}+\\frac{1}{2}+...\\frac{1}{n}$$\n",
    "### $$\\sum_{n=1}^{\\infty}\\frac{1}{n^\\alpha} \\,\\,\\,\\,\\,\\, - это\\,\\,гармонический\\,\\,ряд,\\,\\,где\\,\\, \\alpha=1.$$\n",
    "Он расходится. А сходится при $\\alpha>1$."
   ]
  },
  {
   "cell_type": "code",
   "execution_count": 21,
   "metadata": {},
   "outputs": [
    {
     "data": {
      "image/png": "[encoded data removed]",
      "text/latex": [
       "$\\displaystyle \\frac{1}{n}$"
      ],
      "text/plain": [
       "1\n",
       "─\n",
       "n"
      ]
     },
     "execution_count": 21,
     "metadata": {},
     "output_type": "execute_result"
    }
   ],
   "source": [
    "n =Symbol('n')\n",
    "f = 1/n\n",
    "f"
   ]
  },
  {
   "cell_type": "code",
   "execution_count": 22,
   "metadata": {},
   "outputs": [
    {
     "data": {
      "image/png": "[encoded data removed]",
      "text/latex": [
       "$\\displaystyle 0$"
      ],
      "text/plain": [
       "0"
      ]
     },
     "execution_count": 22,
     "metadata": {},
     "output_type": "execute_result"
    }
   ],
   "source": [
    "limit(f, n, oo)"
   ]
  },
  {
   "cell_type": "markdown",
   "metadata": {},
   "source": [
    "# <center>Теория<a class=\"anchor\" id=\"theor\"></a><center>"
   ]
  },
  {
   "cell_type": "markdown",
   "metadata": {
    "id": "p_3vqG5-kVlP"
   },
   "source": [
    "# Предел последовательности"
   ]
  },
  {
   "cell_type": "markdown",
   "metadata": {
    "id": "Mve8_f8NRxof"
   },
   "source": [
    "Курс математического анализа мы начнем с разбора сразу двух определений: __последовательности__ и их __пределов__. \n",
    "    \n",
    "    \n",
    "    "
   ]
  },
  {
   "cell_type": "markdown",
   "metadata": {
    "id": "ABvFZ8dSRxoi"
   },
   "source": [
    "### Определение\n",
    "\n",
    "__Последовательность__ — это пронумерованный набор каких-либо объектов, среди которых допускаются повторения, причём __порядок объектов имеет значение.__ То есть в качестве элементов последовательности может быть всё что угодно. Например: дни недели, смена времен года, наше расписание занятий и даже распорядок Вашего дня (с оговоркой, что порядок выполнения целей строгий). \n",
    "\n",
    "Мы же с Вами изучим числовые последовательности. Где в качестве нумерации элементов последовательности возьмем натуральные числа $n>\\mathbb {N}$ начиная с $1$\n",
    "\n",
    "В качестве обозначения последовательности обычно используют строчные латинские буквы в кавычках\n",
    "\n",
    "### $$\\Bigl\\{a_n\\Bigr\\}_{n=1}^\\infty$$\n",
    "\n",
    "Можно выделить два способа задания числовой последовательности:\n",
    "\n",
    "1. Явный. В этом случае есть конкретная формула для получения $n$ - го члена последовательности. Эту формулу называют главным членом последовательности\n",
    "\n",
    "### $$a_n=(-1)^{n+1}\\,\\,\\,\\,\\,\\Rightarrow\\,\\,\\,\\,\\,\\Bigl\\{a_n\\Bigr\\}_{n=1}^\\infty=\\Bigl\\{1, -1, 1, -1, ..., (-1)^{n+1},...\\Bigr\\}$$\n",
    "\n",
    "### $$b_n=2n-1\\,\\,\\,\\,\\,\\Rightarrow\\,\\,\\,\\,\\,\\Bigl\\{b_n\\Bigr\\}_{n=1}^\\infty=\\Bigl\\{1, 3, 5, 7, 9, 11,..., 2n-1,...\\Bigr\\}$$\n",
    "\n",
    "### $$c_n=n^2\\,\\,\\,\\,\\,\\Rightarrow\\,\\,\\,\\,\\,\\Bigl\\{c_n\\Bigr\\}_{n=1}^\\infty=\\Bigl\\{1, 4, 9, 16, 25, 36,..., n^2,...\\Bigr\\}$$\n",
    "\n",
    "Такой способ задания последовательности является довольно информативным, хотя и не всегда возможен. На python обычно такие последовательности задаются в следующем виде.\n"
   ]
  },
  {
   "cell_type": "code",
   "execution_count": null,
   "metadata": {
    "id": "mD6stq_oRxom",
    "outputId": "1c3d1274-b07f-450e-b908-6f7eedee756d"
   },
   "outputs": [],
   "source": [
    "n = 20\n",
    "a = [0]*n\n",
    "for i in range(n):\n",
    "    a[i] = (-1)**i\n",
    "print(a)"
   ]
  },
  {
   "cell_type": "code",
   "execution_count": null,
   "metadata": {
    "id": "JXqUhLbpRxoq",
    "outputId": "6a7f4f92-c397-444c-9acd-ee9e6a4705b1"
   },
   "outputs": [],
   "source": [
    "n = 20\n",
    "a = [0]*n\n",
    "for i in range(n):\n",
    "    a[i] = 2*i+1\n",
    "print(a)"
   ]
  },
  {
   "cell_type": "code",
   "execution_count": null,
   "metadata": {
    "id": "Zzr0mMuPRxot",
    "outputId": "c7ce854a-1b1e-4a6d-b54a-54aa2a670236"
   },
   "outputs": [],
   "source": [
    "n = 20\n",
    "a = [0]*n\n",
    "for i in range(n):\n",
    "    a[i] = (i+1)**2\n",
    "print(a)"
   ]
  },
  {
   "cell_type": "markdown",
   "metadata": {
    "id": "YGt8TPkmRxou"
   },
   "source": [
    "2. Неявный. То есть когда член последовательности имеет порядок, то есть номер. Но при этом явно зависит не от него, а от других элементов последовательности. \n",
    "\n",
    "В качестве примера можно изучить последовательности Фибоначчи. Где первый и второй члены равны $1$, а все остальные получаются в виде суммы двух предыдущих.\n",
    "\n",
    "### $$a_n=a_{n-1}+a_{n-2}, \\,\\,\\,\\,\\,\\,n>2$$"
   ]
  },
  {
   "cell_type": "code",
   "execution_count": null,
   "metadata": {
    "id": "5a2pD53FRxow",
    "outputId": "d179c8d2-d56a-40bb-f145-8eec70cb5e19"
   },
   "outputs": [],
   "source": [
    "n = 20\n",
    "a = [0]*n\n",
    "\n",
    "a[0]=1\n",
    "a[1]=1\n",
    "\n",
    "for i in range(2, n, 1):\n",
    "    a[i] = a[i-1]+a[i-2]\n",
    "print(a)"
   ]
  },
  {
   "cell_type": "markdown",
   "metadata": {
    "id": "f2jBqE1vRxoz"
   },
   "source": [
    "С помощью данной последовательности можно получить \"Золотое сечение\". Есть предположение, что оно используется природой, для программирования отношений длин частей тела."
   ]
  },
  {
   "cell_type": "code",
   "execution_count": null,
   "metadata": {
    "id": "8KA2HjBVRxo0",
    "outputId": "47ba342d-922e-45e3-98d2-542f2eaf4ac6"
   },
   "outputs": [],
   "source": [
    "for i in range(1, n, 1):\n",
    "    print(a[i-1]/a[i])"
   ]
  },
  {
   "cell_type": "markdown",
   "metadata": {
    "id": "cpMP1a8-Rxo4"
   },
   "source": [
    "Как правило способ задания последовательности только единственный, но иногда можно переходить от одного типа к другому. \n",
    "\n",
    "В качестве хорошего примера можно вспомнить арифметическую и геометрическую последовательность из школьного курса:\n",
    "\n",
    "Арифметическую последовательность $a_n=a_{n-1}+6$, где $a_1=3$  можно записать в видео $a_n=6(n-1)+3$\n"
   ]
  },
  {
   "cell_type": "code",
   "execution_count": null,
   "metadata": {
    "id": "izctEx9fRxo6",
    "outputId": "cf7ba3a3-2a90-416c-ba99-b079e6589196"
   },
   "outputs": [],
   "source": [
    "n = 20\n",
    "a = [0]*n\n",
    "\n",
    "a[0] = 3\n",
    "for i in range(1, n, 1):\n",
    "    a[i] = a[i-1]+6\n",
    "print(a)\n",
    "\n",
    "for i in range(n):\n",
    "    a[i] = 6*i+3\n",
    "print(a)"
   ]
  },
  {
   "cell_type": "markdown",
   "metadata": {
    "id": "AJKz0GFoRxo8"
   },
   "source": [
    "Геометрическую последовательность $b_n=b_{n-1}\\cdot 3$, где $b_1=2$  можно записать в видео $b_n=3^{n-1}\\cdot2$"
   ]
  },
  {
   "cell_type": "code",
   "execution_count": null,
   "metadata": {
    "id": "-Wy6i5yRRxo9",
    "outputId": "5eb8410a-4b27-4428-cabe-bea5ee8a7330"
   },
   "outputs": [],
   "source": [
    "n = 10\n",
    "b = [0]*n\n",
    "\n",
    "b[0] = 2\n",
    "for i in range(1, n, 1):\n",
    "    b[i] = b[i-1]*3\n",
    "print(b)\n",
    "\n",
    "for i in range(n):\n",
    "    b[i] = 3**i*2\n",
    "print(b)"
   ]
  },
  {
   "cell_type": "markdown",
   "metadata": {
    "id": "W6MeadoCRxo-"
   },
   "source": [
    "### Сходимость\n",
    "\n",
    "Что же находится в конце последовательности? Чем она закончится? Это сложный вопрос, на который мы не знаем ответ. Потому что последовательности бесконечны.\n",
    "\n",
    "__Математический анализ - это наука о приближениях.__ И чем дальше мы будет погружаться в этот курс, тем больше будет понятно что эта наука не точная.\n",
    "\n",
    "Говоря о сходимости числовой последовательности, мы имеем в виду что начиная с какого-то номера $n$ все последующие члены будут собираться в окрестности какого числа, например $A$. В качестве такой окрестности принято брать число $\\varepsilon>0$ (эпсилон большее нуля).\n",
    "<img src=\"https://i.ibb.co/JtMqCBD/image.png\"  width = 500/>\n",
    "\n",
    "При этом $A$ может принимать различные значения. В общем случае случаи разберемся с ними чуть позже, а пока выделим два особых случая.\n",
    "\n",
    "- если $A$ равна нулю, то последовательность $\\Bigl\\{a_n\\Bigr\\}_{n=1}^\\infty$ называют __бесконечно малой__.\n",
    "- если же $A$ не может собрать $a_n$ в окрестность и они постоянно растут или наоборот уменьшаются, то $A=\\pm\\infty$. Последовательность$\\Bigl\\{a_n\\Bigr\\}_{n=1}^\\infty$ в таком случае называют __бесконечно большой__.\n",
    "\n",
    "Два эти понятия помогут нам в практики взятия пределов последовательности. Но также они используются для описания порядка ошибок или сложности тех или иных алгоритмов в программировании.\n",
    "\n",
    "Например:\n",
    "\n",
    "- $o(n^3)$ читается как малая величина от $n$ в кубе. Обычно употребляется для обозначения порядка ошибки. Т.е. алгоритм дает правильный ответ с небольшой погрешностью, которая зависит от числа данных в кубе.\n",
    "- $O(n^2)$ читается как большая величина от $n$ в квадрате. Обычно употребляется для обозначения сложности алгоритма. Т.е. число шагов в алгоритме зависит от количества данных в квадрате.\n"
   ]
  },
  {
   "cell_type": "markdown",
   "metadata": {
    "id": "LK-2KpcMRxo_"
   },
   "source": [
    "### Предел последовательности\n",
    "\n",
    "Предел последовательности записывается в следящем виде \n",
    "\n",
    "### $$\\lim_{n\\to \\infty} a_n=A$$\n",
    "\n",
    "Читается как предел последовательности $\\Bigl\\{a_n\\Bigr\\}_{n=1}^\\infty$ при $n$ стремящемуся к бесконечности равен $A$. \n",
    "\n",
    "Существует довольно много определений предела последовательности. Мы разберемся с самым простым в понимании.\n",
    "\n",
    "#### Определение\n",
    "\n",
    "Для любого $\\varepsilon>0$ существует номер $N(\\varepsilon)$, такой\n",
    "что, для любого $n>N(\\varepsilon)$ верно неравенство $|a_n-A|<\\varepsilon$.\n",
    "\n",
    "### $$\\forall\\varepsilon>0\\,\\,\\,\\exists N(\\varepsilon), \\,\\,\\,\\forall n>N(\\varepsilon):|a_n-A|<\\varepsilon$$\n",
    "\n",
    "Есть в этом определение одна неприятная вещь: чтобы дать определение предела, нам нужно знать сам предел. Что звучит довольно странно. \n",
    "\n",
    "К тому же бывают такие ситуации когда нам нужно просто знать: существует предел или нет. Поэтому введем критерий сходимости Коши.\n",
    "\n",
    "#### Критерий сходимости Коши\n",
    "\n",
    "Для любого $\\varepsilon>0$ существует номер $N(\\varepsilon)$, такой\n",
    "что, для любого $n>N(\\varepsilon)$ и любого $k\\geq1$ верно неравенство $|a_n-a_{n+k}|<\\varepsilon$.\n",
    "\n",
    "### $$\\forall\\varepsilon>0\\,\\,\\,\\exists N(\\varepsilon), \\,\\,\\,\\forall n>N(\\varepsilon)\\,\\,\\,\\forall k\\geq1:|a_n-a_{n+k}|<\\varepsilon$$\n",
    "\n",
    "В качестве примера возьмем бесконечную убывающую прогрессию\n",
    "\n",
    "### $$a_n=\\frac{1}{2^n}\\,\\,\\,\\,\\,\\Rightarrow\\,\\,\\,\\,\\,\\Bigl\\{a_n\\Bigr\\}_{n=1}^\\infty=\\Bigl\\{\\frac{1}{2}, \\frac{1}{4}, \\frac{1}{8}, \\frac{1}{16}, ..., \\frac{1}{2^n},...\\Bigr\\}$$\n",
    "\n",
    "Интуитивно понятно, что \n",
    "\n",
    "### $$\\lim_{n\\to \\infty} \\frac{1}{2^n}=0$$\n",
    "\n",
    "Но разберем этот пример с точки зрения критерия Коши. Докажем сходимость этой последовательности и даже дадим оценку для $n$, после которого все $a_n$ будут достаточно близки к пределу.\n",
    "\n",
    "Начнем с конца, нам нужно что \n",
    "### $$|a_n-a_{n+k}|<\\varepsilon$$\n",
    "\n",
    "Сделаем оценку сверху\n",
    "\n",
    "### $$|a_n-a_{n+k}|=\\Bigl|\\frac{1}{2^n}-\\frac{1}{2^{n+k}}\\Bigr|=$$\n",
    "\n",
    "### $$=\\frac{1}{2^n}\\Bigl|1-\\frac{1}{2^{k}}\\Bigr|<\\frac{1}{2^n}<\\frac{1}{2^{N(\\varepsilon)}}=\\varepsilon$$\n",
    "\n",
    "Тот факт, что нам удалось найти связть между $N(\\varepsilon)$ уже говори о том, что предел существует.\n",
    "\n",
    "Давайте выразим $N(\\varepsilon)$, чтобы было видно, что формула верна при $\\forall\\varepsilon>0$.\n",
    "\n",
    "### $$\\frac{1}{2^{N(\\varepsilon)}}=\\varepsilon \\,\\,\\,\\Rightarrow\\,\\,\\, 2^{N(\\varepsilon)}=\\frac{1}{\\varepsilon}\\,\\,\\,\\Rightarrow\\,\\,\\, N(\\varepsilon)=-\\log_2 \\varepsilon$$\n",
    "\n",
    "Как к этому относиться с точки зрения программирования?  \n",
    "\n",
    "$\\varepsilon$ - это погрешность измерения. Смысл в том, что каку бы с Вами погрешность не зададим, мы всегда по получено оценки можем найти номер $N$. После которого все члены последовательности $a_n$ будут близки к пределу."
   ]
  },
  {
   "cell_type": "code",
   "execution_count": null,
   "metadata": {
    "id": "3bUCVI86RxpA",
    "outputId": "dbec2c70-33ca-4c33-c2ea-efd73a4ee0a1"
   },
   "outputs": [],
   "source": [
    "import math\n",
    "eps = 0.00000001\n",
    "N = -math.log(eps,2)\n",
    "\n",
    "print (f'eps={eps}', f'N={N}')\n",
    "\n",
    "n = int(N+1)\n",
    "\n",
    "print (f'a_{n}={1/2**n}')"
   ]
  },
  {
   "cell_type": "markdown",
   "metadata": {
    "id": "nDHEN62iRxpB"
   },
   "source": [
    "Так же эту эпсилон используют для сравнения величин, если мы не уверены в правильности расчётов. Как ответ получится в результате выполнения кода?"
   ]
  },
  {
   "cell_type": "code",
   "execution_count": null,
   "metadata": {
    "id": "RKdPyOaSRxpC",
    "outputId": "ca5f018b-9f52-44c8-e7c9-98b6d75e202d"
   },
   "outputs": [],
   "source": [
    "a = 16**(1/2) # должно быть равно 4\n",
    "b = 4\n",
    "print (a)\n",
    "if a == b:\n",
    "    print (True)\n",
    "else:\n",
    "    print (False)"
   ]
  },
  {
   "cell_type": "code",
   "execution_count": null,
   "metadata": {
    "id": "vHlhN9QMRxpF",
    "outputId": "ed634f3c-0b37-4771-86a4-e6ebad8e7189"
   },
   "outputs": [],
   "source": [
    "a = 8**(2/3) # должно быть равно 4\n",
    "b = 4\n",
    "print (a)\n",
    "if a == b:\n",
    "    print (True)\n",
    "else:\n",
    "    print (False)"
   ]
  },
  {
   "cell_type": "code",
   "execution_count": null,
   "metadata": {
    "id": "L8U-khQFRxpW",
    "outputId": "cc480729-417d-4c86-b984-eb072b3dd1bc"
   },
   "outputs": [],
   "source": [
    "eps = 0.0000001\n",
    "\n",
    "a = 8**(2/3) # должно быть равно 4\n",
    "b = 4\n",
    "if abs(a-b) < eps:\n",
    "    print (True)\n",
    "else:\n",
    "    print (False)"
   ]
  },
  {
   "cell_type": "markdown",
   "metadata": {
    "id": "3HUtyxHZRxpY"
   },
   "source": [
    "Бывают задачи, когда заранее известно, что у последовательности предел существует. А аналитически вычислить его тяжело, тогда можно взять алгоритм на подобии критерия Коши.\n",
    "\n",
    "Возьмем сходящуюся последовательности \n",
    "\n",
    "### $$a_n=\\frac{n^2+1}{2n^2+3n+2}\\,\\,\\,\\,\\,\\Rightarrow\\,\\,\\,\\,\\,\\Bigl\\{a_n\\Bigr\\}_{n=1}^\\infty=\\Bigl\\{\\frac{2}{7}, \\frac{5}{16}, \\frac{10}{29}, \\frac{17}{46}, ..., \\frac{n^2+1}{2n^2+3n+2},...\\Bigr\\}$$\n",
    "\n",
    "Найдем её предел с заданной точность (это случаи — это точность между соседними членами последовательности, а не между членами и самим пределом)."
   ]
  },
  {
   "cell_type": "code",
   "execution_count": null,
   "metadata": {
    "id": "F--Fujg8RxpZ",
    "outputId": "7787c714-ce8a-4eb3-d362-8ab0745bdb6e"
   },
   "outputs": [],
   "source": [
    "eps = 0.0000000000001\n",
    "lim=1\n",
    "\n",
    "n = 2\n",
    "a2=2/7\n",
    "\n",
    "while lim > eps:\n",
    "    a1 = a2\n",
    "    a2 = (n**2+1)/(2*n**2+3*n+2)\n",
    "    lim = abs(a1-a2)\n",
    "    n += 1\n",
    "print (f'Численное значение предела: {a2}\\n',f'Погрешность: {lim}\\n', f'Число шагов: {n-1}')\n"
   ]
  },
  {
   "cell_type": "markdown",
   "metadata": {
    "id": "3X5pZ8JGRxpa"
   },
   "source": [
    "В пределе должно было получится $0.5$. Видно, что численное значение предела отличается от самого предела больше чем на $\\varepsilon$"
   ]
  },
  {
   "cell_type": "markdown",
   "metadata": {
    "id": "pPBotpv4Rxpe"
   },
   "source": [
    "### Замечание \n",
    "\n",
    "Давайте еще раз рассмотрим критерий сходимости Коши\n",
    "\n",
    "### $$\\forall\\varepsilon>0\\,\\,\\,\\exists N(\\varepsilon), \\,\\,\\,\\forall n>N(\\varepsilon)\\,\\,\\,\\forall k\\geq1:|a_n-a_{n+k}|<\\varepsilon$$\n",
    "\n",
    "Мы легко может составить противоположное высказывание с помощью законов де Моргана\n",
    "\n",
    "### $$\\exists\\varepsilon>0\\,\\,\\,\\forall N(\\varepsilon), \\,\\,\\,\\exists n>N(\\varepsilon)\\,\\,\\,\\exists k\\geq1:|a_n-a_{n+k}|\\geq\\varepsilon$$\n",
    "\n",
    "Мы получили новое выражение, которое называется критерием расходимости Коши. С помощью него доказывают то, что у последовательности предел равен $\\pm\\infty$.\n"
   ]
  },
  {
   "cell_type": "markdown",
   "metadata": {
    "id": "rus7eYRnRxpe"
   },
   "source": [
    "### Примеры аналитических вычислений предела последовательности\n",
    "\n",
    "#### Степени\n",
    "\n",
    "1. \n",
    "### $$\\lim_{n\\to \\infty} \\frac{10000n}{n^2+1}=\\Bigl(\\frac{\\infty}{\\infty}\\Bigr)$$\n",
    "\n",
    "В первую очередь необходимо всегда проверять предельное значение. В данном примере при подстановки вместо $n$ бесконечности мы получаем с Вами самых простой тип неопределенности $\\Bigl(\\frac{\\infty}{\\infty}\\Bigr)$. \n",
    "\n",
    "В нашем примере только степени, поэтому правило для вычисления предела довольно простое:\n",
    "\n",
    "- если максимальная степень числителя меньше максимальной степени знаменателя, то предел равен $0$; \n",
    "- если максимальная степень числителя больше максимальной степени знаменателя, то предел равен $\\pm\\infty$; \n",
    "- если максимальная степень числителя равна максимальной степени знаменателя, то предел равен коэффициентам при этих степенях.\n",
    "\n",
    "### $$\\lim_{n\\to \\infty} \\frac{10000n}{n^2+1}=\\Bigl(\\frac{\\infty}{\\infty}\\Bigr)=0$$"
   ]
  },
  {
   "cell_type": "markdown",
   "metadata": {
    "id": "xCuM6tsaRxpg"
   },
   "source": [
    "2. \n",
    "### $$\\lim_{n\\to \\infty} \\frac{\\sqrt[3]{n^2}\\sin{(1000000n)}}{n+1}=\\Bigl(\\frac{\\infty}{\\infty}\\Bigr)$$\n",
    "\n",
    "В данном примере $\\sqrt[3]{n^2}=n^\\frac{2}{3}$. Т.е. максимальная степень числителя меньше максимальной степени знаменателя. При этом на $\\sin{(1000000n)}$ можно не обращать внимания, т.е при $n\\to \\infty$ это всего лишь какая-то ограниченная величина в интервале $[-1,1]$.  \n",
    "\n",
    "### $$\\lim_{n\\to \\infty} \\frac{\\sqrt[3]{n^2}\\sin{(1000000n)}}{n+1}=\\Bigl(\\frac{\\infty}{\\infty}\\Bigr)=0$$\n"
   ]
  },
  {
   "cell_type": "markdown",
   "metadata": {
    "id": "9_FTktoPRxpg"
   },
   "source": [
    "3. \n",
    "### $$\\lim_{n\\to \\infty} \\frac{2n^2-9}{3n^2+n+1}=\\Bigl(\\frac{\\infty}{\\infty}\\Bigr)$$\n",
    "\n",
    "В данном примере максимальная степень числителя равна максимальной степени знаменателя. Для кого-то это будет нагляднее, если вынести эти максимальные степени за скобку. Но на больших примерах делать это не рекомендую.\n",
    "\n",
    "### $$\\lim_{n\\to \\infty} \\frac{2n^2-9}{3n^2+n+1}=\\Bigl(\\frac{\\infty}{\\infty}\\Bigr)=\\lim_{n\\to \\infty} \\frac{n^2(2-\\frac{9}{n^2})}{n^2(3+\\frac{1}{n}+\\frac{1}{n^2})}=$$\n",
    "\n",
    "### $$=\\lim_{n\\to \\infty} \\frac{2-\\frac{9}{n^2}}{3+\\frac{1}{n}+\\frac{1}{n^2}}=\\frac{2}{3}$$"
   ]
  },
  {
   "cell_type": "markdown",
   "metadata": {
    "id": "FGen79pVRxph"
   },
   "source": [
    "4. \n",
    "### $$\\lim_{n\\to \\infty} \\frac{(1-2n)^2}{(2-n)(5n-1)}=\\Bigl(\\frac{\\infty}{\\infty}\\Bigr)$$\n",
    "\n",
    "Достаточно проверить равны или нет максимальные степени и записать ответ\n",
    "\n",
    "### $$\\lim_{n\\to \\infty} \\frac{(1-2n)^2}{(2-n)(5n-1)}=\\Bigl(\\frac{\\infty}{\\infty}\\Bigr)=\\frac{(-2)^2}{-1\\cdot5}=-\\frac{4}{5}$$"
   ]
  },
  {
   "cell_type": "markdown",
   "metadata": {
    "id": "V7KnaXenRxph"
   },
   "source": [
    "5. \n",
    "### $$\\lim_{n\\to \\infty} (\\sqrt{n+1}-\\sqrt{n})=(\\infty-\\infty)$$\n",
    "\n",
    "Второй по сложности тип неопределенности - это неопределенность $(\\infty-\\infty)$. Как правило встречается в виде иррационального выражения и сводится к неопределенности $\\Bigl(\\frac{\\infty}{\\infty}\\Bigr)$ путем умножения и деления на сопряженное выражение.\n",
    "\n",
    "### $$\\lim_{n\\to \\infty} (\\sqrt{n+1}-\\sqrt{n})=(\\infty-\\infty)=$$\n",
    "\n",
    "### $$=\\lim_{n\\to \\infty} (\\sqrt{n+1}-\\sqrt{n})\\cdot\\frac{\\sqrt{n+1}+\\sqrt{n}}{\\sqrt{n+1}+\\sqrt{n}}=$$\n",
    "\n",
    "### $$=\\lim_{n\\to \\infty} \\frac{n+1-n}{\\sqrt{n+1}+\\sqrt{n}}=$$\n",
    "\n",
    "### $$=\\lim_{n\\to \\infty} \\frac{1}{\\sqrt{n+1}+\\sqrt{n}}=\\Bigl(\\frac{1}{\\infty}\\Bigr)=0$$\n"
   ]
  },
  {
   "cell_type": "markdown",
   "metadata": {
    "id": "eCAE34QlRxph"
   },
   "source": [
    "#### Показатели\n",
    "\n",
    "6. \n",
    "### $$\\lim_{n\\to \\infty} \\frac{3^n}{3^{n+1}}=\\Bigl(\\frac{\\infty}{\\infty}\\Bigr)$$\n",
    "\n",
    "Правило для пределов с показателями другие. В этом примере \n",
    "\n",
    "### $$\\frac{3^n}{3^{n+1}}=\\frac{3^n}{3^n\\cdot3}=\\frac{1}{3}$$\n",
    "\n",
    "### $$\\lim_{n\\to \\infty} \\frac{3^n}{3^{n+1}}=\\Bigl(\\frac{\\infty}{\\infty}\\Bigr)=\\frac{1}{3}$$\n",
    "\n",
    "В этих примерах стоит обращать внимание уже на основание, а не на степень."
   ]
  },
  {
   "cell_type": "markdown",
   "metadata": {
    "id": "rqn77UCbRxpm"
   },
   "source": [
    "7. \n",
    "### $$\\lim_{n\\to \\infty} \\frac{2^n}{3^n}=\\Bigl(\\frac{\\infty}{\\infty}\\Bigr)$$\n",
    "\n",
    "В этом примере основание числителя меньше знаменателя, поэтому \n",
    "\n",
    "### $$\\lim_{n\\to \\infty} \\frac{2^n}{3^n}=\\Bigl(\\frac{\\infty}{\\infty}\\Bigr)=\\lim_{n\\to \\infty} \\Bigl(\\frac{2}{3}\\Bigr)^n=0$$"
   ]
  },
  {
   "cell_type": "markdown",
   "metadata": {
    "id": "KvcKcoIKRxpq"
   },
   "source": [
    "8. \n",
    "### $$\\lim_{n\\to \\infty} \\frac{(-2)^n+3^n}{(-2)^{n+1}+3^{n+1}}=\\Bigl(\\frac{\\infty}{\\infty}\\Bigr)$$\n",
    "\n",
    "В данном примере достаточно вынести за скобку максимальное по модулю основание.\n",
    "\n",
    "### $$\\lim_{n\\to \\infty} \\frac{(-2)^n+3^n}{(-2)^{n+1}+3^{n+1}}=\\Bigl(\\frac{\\infty}{\\infty}\\Bigr)=$$\n",
    "\n",
    "### $$=\\lim_{n\\to \\infty} \\frac{3^n\\Bigl(\\Bigl(-\\frac{2}{3}\\Bigr)^n+1\\Bigr)}{3^n\\Bigl(-2\\Bigl(-\\frac{2}{3}\\Bigr)^n+3\\Bigr)}=\\frac{1}{3}$$\n",
    "\n",
    "Эти же пределы можно найти аналитически и с помощью библиотеки sympy\n"
   ]
  },
  {
   "cell_type": "code",
   "execution_count": null,
   "metadata": {
    "id": "usXCt5aeRxpr"
   },
   "outputs": [],
   "source": [
    "from sympy import *\n",
    "init_printing()"
   ]
  },
  {
   "cell_type": "code",
   "execution_count": null,
   "metadata": {
    "id": "M1dDsG78Rxps",
    "outputId": "4f56c575-173e-4785-bde2-937385b1810f"
   },
   "outputs": [],
   "source": [
    "a=Symbol('a') # для одной переменной Symbol\n",
    "b=Symbol('b')\n",
    "x=a+b\n",
    "x"
   ]
  },
  {
   "cell_type": "code",
   "execution_count": null,
   "metadata": {
    "id": "81gcAKGgRxpt",
    "outputId": "ef6ffc94-00e7-4f65-d8b9-f16f337d0247"
   },
   "outputs": [],
   "source": [
    "c,d=symbols('c d') # для нескольких переменных symbols\n",
    "y = x.subs(b,(c+d)**2) # подставили значения в х и сохранили в у\n",
    "y"
   ]
  },
  {
   "cell_type": "code",
   "execution_count": null,
   "metadata": {
    "id": "kzhCvAnMRxpv",
    "outputId": "f4d395c9-38d6-42bb-8bcb-e87de85226cb"
   },
   "outputs": [],
   "source": [
    "x.expand(a) # х не изменился"
   ]
  },
  {
   "cell_type": "code",
   "execution_count": null,
   "metadata": {
    "id": "KVaVxWz5Rxpv",
    "outputId": "f0ba9dc3-e008-4990-f47d-e06ac8195fab"
   },
   "outputs": [],
   "source": [
    "y.expand(a)"
   ]
  },
  {
   "cell_type": "code",
   "execution_count": null,
   "metadata": {
    "id": "pfA6cjGDRxpw",
    "outputId": "f9f2ff43-7ce0-4cca-e251-cc3e9fee8965"
   },
   "outputs": [],
   "source": [
    "z=y.subs({a:3,c:d, d:1}) # так же можно подставлять числа\n",
    "z"
   ]
  },
  {
   "cell_type": "code",
   "execution_count": null,
   "metadata": {
    "id": "NKy09go0Rxpy",
    "outputId": "7d1bce26-bfb8-40c2-b631-f1ffb692b71b"
   },
   "outputs": [],
   "source": [
    "print (type(z))\n",
    "print (type(7/z))\n",
    "print (type(7.0/z))\n",
    "print (type(float(7.0/z)))"
   ]
  },
  {
   "cell_type": "code",
   "execution_count": null,
   "metadata": {
    "id": "sj2BtyA8Rxp1",
    "outputId": "38f2f298-c3d9-41fd-dfc7-98a1e421fd30"
   },
   "outputs": [],
   "source": [
    "n=Symbol('n')\n",
    "a=(2*n**2-9)/(3*n**2+n+1)\n",
    "a"
   ]
  },
  {
   "cell_type": "code",
   "execution_count": null,
   "metadata": {
    "id": "5OsICf5iRxp3",
    "outputId": "8679a1c6-647e-4be4-9a7c-a0a50d8683f6"
   },
   "outputs": [],
   "source": [
    "limit (a,n,oo)"
   ]
  },
  {
   "cell_type": "markdown",
   "metadata": {
    "id": "KYpimjCJRxp4"
   },
   "source": [
    "Правда с последним примеров библиотека не справилась"
   ]
  },
  {
   "cell_type": "code",
   "execution_count": null,
   "metadata": {
    "id": "EXVIqMpuRxp5",
    "outputId": "4ada5b54-43e3-4ef8-c759-b6de1feb5f81"
   },
   "outputs": [],
   "source": [
    "n=Symbol('n')\n",
    "b=((-2)**n+3**n)/((-2)**(n+1)+3**(n+1))\n",
    "b"
   ]
  },
  {
   "cell_type": "code",
   "execution_count": null,
   "metadata": {
    "id": "Nl41NNWDRxp7",
    "outputId": "f8225b01-bc15-4f72-cec6-66ae01cdd64a"
   },
   "outputs": [],
   "source": [
    "limit (b,n,oo)"
   ]
  },
  {
   "cell_type": "markdown",
   "metadata": {
    "id": "aQp8Gzn-Rxp8"
   },
   "source": [
    "### Замечания\n",
    "\n",
    "Как быть если в примере вчитаются элементы разного типа. Для этого пользуются следящими равенствами:\n",
    "\n",
    "### $$1. \\lim_{n\\to \\infty} \\frac{n^k}{a^n}=0 \\,\\,\\,(a>1\\,\\,\\, \\forall k)\\,\\,\\,\\,\\,\\,\\,\\,\\, 2. \\lim_{n\\to \\infty} \\frac{a^n}{n!}=0$$\n",
    "\n",
    "### $$3. \\lim_{n\\to \\infty} nq^n=0 \\,\\,\\,(|q|<1)\\,\\,\\,\\,\\,\\,\\,\\,\\, 4. \\lim_{n\\to \\infty} \\sqrt[n]{a}=1\\,\\,\\,(a>1)$$\n",
    "\n",
    "### $$5. \\lim_{n\\to \\infty} \\frac{\\log_a n}{n}=0 \\,\\,\\,(a>1)\\,\\,\\,\\,\\,\\,\\,\\,\\, 6. \\lim_{n\\to \\infty} \\sqrt[n]{n}=1$$\n",
    "\n",
    "### $$7. \\lim_{n\\to \\infty} \\frac{1}{\\sqrt[n]{n!}}=0$$\n",
    "\n",
    "Давайте докажем одну из этих формул."
   ]
  },
  {
   "cell_type": "markdown",
   "metadata": {
    "id": "u3_PEwPHRxqA"
   },
   "source": [
    "### Теорема о двух милиционерах\n",
    "\n",
    "Пусть даны три последовательности \n",
    "\n",
    "### $$\\Bigl\\{a_n\\Bigr\\}_{n=1}^\\infty,\\,\\,\\,\\, \\Bigl\\{b_n\\Bigr\\}_{n=1}^\\infty,\\,\\,\\,\\, \\Bigl\\{c_n\\Bigr\\}_{n=1}^\\infty$$\n",
    "\n",
    "причем:\n",
    "\n",
    "### $$1.\\,\\,\\,\\exists \\lim_{n\\to \\infty} a_n=A$$\n",
    "### $$2.\\,\\,\\,\\exists \\lim_{n\\to \\infty} c_n=A$$\n",
    "### $$3.\\,\\,\\,a_n\\leq b_n \\leq c_n$$\n",
    "\n",
    "тогда \n",
    "\n",
    "### $$\\exists \\lim_{n\\to \\infty} b_n=A$$\n",
    "\n",
    "С помощью данной теоремы как раз можно доказать предыдущие равенствами. Давайте докажем, что\n",
    "\n",
    "### $$\\lim_{n\\to \\infty} \\frac{2^n}{n!}=0$$\n",
    "\n",
    "Для этого достаточно сделать оценку снизу и сверху:\n",
    "\n",
    "### $$0<\\frac{2^n}{n!}=\\frac{2\\cdot2\\cdot2\\cdot...\\cdot2}{1\\cdot2\\cdot3\\cdot...\\cdot n}=2\\cdot1\\cdot\\frac{2}{3}\\cdot\\frac{2}{4}\\cdot...\\cdot\\frac{2}{n}\\leq2\\cdot\\Bigl(\\frac{2}{3}\\Bigr)^{n-2}\\underset{n\\to \\infty}{=}0$$"
   ]
  },
  {
   "cell_type": "markdown",
   "metadata": {
    "id": "SD8z3MGLRxqB"
   },
   "source": [
    "### Второй замечательный предел (число Эйлера, экспонента)\n",
    "\n",
    "Более подробно решением пределов мы займемся на следующем уроке. В том числе и со вторым замечательным пределом. Сегодня только посмотрим чему он равен.\n",
    "\n",
    "### $$\\lim_{n\\to \\infty} \\Bigr(1+\\frac{1}{n}\\Bigl)^n$$\n",
    "\n",
    "Оценим данную последовательность снизу и сверху.\n",
    "\n",
    "Снизу особо оценивать нечего, т.к. при $n=1$ мы получаем самое маленькое значение равное $2$.\n",
    "\n",
    "###  $$\\Bigr(1+\\frac{1}{n}\\Bigl)^n\\geq2$$\n",
    "\n",
    "Оценим сверху:\n",
    "\n",
    "###  $$\\Bigr(1+\\frac{1}{n}\\Bigl)^n\\leq$$\n",
    "\n",
    "###  $$\\leq1+\\frac{n}{1!}\\cdot\\Bigl(\\frac{1}{n}\\Bigr)^1+\\frac{n(n-1)}{2!}\\cdot\\Bigl(\\frac{1}{n}\\Bigr)^2+\\frac{n(n-1)(n-2)}{3!}\\cdot\\Bigl(\\frac{1}{n}\\Bigr)^3+...=$$\n",
    "\n",
    "###  $$=1+1+\\frac{1}{2!}\\cdot\\frac{n(n-1)}{n\\cdot n}+\\frac{1}{3!}\\cdot\\frac{n(n-1)(n-2)}{n\\cdot n\\cdot n}+...\\underset{n\\to \\infty}{=}$$\n",
    "\n",
    "###  $$\\underset{n\\to \\infty}{=}2+\\frac{1}{2!}+\\frac{1}{3!}+...\\leq$$\n",
    "\n",
    "###  $$\\leq2+\\frac{1}{2}+\\frac{1}{4}+\\frac{1}{8}+...+\\frac{1}{2^n}+...=$$\n",
    "\n",
    "###  $$=2+\\frac{\\frac{1}{2}}{1-\\frac{1}{2}}=2+1=3$$\n",
    "\n",
    "Получается, что значение предела\n",
    "\n",
    "### $$\\lim_{n\\to \\infty} \\Bigr(1+\\frac{1}{n}\\Bigl)^n$$\n",
    "\n",
    "находится грубо в диапазоне $[2,3]$. Вычислить точно значение этого предела невозможно, т.к. оно представляет собой бесконечную непереодичную дробь на подобии числа $\\pi$. Данное число называют числом $e$ - число Эйлера или экспонента. Численно можно найти по следящей формуле:\n",
    "\n",
    "### $$e \\approx 2+\\frac{1}{2!}+\\frac{1}{3!}+\\frac{1}{4!}...$$\n"
   ]
  },
  {
   "cell_type": "markdown",
   "metadata": {
    "id": "aU5YNMH9kVqP"
   },
   "source": [
    "## Практическое задание"
   ]
  },
  {
   "cell_type": "markdown",
   "metadata": {
    "id": "SmdURZ_OkVqQ"
   },
   "source": [
    "__1.__ Найти предел последовательности:\n",
    "\n",
    "### $$а)\\,\\,\\,\\,\\lim_{n\\to \\infty} \\frac{(23-2n^2)(3n^2+17)^2}{4n^6+n-1}$$\n",
    "\n",
    "### $$б)\\,\\,\\,\\,\\lim_{n\\to \\infty} \\frac{(97-2n)^3}{2n(3n^2+15)+8n}$$\n",
    "\n",
    "### $$в)\\,\\,\\,\\,\\lim_{n\\to \\infty} \\frac{2n^3+13n(n+18)}{(27-n)(2n+19)^2}$$\n",
    "\n",
    "### $$г)\\,\\,\\,\\,\\lim_{n\\to \\infty} (\\sqrt{n^2+1}-n)$$\n",
    "\n",
    "### $$д)\\,\\,\\,\\,\\lim_{n\\to \\infty} \\frac{(-4)^n+5\\cdot7^n}{(-4)^{n-1}+7^{n+2}}$$\n",
    "\n",
    "### $$e)^*\\,\\,\\,\\,\\lim_{n\\to \\infty} \\Bigl(\\frac{1}{1\\cdot2}+\\frac{1}{2\\cdot3}+\\frac{1}{3\\cdot4}+...+\\frac{1}{(n-1)\\cdot n}\\Bigr)$$"
   ]
  },
  {
   "cell_type": "markdown",
   "metadata": {
    "id": "i0Pw5HFxRxqG"
   },
   "source": [
    "__2.__ Представьте $1$ в виде суммы трех рациональных дробей с разными знаменателями и числителем равным $1$."
   ]
  },
  {
   "cell_type": "markdown",
   "metadata": {
    "id": "okm3PMHMRxqH"
   },
   "source": [
    "__3$^*$.__ Тоже задание, только в виде суммы шести дробей."
   ]
  },
  {
   "cell_type": "markdown",
   "metadata": {
    "id": "lmM1s0gPRxqR"
   },
   "source": [
    "__4.__ Пользуясь критерием Коши, докажите сходимость последовательности:\n",
    "\n",
    "### $$a_n=\\frac{\\sin1}{2}+\\frac{\\sin2}{2^2}+\\frac{\\sin3}{2^3}+..\\frac{\\sin n}{2^n}\\,\\,\\,\\,\\,\\Rightarrow$$\n",
    "\n",
    "### $$\\Bigl\\{a_n\\Bigr\\}_{n=1}^\\infty=\\Bigl\\{\\frac{\\sin1}{2}, \\frac{\\sin1}{2}+\\frac{\\sin2}{2^2}, ..., a_n,...\\Bigr\\}$$\n",
    "\n",
    "\n",
    "$^*$ Какой член последовательности можно взять в качестве предела с точностью $\\varepsilon=10^{-7}$?"
   ]
  },
  {
   "cell_type": "markdown",
   "metadata": {
    "id": "f8XLFh7pRxqW"
   },
   "source": [
    "__5$^*$.__  Пользуясь критерием Коши, докажите расходимость последовательности:\n",
    "\n",
    "### $$b_n=1+\\frac{1}{2}+\\frac{1}{3}+..\\frac{1}{n}\\,\\,\\,\\,\\,\\Rightarrow$$\n",
    "\n",
    "### $$\\Bigl\\{b_n\\Bigr\\}_{n=1}^\\infty=\\Bigl\\{1, 1+\\frac{1}{2},1+\\frac{1}{2}+\\frac{1}{3}, ..., b_n,...\\Bigr\\}$$"
   ]
  }
 ],
 "metadata": {
  "colab": {
   "collapsed_sections": [],
   "name": "Lesson_3.ipynb",
   "provenance": []
  },
  "kernelspec": {
   "display_name": "Python 3",
   "language": "python",
   "name": "python3"
  },
  "language_info": {
   "codemirror_mode": {
    "name": "ipython",
    "version": 3
   },
   "file_extension": ".py",
   "mimetype": "text/x-python",
   "name": "python",
   "nbconvert_exporter": "python",
   "pygments_lexer": "ipython3",
   "version": "3.8.3"
  }
 },
 "nbformat": 4,
 "nbformat_minor": 1
}
